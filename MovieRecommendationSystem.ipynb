{
  "nbformat": 4,
  "nbformat_minor": 0,
  "metadata": {
    "colab": {
      "provenance": [],
      "authorship_tag": "ABX9TyNe3kx6uBzwoqcKjIutLnLM",
      "include_colab_link": true
    },
    "kernelspec": {
      "name": "python3",
      "display_name": "Python 3"
    },
    "language_info": {
      "name": "python"
    }
  },
  "cells": [
    {
      "cell_type": "markdown",
      "metadata": {
        "id": "view-in-github",
        "colab_type": "text"
      },
      "source": [
        "<a href=\"https://colab.research.google.com/github/Bharath9380/MOVIE-RECOMMENDATION-SYSTEM/blob/main/MovieRecommendationSystem.ipynb\" target=\"_parent\"><img src=\"https://colab.research.google.com/assets/colab-badge.svg\" alt=\"Open In Colab\"/></a>"
      ]
    },
    {
      "cell_type": "markdown",
      "source": [
        "# **MOVIES RECOMMENDATION SYSTEM**"
      ],
      "metadata": {
        "id": "XcPpHwFJ2WGg"
      }
    },
    {
      "cell_type": "markdown",
      "source": [
        "# **Import Library**"
      ],
      "metadata": {
        "id": "_jAQORlk2pmG"
      }
    },
    {
      "cell_type": "code",
      "source": [
        "import pandas as pd"
      ],
      "metadata": {
        "id": "kOiOUhWg23vo"
      },
      "execution_count": null,
      "outputs": []
    },
    {
      "cell_type": "code",
      "source": [
        "import numpy as np"
      ],
      "metadata": {
        "id": "bzfvf7O12_sL"
      },
      "execution_count": null,
      "outputs": []
    },
    {
      "cell_type": "markdown",
      "source": [
        "## **Import Dataset**"
      ],
      "metadata": {
        "id": "O0FWhIk_3lkc"
      }
    },
    {
      "cell_type": "code",
      "source": [
        "df = pd.read_csv(r'/content/Movies Recommendation.csv')"
      ],
      "metadata": {
        "id": "qRHGIOcm3ubZ"
      },
      "execution_count": null,
      "outputs": []
    },
    {
      "cell_type": "code",
      "source": [
        "df.head()"
      ],
      "metadata": {
        "colab": {
          "base_uri": "https://localhost:8080/",
          "height": 672
        },
        "id": "gV7doKyW3xzI",
        "outputId": "eb801c61-2eb6-4153-bdae-a2dcb761efeb"
      },
      "execution_count": null,
      "outputs": [
        {
          "output_type": "execute_result",
          "data": {
            "text/plain": [
              "   Movie_ID      Movie_Title                       Movie_Genre Movie_Language  \\\n",
              "0         1       Four Rooms                      Crime Comedy             en   \n",
              "1         2        Star Wars  Adventure Action Science Fiction             en   \n",
              "2         3     Finding Nemo                  Animation Family             en   \n",
              "3         4     Forrest Gump              Comedy Drama Romance             en   \n",
              "4         5  American Beauty                             Drama             en   \n",
              "\n",
              "   Movie_Budget  Movie_Popularity Movie_Release_Date  Movie_Revenue  \\\n",
              "0       4000000         22.876230         09-12-1995        4300000   \n",
              "1      11000000        126.393695         25-05-1977      775398007   \n",
              "2      94000000         85.688789         30-05-2003      940335536   \n",
              "3      55000000        138.133331         06-07-1994      677945399   \n",
              "4      15000000         80.878605         15-09-1999      356296601   \n",
              "\n",
              "   Movie_Runtime  Movie_Vote  ...  \\\n",
              "0           98.0         6.5  ...   \n",
              "1          121.0         8.1  ...   \n",
              "2          100.0         7.6  ...   \n",
              "3          142.0         8.2  ...   \n",
              "4          122.0         7.9  ...   \n",
              "\n",
              "                                      Movie_Homepage  \\\n",
              "0                                                NaN   \n",
              "1  http://www.starwars.com/films/star-wars-episod...   \n",
              "2              http://movies.disney.com/finding-nemo   \n",
              "3                                                NaN   \n",
              "4                      http://www.dreamworks.com/ab/   \n",
              "\n",
              "                                      Movie_Keywords  \\\n",
              "0          hotel new year's eve witch bet hotel room   \n",
              "1        android galaxy hermit death star lightsaber   \n",
              "2  father son relationship harbor underwater fish...   \n",
              "3  vietnam veteran hippie mentally disabled runni...   \n",
              "4  male nudity female nudity adultery midlife cri...   \n",
              "\n",
              "                                      Movie_Overview  \\\n",
              "0  It's Ted the Bellhop's first night on the job....   \n",
              "1  Princess Leia is captured and held hostage by ...   \n",
              "2  Nemo, an adventurous young clownfish, is unexp...   \n",
              "3  A man with a low IQ has accomplished great thi...   \n",
              "4  Lester Burnham, a depressed suburban father in...   \n",
              "\n",
              "                              Movie_Production_House  \\\n",
              "0  [{\"name\": \"Miramax Films\", \"id\": 14}, {\"name\":...   \n",
              "1  [{\"name\": \"Lucasfilm\", \"id\": 1}, {\"name\": \"Twe...   \n",
              "2     [{\"name\": \"Pixar Animation Studios\", \"id\": 3}]   \n",
              "3          [{\"name\": \"Paramount Pictures\", \"id\": 4}]   \n",
              "4  [{\"name\": \"DreamWorks SKG\", \"id\": 27}, {\"name\"...   \n",
              "\n",
              "                            Movie_Production_Country  \\\n",
              "0  [{\"iso_3166_1\": \"US\", \"name\": \"United States o...   \n",
              "1  [{\"iso_3166_1\": \"US\", \"name\": \"United States o...   \n",
              "2  [{\"iso_3166_1\": \"US\", \"name\": \"United States o...   \n",
              "3  [{\"iso_3166_1\": \"US\", \"name\": \"United States o...   \n",
              "4  [{\"iso_3166_1\": \"US\", \"name\": \"United States o...   \n",
              "\n",
              "                      Movie_Spoken_Language  \\\n",
              "0  [{\"iso_639_1\": \"en\", \"name\": \"English\"}]   \n",
              "1  [{\"iso_639_1\": \"en\", \"name\": \"English\"}]   \n",
              "2  [{\"iso_639_1\": \"en\", \"name\": \"English\"}]   \n",
              "3  [{\"iso_639_1\": \"en\", \"name\": \"English\"}]   \n",
              "4  [{\"iso_639_1\": \"en\", \"name\": \"English\"}]   \n",
              "\n",
              "                                       Movie_Tagline  \\\n",
              "0  Twelve outrageous guests. Four scandalous requ...   \n",
              "1       A long time ago in a galaxy far, far away...   \n",
              "2  There are 3.7 trillion fish in the ocean, they...   \n",
              "3  The world will never be the same, once you've ...   \n",
              "4                                       Look closer.   \n",
              "\n",
              "                                          Movie_Cast  \\\n",
              "0  Tim Roth Antonio Banderas Jennifer Beals Madon...   \n",
              "1  Mark Hamill Harrison Ford Carrie Fisher Peter ...   \n",
              "2  Albert Brooks Ellen DeGeneres Alexander Gould ...   \n",
              "3  Tom Hanks Robin Wright Gary Sinise Mykelti Wil...   \n",
              "4  Kevin Spacey Annette Bening Thora Birch Wes Be...   \n",
              "\n",
              "                                          Movie_Crew   Movie_Director  \n",
              "0  [{'name': 'Allison Anders', 'gender': 1, 'depa...   Allison Anders  \n",
              "1  [{'name': 'George Lucas', 'gender': 2, 'depart...     George Lucas  \n",
              "2  [{'name': 'Andrew Stanton', 'gender': 2, 'depa...   Andrew Stanton  \n",
              "3  [{'name': 'Alan Silvestri', 'gender': 2, 'depa...  Robert Zemeckis  \n",
              "4  [{'name': 'Thomas Newman', 'gender': 2, 'depar...       Sam Mendes  \n",
              "\n",
              "[5 rows x 21 columns]"
            ],
            "text/html": [
              "\n",
              "  <div id=\"df-f7ce1d6b-6c7d-471e-aabd-3385b3d1581e\" class=\"colab-df-container\">\n",
              "    <div>\n",
              "<style scoped>\n",
              "    .dataframe tbody tr th:only-of-type {\n",
              "        vertical-align: middle;\n",
              "    }\n",
              "\n",
              "    .dataframe tbody tr th {\n",
              "        vertical-align: top;\n",
              "    }\n",
              "\n",
              "    .dataframe thead th {\n",
              "        text-align: right;\n",
              "    }\n",
              "</style>\n",
              "<table border=\"1\" class=\"dataframe\">\n",
              "  <thead>\n",
              "    <tr style=\"text-align: right;\">\n",
              "      <th></th>\n",
              "      <th>Movie_ID</th>\n",
              "      <th>Movie_Title</th>\n",
              "      <th>Movie_Genre</th>\n",
              "      <th>Movie_Language</th>\n",
              "      <th>Movie_Budget</th>\n",
              "      <th>Movie_Popularity</th>\n",
              "      <th>Movie_Release_Date</th>\n",
              "      <th>Movie_Revenue</th>\n",
              "      <th>Movie_Runtime</th>\n",
              "      <th>Movie_Vote</th>\n",
              "      <th>...</th>\n",
              "      <th>Movie_Homepage</th>\n",
              "      <th>Movie_Keywords</th>\n",
              "      <th>Movie_Overview</th>\n",
              "      <th>Movie_Production_House</th>\n",
              "      <th>Movie_Production_Country</th>\n",
              "      <th>Movie_Spoken_Language</th>\n",
              "      <th>Movie_Tagline</th>\n",
              "      <th>Movie_Cast</th>\n",
              "      <th>Movie_Crew</th>\n",
              "      <th>Movie_Director</th>\n",
              "    </tr>\n",
              "  </thead>\n",
              "  <tbody>\n",
              "    <tr>\n",
              "      <th>0</th>\n",
              "      <td>1</td>\n",
              "      <td>Four Rooms</td>\n",
              "      <td>Crime Comedy</td>\n",
              "      <td>en</td>\n",
              "      <td>4000000</td>\n",
              "      <td>22.876230</td>\n",
              "      <td>09-12-1995</td>\n",
              "      <td>4300000</td>\n",
              "      <td>98.0</td>\n",
              "      <td>6.5</td>\n",
              "      <td>...</td>\n",
              "      <td>NaN</td>\n",
              "      <td>hotel new year's eve witch bet hotel room</td>\n",
              "      <td>It's Ted the Bellhop's first night on the job....</td>\n",
              "      <td>[{\"name\": \"Miramax Films\", \"id\": 14}, {\"name\":...</td>\n",
              "      <td>[{\"iso_3166_1\": \"US\", \"name\": \"United States o...</td>\n",
              "      <td>[{\"iso_639_1\": \"en\", \"name\": \"English\"}]</td>\n",
              "      <td>Twelve outrageous guests. Four scandalous requ...</td>\n",
              "      <td>Tim Roth Antonio Banderas Jennifer Beals Madon...</td>\n",
              "      <td>[{'name': 'Allison Anders', 'gender': 1, 'depa...</td>\n",
              "      <td>Allison Anders</td>\n",
              "    </tr>\n",
              "    <tr>\n",
              "      <th>1</th>\n",
              "      <td>2</td>\n",
              "      <td>Star Wars</td>\n",
              "      <td>Adventure Action Science Fiction</td>\n",
              "      <td>en</td>\n",
              "      <td>11000000</td>\n",
              "      <td>126.393695</td>\n",
              "      <td>25-05-1977</td>\n",
              "      <td>775398007</td>\n",
              "      <td>121.0</td>\n",
              "      <td>8.1</td>\n",
              "      <td>...</td>\n",
              "      <td>http://www.starwars.com/films/star-wars-episod...</td>\n",
              "      <td>android galaxy hermit death star lightsaber</td>\n",
              "      <td>Princess Leia is captured and held hostage by ...</td>\n",
              "      <td>[{\"name\": \"Lucasfilm\", \"id\": 1}, {\"name\": \"Twe...</td>\n",
              "      <td>[{\"iso_3166_1\": \"US\", \"name\": \"United States o...</td>\n",
              "      <td>[{\"iso_639_1\": \"en\", \"name\": \"English\"}]</td>\n",
              "      <td>A long time ago in a galaxy far, far away...</td>\n",
              "      <td>Mark Hamill Harrison Ford Carrie Fisher Peter ...</td>\n",
              "      <td>[{'name': 'George Lucas', 'gender': 2, 'depart...</td>\n",
              "      <td>George Lucas</td>\n",
              "    </tr>\n",
              "    <tr>\n",
              "      <th>2</th>\n",
              "      <td>3</td>\n",
              "      <td>Finding Nemo</td>\n",
              "      <td>Animation Family</td>\n",
              "      <td>en</td>\n",
              "      <td>94000000</td>\n",
              "      <td>85.688789</td>\n",
              "      <td>30-05-2003</td>\n",
              "      <td>940335536</td>\n",
              "      <td>100.0</td>\n",
              "      <td>7.6</td>\n",
              "      <td>...</td>\n",
              "      <td>http://movies.disney.com/finding-nemo</td>\n",
              "      <td>father son relationship harbor underwater fish...</td>\n",
              "      <td>Nemo, an adventurous young clownfish, is unexp...</td>\n",
              "      <td>[{\"name\": \"Pixar Animation Studios\", \"id\": 3}]</td>\n",
              "      <td>[{\"iso_3166_1\": \"US\", \"name\": \"United States o...</td>\n",
              "      <td>[{\"iso_639_1\": \"en\", \"name\": \"English\"}]</td>\n",
              "      <td>There are 3.7 trillion fish in the ocean, they...</td>\n",
              "      <td>Albert Brooks Ellen DeGeneres Alexander Gould ...</td>\n",
              "      <td>[{'name': 'Andrew Stanton', 'gender': 2, 'depa...</td>\n",
              "      <td>Andrew Stanton</td>\n",
              "    </tr>\n",
              "    <tr>\n",
              "      <th>3</th>\n",
              "      <td>4</td>\n",
              "      <td>Forrest Gump</td>\n",
              "      <td>Comedy Drama Romance</td>\n",
              "      <td>en</td>\n",
              "      <td>55000000</td>\n",
              "      <td>138.133331</td>\n",
              "      <td>06-07-1994</td>\n",
              "      <td>677945399</td>\n",
              "      <td>142.0</td>\n",
              "      <td>8.2</td>\n",
              "      <td>...</td>\n",
              "      <td>NaN</td>\n",
              "      <td>vietnam veteran hippie mentally disabled runni...</td>\n",
              "      <td>A man with a low IQ has accomplished great thi...</td>\n",
              "      <td>[{\"name\": \"Paramount Pictures\", \"id\": 4}]</td>\n",
              "      <td>[{\"iso_3166_1\": \"US\", \"name\": \"United States o...</td>\n",
              "      <td>[{\"iso_639_1\": \"en\", \"name\": \"English\"}]</td>\n",
              "      <td>The world will never be the same, once you've ...</td>\n",
              "      <td>Tom Hanks Robin Wright Gary Sinise Mykelti Wil...</td>\n",
              "      <td>[{'name': 'Alan Silvestri', 'gender': 2, 'depa...</td>\n",
              "      <td>Robert Zemeckis</td>\n",
              "    </tr>\n",
              "    <tr>\n",
              "      <th>4</th>\n",
              "      <td>5</td>\n",
              "      <td>American Beauty</td>\n",
              "      <td>Drama</td>\n",
              "      <td>en</td>\n",
              "      <td>15000000</td>\n",
              "      <td>80.878605</td>\n",
              "      <td>15-09-1999</td>\n",
              "      <td>356296601</td>\n",
              "      <td>122.0</td>\n",
              "      <td>7.9</td>\n",
              "      <td>...</td>\n",
              "      <td>http://www.dreamworks.com/ab/</td>\n",
              "      <td>male nudity female nudity adultery midlife cri...</td>\n",
              "      <td>Lester Burnham, a depressed suburban father in...</td>\n",
              "      <td>[{\"name\": \"DreamWorks SKG\", \"id\": 27}, {\"name\"...</td>\n",
              "      <td>[{\"iso_3166_1\": \"US\", \"name\": \"United States o...</td>\n",
              "      <td>[{\"iso_639_1\": \"en\", \"name\": \"English\"}]</td>\n",
              "      <td>Look closer.</td>\n",
              "      <td>Kevin Spacey Annette Bening Thora Birch Wes Be...</td>\n",
              "      <td>[{'name': 'Thomas Newman', 'gender': 2, 'depar...</td>\n",
              "      <td>Sam Mendes</td>\n",
              "    </tr>\n",
              "  </tbody>\n",
              "</table>\n",
              "<p>5 rows × 21 columns</p>\n",
              "</div>\n",
              "    <div class=\"colab-df-buttons\">\n",
              "\n",
              "  <div class=\"colab-df-container\">\n",
              "    <button class=\"colab-df-convert\" onclick=\"convertToInteractive('df-f7ce1d6b-6c7d-471e-aabd-3385b3d1581e')\"\n",
              "            title=\"Convert this dataframe to an interactive table.\"\n",
              "            style=\"display:none;\">\n",
              "\n",
              "  <svg xmlns=\"http://www.w3.org/2000/svg\" height=\"24px\" viewBox=\"0 -960 960 960\">\n",
              "    <path d=\"M120-120v-720h720v720H120Zm60-500h600v-160H180v160Zm220 220h160v-160H400v160Zm0 220h160v-160H400v160ZM180-400h160v-160H180v160Zm440 0h160v-160H620v160ZM180-180h160v-160H180v160Zm440 0h160v-160H620v160Z\"/>\n",
              "  </svg>\n",
              "    </button>\n",
              "\n",
              "  <style>\n",
              "    .colab-df-container {\n",
              "      display:flex;\n",
              "      gap: 12px;\n",
              "    }\n",
              "\n",
              "    .colab-df-convert {\n",
              "      background-color: #E8F0FE;\n",
              "      border: none;\n",
              "      border-radius: 50%;\n",
              "      cursor: pointer;\n",
              "      display: none;\n",
              "      fill: #1967D2;\n",
              "      height: 32px;\n",
              "      padding: 0 0 0 0;\n",
              "      width: 32px;\n",
              "    }\n",
              "\n",
              "    .colab-df-convert:hover {\n",
              "      background-color: #E2EBFA;\n",
              "      box-shadow: 0px 1px 2px rgba(60, 64, 67, 0.3), 0px 1px 3px 1px rgba(60, 64, 67, 0.15);\n",
              "      fill: #174EA6;\n",
              "    }\n",
              "\n",
              "    .colab-df-buttons div {\n",
              "      margin-bottom: 4px;\n",
              "    }\n",
              "\n",
              "    [theme=dark] .colab-df-convert {\n",
              "      background-color: #3B4455;\n",
              "      fill: #D2E3FC;\n",
              "    }\n",
              "\n",
              "    [theme=dark] .colab-df-convert:hover {\n",
              "      background-color: #434B5C;\n",
              "      box-shadow: 0px 1px 3px 1px rgba(0, 0, 0, 0.15);\n",
              "      filter: drop-shadow(0px 1px 2px rgba(0, 0, 0, 0.3));\n",
              "      fill: #FFFFFF;\n",
              "    }\n",
              "  </style>\n",
              "\n",
              "    <script>\n",
              "      const buttonEl =\n",
              "        document.querySelector('#df-f7ce1d6b-6c7d-471e-aabd-3385b3d1581e button.colab-df-convert');\n",
              "      buttonEl.style.display =\n",
              "        google.colab.kernel.accessAllowed ? 'block' : 'none';\n",
              "\n",
              "      async function convertToInteractive(key) {\n",
              "        const element = document.querySelector('#df-f7ce1d6b-6c7d-471e-aabd-3385b3d1581e');\n",
              "        const dataTable =\n",
              "          await google.colab.kernel.invokeFunction('convertToInteractive',\n",
              "                                                    [key], {});\n",
              "        if (!dataTable) return;\n",
              "\n",
              "        const docLinkHtml = 'Like what you see? Visit the ' +\n",
              "          '<a target=\"_blank\" href=https://colab.research.google.com/notebooks/data_table.ipynb>data table notebook</a>'\n",
              "          + ' to learn more about interactive tables.';\n",
              "        element.innerHTML = '';\n",
              "        dataTable['output_type'] = 'display_data';\n",
              "        await google.colab.output.renderOutput(dataTable, element);\n",
              "        const docLink = document.createElement('div');\n",
              "        docLink.innerHTML = docLinkHtml;\n",
              "        element.appendChild(docLink);\n",
              "      }\n",
              "    </script>\n",
              "  </div>\n",
              "\n",
              "\n",
              "<div id=\"df-5a6b9437-e685-4244-88d9-70bb5db0bfe3\">\n",
              "  <button class=\"colab-df-quickchart\" onclick=\"quickchart('df-5a6b9437-e685-4244-88d9-70bb5db0bfe3')\"\n",
              "            title=\"Suggest charts\"\n",
              "            style=\"display:none;\">\n",
              "\n",
              "<svg xmlns=\"http://www.w3.org/2000/svg\" height=\"24px\"viewBox=\"0 0 24 24\"\n",
              "     width=\"24px\">\n",
              "    <g>\n",
              "        <path d=\"M19 3H5c-1.1 0-2 .9-2 2v14c0 1.1.9 2 2 2h14c1.1 0 2-.9 2-2V5c0-1.1-.9-2-2-2zM9 17H7v-7h2v7zm4 0h-2V7h2v10zm4 0h-2v-4h2v4z\"/>\n",
              "    </g>\n",
              "</svg>\n",
              "  </button>\n",
              "\n",
              "<style>\n",
              "  .colab-df-quickchart {\n",
              "      --bg-color: #E8F0FE;\n",
              "      --fill-color: #1967D2;\n",
              "      --hover-bg-color: #E2EBFA;\n",
              "      --hover-fill-color: #174EA6;\n",
              "      --disabled-fill-color: #AAA;\n",
              "      --disabled-bg-color: #DDD;\n",
              "  }\n",
              "\n",
              "  [theme=dark] .colab-df-quickchart {\n",
              "      --bg-color: #3B4455;\n",
              "      --fill-color: #D2E3FC;\n",
              "      --hover-bg-color: #434B5C;\n",
              "      --hover-fill-color: #FFFFFF;\n",
              "      --disabled-bg-color: #3B4455;\n",
              "      --disabled-fill-color: #666;\n",
              "  }\n",
              "\n",
              "  .colab-df-quickchart {\n",
              "    background-color: var(--bg-color);\n",
              "    border: none;\n",
              "    border-radius: 50%;\n",
              "    cursor: pointer;\n",
              "    display: none;\n",
              "    fill: var(--fill-color);\n",
              "    height: 32px;\n",
              "    padding: 0;\n",
              "    width: 32px;\n",
              "  }\n",
              "\n",
              "  .colab-df-quickchart:hover {\n",
              "    background-color: var(--hover-bg-color);\n",
              "    box-shadow: 0 1px 2px rgba(60, 64, 67, 0.3), 0 1px 3px 1px rgba(60, 64, 67, 0.15);\n",
              "    fill: var(--button-hover-fill-color);\n",
              "  }\n",
              "\n",
              "  .colab-df-quickchart-complete:disabled,\n",
              "  .colab-df-quickchart-complete:disabled:hover {\n",
              "    background-color: var(--disabled-bg-color);\n",
              "    fill: var(--disabled-fill-color);\n",
              "    box-shadow: none;\n",
              "  }\n",
              "\n",
              "  .colab-df-spinner {\n",
              "    border: 2px solid var(--fill-color);\n",
              "    border-color: transparent;\n",
              "    border-bottom-color: var(--fill-color);\n",
              "    animation:\n",
              "      spin 1s steps(1) infinite;\n",
              "  }\n",
              "\n",
              "  @keyframes spin {\n",
              "    0% {\n",
              "      border-color: transparent;\n",
              "      border-bottom-color: var(--fill-color);\n",
              "      border-left-color: var(--fill-color);\n",
              "    }\n",
              "    20% {\n",
              "      border-color: transparent;\n",
              "      border-left-color: var(--fill-color);\n",
              "      border-top-color: var(--fill-color);\n",
              "    }\n",
              "    30% {\n",
              "      border-color: transparent;\n",
              "      border-left-color: var(--fill-color);\n",
              "      border-top-color: var(--fill-color);\n",
              "      border-right-color: var(--fill-color);\n",
              "    }\n",
              "    40% {\n",
              "      border-color: transparent;\n",
              "      border-right-color: var(--fill-color);\n",
              "      border-top-color: var(--fill-color);\n",
              "    }\n",
              "    60% {\n",
              "      border-color: transparent;\n",
              "      border-right-color: var(--fill-color);\n",
              "    }\n",
              "    80% {\n",
              "      border-color: transparent;\n",
              "      border-right-color: var(--fill-color);\n",
              "      border-bottom-color: var(--fill-color);\n",
              "    }\n",
              "    90% {\n",
              "      border-color: transparent;\n",
              "      border-bottom-color: var(--fill-color);\n",
              "    }\n",
              "  }\n",
              "</style>\n",
              "\n",
              "  <script>\n",
              "    async function quickchart(key) {\n",
              "      const quickchartButtonEl =\n",
              "        document.querySelector('#' + key + ' button');\n",
              "      quickchartButtonEl.disabled = true;  // To prevent multiple clicks.\n",
              "      quickchartButtonEl.classList.add('colab-df-spinner');\n",
              "      try {\n",
              "        const charts = await google.colab.kernel.invokeFunction(\n",
              "            'suggestCharts', [key], {});\n",
              "      } catch (error) {\n",
              "        console.error('Error during call to suggestCharts:', error);\n",
              "      }\n",
              "      quickchartButtonEl.classList.remove('colab-df-spinner');\n",
              "      quickchartButtonEl.classList.add('colab-df-quickchart-complete');\n",
              "    }\n",
              "    (() => {\n",
              "      let quickchartButtonEl =\n",
              "        document.querySelector('#df-5a6b9437-e685-4244-88d9-70bb5db0bfe3 button');\n",
              "      quickchartButtonEl.style.display =\n",
              "        google.colab.kernel.accessAllowed ? 'block' : 'none';\n",
              "    })();\n",
              "  </script>\n",
              "</div>\n",
              "\n",
              "    </div>\n",
              "  </div>\n"
            ],
            "application/vnd.google.colaboratory.intrinsic+json": {
              "type": "dataframe",
              "variable_name": "df"
            }
          },
          "metadata": {},
          "execution_count": 7
        }
      ]
    },
    {
      "cell_type": "code",
      "source": [
        "df.info()"
      ],
      "metadata": {
        "colab": {
          "base_uri": "https://localhost:8080/"
        },
        "id": "6L02WbPm32Cy",
        "outputId": "e27bd6ef-4bce-47c9-a41e-0c94ba6f997c"
      },
      "execution_count": null,
      "outputs": [
        {
          "output_type": "stream",
          "name": "stdout",
          "text": [
            "<class 'pandas.core.frame.DataFrame'>\n",
            "RangeIndex: 4760 entries, 0 to 4759\n",
            "Data columns (total 21 columns):\n",
            " #   Column                    Non-Null Count  Dtype  \n",
            "---  ------                    --------------  -----  \n",
            " 0   Movie_ID                  4760 non-null   int64  \n",
            " 1   Movie_Title               4760 non-null   object \n",
            " 2   Movie_Genre               4760 non-null   object \n",
            " 3   Movie_Language            4760 non-null   object \n",
            " 4   Movie_Budget              4760 non-null   int64  \n",
            " 5   Movie_Popularity          4760 non-null   float64\n",
            " 6   Movie_Release_Date        4760 non-null   object \n",
            " 7   Movie_Revenue             4760 non-null   int64  \n",
            " 8   Movie_Runtime             4758 non-null   float64\n",
            " 9   Movie_Vote                4760 non-null   float64\n",
            " 10  Movie_Vote_Count          4760 non-null   int64  \n",
            " 11  Movie_Homepage            1699 non-null   object \n",
            " 12  Movie_Keywords            4373 non-null   object \n",
            " 13  Movie_Overview            4757 non-null   object \n",
            " 14  Movie_Production_House    4760 non-null   object \n",
            " 15  Movie_Production_Country  4760 non-null   object \n",
            " 16  Movie_Spoken_Language     4760 non-null   object \n",
            " 17  Movie_Tagline             3942 non-null   object \n",
            " 18  Movie_Cast                4733 non-null   object \n",
            " 19  Movie_Crew                4760 non-null   object \n",
            " 20  Movie_Director            4738 non-null   object \n",
            "dtypes: float64(3), int64(4), object(14)\n",
            "memory usage: 781.1+ KB\n"
          ]
        }
      ]
    },
    {
      "cell_type": "code",
      "source": [
        "df.shape"
      ],
      "metadata": {
        "colab": {
          "base_uri": "https://localhost:8080/"
        },
        "id": "Wbv0TIl24BQP",
        "outputId": "f572f3de-67cc-4e3b-8daf-c813aa4d4cd5"
      },
      "execution_count": null,
      "outputs": [
        {
          "output_type": "execute_result",
          "data": {
            "text/plain": [
              "(4760, 21)"
            ]
          },
          "metadata": {},
          "execution_count": 8
        }
      ]
    },
    {
      "cell_type": "code",
      "source": [
        "df.columns"
      ],
      "metadata": {
        "colab": {
          "base_uri": "https://localhost:8080/"
        },
        "id": "TXfI7NTB4Ewp",
        "outputId": "9931112d-1158-4a9b-b686-01013eb2ee0c"
      },
      "execution_count": null,
      "outputs": [
        {
          "output_type": "execute_result",
          "data": {
            "text/plain": [
              "Index(['Movie_ID', 'Movie_Title', 'Movie_Genre', 'Movie_Language',\n",
              "       'Movie_Budget', 'Movie_Popularity', 'Movie_Release_Date',\n",
              "       'Movie_Revenue', 'Movie_Runtime', 'Movie_Vote', 'Movie_Vote_Count',\n",
              "       'Movie_Homepage', 'Movie_Keywords', 'Movie_Overview',\n",
              "       'Movie_Production_House', 'Movie_Production_Country',\n",
              "       'Movie_Spoken_Language', 'Movie_Tagline', 'Movie_Cast', 'Movie_Crew',\n",
              "       'Movie_Director'],\n",
              "      dtype='object')"
            ]
          },
          "metadata": {},
          "execution_count": 9
        }
      ]
    },
    {
      "cell_type": "markdown",
      "source": [
        "# **Get Feature Selection**"
      ],
      "metadata": {
        "id": "g5nk_eHj4OPJ"
      }
    },
    {
      "cell_type": "code",
      "source": [
        "df_features = df[['Movie_Genre','Movie_Keywords','Movie_Tagline','Movie_Cast','Movie_Director']].fillna('')"
      ],
      "metadata": {
        "id": "45oJL6LT4VAy"
      },
      "execution_count": null,
      "outputs": []
    },
    {
      "cell_type": "code",
      "source": [
        "df_features.shape"
      ],
      "metadata": {
        "colab": {
          "base_uri": "https://localhost:8080/"
        },
        "id": "WbF4_J4l4ZZC",
        "outputId": "9b30a367-4d08-4be5-e30b-40b859353b30"
      },
      "execution_count": null,
      "outputs": [
        {
          "output_type": "execute_result",
          "data": {
            "text/plain": [
              "(4760, 5)"
            ]
          },
          "metadata": {},
          "execution_count": 11
        }
      ]
    },
    {
      "cell_type": "code",
      "source": [
        "df_features"
      ],
      "metadata": {
        "colab": {
          "base_uri": "https://localhost:8080/",
          "height": 580
        },
        "id": "vy0FEDqo4caA",
        "outputId": "905d5111-18fd-48b4-eac9-af411a59646e"
      },
      "execution_count": null,
      "outputs": [
        {
          "output_type": "execute_result",
          "data": {
            "text/plain": [
              "                           Movie_Genre  \\\n",
              "0                         Crime Comedy   \n",
              "1     Adventure Action Science Fiction   \n",
              "2                     Animation Family   \n",
              "3                 Comedy Drama Romance   \n",
              "4                                Drama   \n",
              "...                                ...   \n",
              "4755                            Horror   \n",
              "4756               Comedy Family Drama   \n",
              "4757                    Thriller Drama   \n",
              "4758                            Family   \n",
              "4759                       Documentary   \n",
              "\n",
              "                                         Movie_Keywords  \\\n",
              "0             hotel new year's eve witch bet hotel room   \n",
              "1           android galaxy hermit death star lightsaber   \n",
              "2     father son relationship harbor underwater fish...   \n",
              "3     vietnam veteran hippie mentally disabled runni...   \n",
              "4     male nudity female nudity adultery midlife cri...   \n",
              "...                                                 ...   \n",
              "4755                                                      \n",
              "4756                                                      \n",
              "4757                     christian film sex trafficking   \n",
              "4758                                                      \n",
              "4759  music actors legendary perfomer classic hollyw...   \n",
              "\n",
              "                                          Movie_Tagline  \\\n",
              "0     Twelve outrageous guests. Four scandalous requ...   \n",
              "1          A long time ago in a galaxy far, far away...   \n",
              "2     There are 3.7 trillion fish in the ocean, they...   \n",
              "3     The world will never be the same, once you've ...   \n",
              "4                                          Look closer.   \n",
              "...                                                 ...   \n",
              "4755                The hot spot where Satan's waitin'.   \n",
              "4756           It’s better to stand out than to fit in.   \n",
              "4757           She never knew it could happen to her...   \n",
              "4758                                                      \n",
              "4759                                                      \n",
              "\n",
              "                                             Movie_Cast     Movie_Director  \n",
              "0     Tim Roth Antonio Banderas Jennifer Beals Madon...     Allison Anders  \n",
              "1     Mark Hamill Harrison Ford Carrie Fisher Peter ...       George Lucas  \n",
              "2     Albert Brooks Ellen DeGeneres Alexander Gould ...     Andrew Stanton  \n",
              "3     Tom Hanks Robin Wright Gary Sinise Mykelti Wil...    Robert Zemeckis  \n",
              "4     Kevin Spacey Annette Bening Thora Birch Wes Be...         Sam Mendes  \n",
              "...                                                 ...                ...  \n",
              "4755  Lisa Hart Carroll Michael Des Barres Paul Drak...         Pece Dingo  \n",
              "4756  Roni Akurati Brighton Sharbino Jason Lee Anjul...       Frank Lotito  \n",
              "4757  Nicole Smolen Kim Baldwin Ariana Stephens Brys...       Jaco Booyens  \n",
              "4758                                                                        \n",
              "4759                                    Tony Oppedisano  Simon Napier-Bell  \n",
              "\n",
              "[4760 rows x 5 columns]"
            ],
            "text/html": [
              "\n",
              "  <div id=\"df-97cf9527-ed9c-4de1-917d-bb5bfee3abd1\" class=\"colab-df-container\">\n",
              "    <div>\n",
              "<style scoped>\n",
              "    .dataframe tbody tr th:only-of-type {\n",
              "        vertical-align: middle;\n",
              "    }\n",
              "\n",
              "    .dataframe tbody tr th {\n",
              "        vertical-align: top;\n",
              "    }\n",
              "\n",
              "    .dataframe thead th {\n",
              "        text-align: right;\n",
              "    }\n",
              "</style>\n",
              "<table border=\"1\" class=\"dataframe\">\n",
              "  <thead>\n",
              "    <tr style=\"text-align: right;\">\n",
              "      <th></th>\n",
              "      <th>Movie_Genre</th>\n",
              "      <th>Movie_Keywords</th>\n",
              "      <th>Movie_Tagline</th>\n",
              "      <th>Movie_Cast</th>\n",
              "      <th>Movie_Director</th>\n",
              "    </tr>\n",
              "  </thead>\n",
              "  <tbody>\n",
              "    <tr>\n",
              "      <th>0</th>\n",
              "      <td>Crime Comedy</td>\n",
              "      <td>hotel new year's eve witch bet hotel room</td>\n",
              "      <td>Twelve outrageous guests. Four scandalous requ...</td>\n",
              "      <td>Tim Roth Antonio Banderas Jennifer Beals Madon...</td>\n",
              "      <td>Allison Anders</td>\n",
              "    </tr>\n",
              "    <tr>\n",
              "      <th>1</th>\n",
              "      <td>Adventure Action Science Fiction</td>\n",
              "      <td>android galaxy hermit death star lightsaber</td>\n",
              "      <td>A long time ago in a galaxy far, far away...</td>\n",
              "      <td>Mark Hamill Harrison Ford Carrie Fisher Peter ...</td>\n",
              "      <td>George Lucas</td>\n",
              "    </tr>\n",
              "    <tr>\n",
              "      <th>2</th>\n",
              "      <td>Animation Family</td>\n",
              "      <td>father son relationship harbor underwater fish...</td>\n",
              "      <td>There are 3.7 trillion fish in the ocean, they...</td>\n",
              "      <td>Albert Brooks Ellen DeGeneres Alexander Gould ...</td>\n",
              "      <td>Andrew Stanton</td>\n",
              "    </tr>\n",
              "    <tr>\n",
              "      <th>3</th>\n",
              "      <td>Comedy Drama Romance</td>\n",
              "      <td>vietnam veteran hippie mentally disabled runni...</td>\n",
              "      <td>The world will never be the same, once you've ...</td>\n",
              "      <td>Tom Hanks Robin Wright Gary Sinise Mykelti Wil...</td>\n",
              "      <td>Robert Zemeckis</td>\n",
              "    </tr>\n",
              "    <tr>\n",
              "      <th>4</th>\n",
              "      <td>Drama</td>\n",
              "      <td>male nudity female nudity adultery midlife cri...</td>\n",
              "      <td>Look closer.</td>\n",
              "      <td>Kevin Spacey Annette Bening Thora Birch Wes Be...</td>\n",
              "      <td>Sam Mendes</td>\n",
              "    </tr>\n",
              "    <tr>\n",
              "      <th>...</th>\n",
              "      <td>...</td>\n",
              "      <td>...</td>\n",
              "      <td>...</td>\n",
              "      <td>...</td>\n",
              "      <td>...</td>\n",
              "    </tr>\n",
              "    <tr>\n",
              "      <th>4755</th>\n",
              "      <td>Horror</td>\n",
              "      <td></td>\n",
              "      <td>The hot spot where Satan's waitin'.</td>\n",
              "      <td>Lisa Hart Carroll Michael Des Barres Paul Drak...</td>\n",
              "      <td>Pece Dingo</td>\n",
              "    </tr>\n",
              "    <tr>\n",
              "      <th>4756</th>\n",
              "      <td>Comedy Family Drama</td>\n",
              "      <td></td>\n",
              "      <td>It’s better to stand out than to fit in.</td>\n",
              "      <td>Roni Akurati Brighton Sharbino Jason Lee Anjul...</td>\n",
              "      <td>Frank Lotito</td>\n",
              "    </tr>\n",
              "    <tr>\n",
              "      <th>4757</th>\n",
              "      <td>Thriller Drama</td>\n",
              "      <td>christian film sex trafficking</td>\n",
              "      <td>She never knew it could happen to her...</td>\n",
              "      <td>Nicole Smolen Kim Baldwin Ariana Stephens Brys...</td>\n",
              "      <td>Jaco Booyens</td>\n",
              "    </tr>\n",
              "    <tr>\n",
              "      <th>4758</th>\n",
              "      <td>Family</td>\n",
              "      <td></td>\n",
              "      <td></td>\n",
              "      <td></td>\n",
              "      <td></td>\n",
              "    </tr>\n",
              "    <tr>\n",
              "      <th>4759</th>\n",
              "      <td>Documentary</td>\n",
              "      <td>music actors legendary perfomer classic hollyw...</td>\n",
              "      <td></td>\n",
              "      <td>Tony Oppedisano</td>\n",
              "      <td>Simon Napier-Bell</td>\n",
              "    </tr>\n",
              "  </tbody>\n",
              "</table>\n",
              "<p>4760 rows × 5 columns</p>\n",
              "</div>\n",
              "    <div class=\"colab-df-buttons\">\n",
              "\n",
              "  <div class=\"colab-df-container\">\n",
              "    <button class=\"colab-df-convert\" onclick=\"convertToInteractive('df-97cf9527-ed9c-4de1-917d-bb5bfee3abd1')\"\n",
              "            title=\"Convert this dataframe to an interactive table.\"\n",
              "            style=\"display:none;\">\n",
              "\n",
              "  <svg xmlns=\"http://www.w3.org/2000/svg\" height=\"24px\" viewBox=\"0 -960 960 960\">\n",
              "    <path d=\"M120-120v-720h720v720H120Zm60-500h600v-160H180v160Zm220 220h160v-160H400v160Zm0 220h160v-160H400v160ZM180-400h160v-160H180v160Zm440 0h160v-160H620v160ZM180-180h160v-160H180v160Zm440 0h160v-160H620v160Z\"/>\n",
              "  </svg>\n",
              "    </button>\n",
              "\n",
              "  <style>\n",
              "    .colab-df-container {\n",
              "      display:flex;\n",
              "      gap: 12px;\n",
              "    }\n",
              "\n",
              "    .colab-df-convert {\n",
              "      background-color: #E8F0FE;\n",
              "      border: none;\n",
              "      border-radius: 50%;\n",
              "      cursor: pointer;\n",
              "      display: none;\n",
              "      fill: #1967D2;\n",
              "      height: 32px;\n",
              "      padding: 0 0 0 0;\n",
              "      width: 32px;\n",
              "    }\n",
              "\n",
              "    .colab-df-convert:hover {\n",
              "      background-color: #E2EBFA;\n",
              "      box-shadow: 0px 1px 2px rgba(60, 64, 67, 0.3), 0px 1px 3px 1px rgba(60, 64, 67, 0.15);\n",
              "      fill: #174EA6;\n",
              "    }\n",
              "\n",
              "    .colab-df-buttons div {\n",
              "      margin-bottom: 4px;\n",
              "    }\n",
              "\n",
              "    [theme=dark] .colab-df-convert {\n",
              "      background-color: #3B4455;\n",
              "      fill: #D2E3FC;\n",
              "    }\n",
              "\n",
              "    [theme=dark] .colab-df-convert:hover {\n",
              "      background-color: #434B5C;\n",
              "      box-shadow: 0px 1px 3px 1px rgba(0, 0, 0, 0.15);\n",
              "      filter: drop-shadow(0px 1px 2px rgba(0, 0, 0, 0.3));\n",
              "      fill: #FFFFFF;\n",
              "    }\n",
              "  </style>\n",
              "\n",
              "    <script>\n",
              "      const buttonEl =\n",
              "        document.querySelector('#df-97cf9527-ed9c-4de1-917d-bb5bfee3abd1 button.colab-df-convert');\n",
              "      buttonEl.style.display =\n",
              "        google.colab.kernel.accessAllowed ? 'block' : 'none';\n",
              "\n",
              "      async function convertToInteractive(key) {\n",
              "        const element = document.querySelector('#df-97cf9527-ed9c-4de1-917d-bb5bfee3abd1');\n",
              "        const dataTable =\n",
              "          await google.colab.kernel.invokeFunction('convertToInteractive',\n",
              "                                                    [key], {});\n",
              "        if (!dataTable) return;\n",
              "\n",
              "        const docLinkHtml = 'Like what you see? Visit the ' +\n",
              "          '<a target=\"_blank\" href=https://colab.research.google.com/notebooks/data_table.ipynb>data table notebook</a>'\n",
              "          + ' to learn more about interactive tables.';\n",
              "        element.innerHTML = '';\n",
              "        dataTable['output_type'] = 'display_data';\n",
              "        await google.colab.output.renderOutput(dataTable, element);\n",
              "        const docLink = document.createElement('div');\n",
              "        docLink.innerHTML = docLinkHtml;\n",
              "        element.appendChild(docLink);\n",
              "      }\n",
              "    </script>\n",
              "  </div>\n",
              "\n",
              "\n",
              "<div id=\"df-f19bb051-27af-4ed6-b0f9-257238110ac7\">\n",
              "  <button class=\"colab-df-quickchart\" onclick=\"quickchart('df-f19bb051-27af-4ed6-b0f9-257238110ac7')\"\n",
              "            title=\"Suggest charts\"\n",
              "            style=\"display:none;\">\n",
              "\n",
              "<svg xmlns=\"http://www.w3.org/2000/svg\" height=\"24px\"viewBox=\"0 0 24 24\"\n",
              "     width=\"24px\">\n",
              "    <g>\n",
              "        <path d=\"M19 3H5c-1.1 0-2 .9-2 2v14c0 1.1.9 2 2 2h14c1.1 0 2-.9 2-2V5c0-1.1-.9-2-2-2zM9 17H7v-7h2v7zm4 0h-2V7h2v10zm4 0h-2v-4h2v4z\"/>\n",
              "    </g>\n",
              "</svg>\n",
              "  </button>\n",
              "\n",
              "<style>\n",
              "  .colab-df-quickchart {\n",
              "      --bg-color: #E8F0FE;\n",
              "      --fill-color: #1967D2;\n",
              "      --hover-bg-color: #E2EBFA;\n",
              "      --hover-fill-color: #174EA6;\n",
              "      --disabled-fill-color: #AAA;\n",
              "      --disabled-bg-color: #DDD;\n",
              "  }\n",
              "\n",
              "  [theme=dark] .colab-df-quickchart {\n",
              "      --bg-color: #3B4455;\n",
              "      --fill-color: #D2E3FC;\n",
              "      --hover-bg-color: #434B5C;\n",
              "      --hover-fill-color: #FFFFFF;\n",
              "      --disabled-bg-color: #3B4455;\n",
              "      --disabled-fill-color: #666;\n",
              "  }\n",
              "\n",
              "  .colab-df-quickchart {\n",
              "    background-color: var(--bg-color);\n",
              "    border: none;\n",
              "    border-radius: 50%;\n",
              "    cursor: pointer;\n",
              "    display: none;\n",
              "    fill: var(--fill-color);\n",
              "    height: 32px;\n",
              "    padding: 0;\n",
              "    width: 32px;\n",
              "  }\n",
              "\n",
              "  .colab-df-quickchart:hover {\n",
              "    background-color: var(--hover-bg-color);\n",
              "    box-shadow: 0 1px 2px rgba(60, 64, 67, 0.3), 0 1px 3px 1px rgba(60, 64, 67, 0.15);\n",
              "    fill: var(--button-hover-fill-color);\n",
              "  }\n",
              "\n",
              "  .colab-df-quickchart-complete:disabled,\n",
              "  .colab-df-quickchart-complete:disabled:hover {\n",
              "    background-color: var(--disabled-bg-color);\n",
              "    fill: var(--disabled-fill-color);\n",
              "    box-shadow: none;\n",
              "  }\n",
              "\n",
              "  .colab-df-spinner {\n",
              "    border: 2px solid var(--fill-color);\n",
              "    border-color: transparent;\n",
              "    border-bottom-color: var(--fill-color);\n",
              "    animation:\n",
              "      spin 1s steps(1) infinite;\n",
              "  }\n",
              "\n",
              "  @keyframes spin {\n",
              "    0% {\n",
              "      border-color: transparent;\n",
              "      border-bottom-color: var(--fill-color);\n",
              "      border-left-color: var(--fill-color);\n",
              "    }\n",
              "    20% {\n",
              "      border-color: transparent;\n",
              "      border-left-color: var(--fill-color);\n",
              "      border-top-color: var(--fill-color);\n",
              "    }\n",
              "    30% {\n",
              "      border-color: transparent;\n",
              "      border-left-color: var(--fill-color);\n",
              "      border-top-color: var(--fill-color);\n",
              "      border-right-color: var(--fill-color);\n",
              "    }\n",
              "    40% {\n",
              "      border-color: transparent;\n",
              "      border-right-color: var(--fill-color);\n",
              "      border-top-color: var(--fill-color);\n",
              "    }\n",
              "    60% {\n",
              "      border-color: transparent;\n",
              "      border-right-color: var(--fill-color);\n",
              "    }\n",
              "    80% {\n",
              "      border-color: transparent;\n",
              "      border-right-color: var(--fill-color);\n",
              "      border-bottom-color: var(--fill-color);\n",
              "    }\n",
              "    90% {\n",
              "      border-color: transparent;\n",
              "      border-bottom-color: var(--fill-color);\n",
              "    }\n",
              "  }\n",
              "</style>\n",
              "\n",
              "  <script>\n",
              "    async function quickchart(key) {\n",
              "      const quickchartButtonEl =\n",
              "        document.querySelector('#' + key + ' button');\n",
              "      quickchartButtonEl.disabled = true;  // To prevent multiple clicks.\n",
              "      quickchartButtonEl.classList.add('colab-df-spinner');\n",
              "      try {\n",
              "        const charts = await google.colab.kernel.invokeFunction(\n",
              "            'suggestCharts', [key], {});\n",
              "      } catch (error) {\n",
              "        console.error('Error during call to suggestCharts:', error);\n",
              "      }\n",
              "      quickchartButtonEl.classList.remove('colab-df-spinner');\n",
              "      quickchartButtonEl.classList.add('colab-df-quickchart-complete');\n",
              "    }\n",
              "    (() => {\n",
              "      let quickchartButtonEl =\n",
              "        document.querySelector('#df-f19bb051-27af-4ed6-b0f9-257238110ac7 button');\n",
              "      quickchartButtonEl.style.display =\n",
              "        google.colab.kernel.accessAllowed ? 'block' : 'none';\n",
              "    })();\n",
              "  </script>\n",
              "</div>\n",
              "\n",
              "  <div id=\"id_5d3a86a8-b729-4647-926e-36a68df606fe\">\n",
              "    <style>\n",
              "      .colab-df-generate {\n",
              "        background-color: #E8F0FE;\n",
              "        border: none;\n",
              "        border-radius: 50%;\n",
              "        cursor: pointer;\n",
              "        display: none;\n",
              "        fill: #1967D2;\n",
              "        height: 32px;\n",
              "        padding: 0 0 0 0;\n",
              "        width: 32px;\n",
              "      }\n",
              "\n",
              "      .colab-df-generate:hover {\n",
              "        background-color: #E2EBFA;\n",
              "        box-shadow: 0px 1px 2px rgba(60, 64, 67, 0.3), 0px 1px 3px 1px rgba(60, 64, 67, 0.15);\n",
              "        fill: #174EA6;\n",
              "      }\n",
              "\n",
              "      [theme=dark] .colab-df-generate {\n",
              "        background-color: #3B4455;\n",
              "        fill: #D2E3FC;\n",
              "      }\n",
              "\n",
              "      [theme=dark] .colab-df-generate:hover {\n",
              "        background-color: #434B5C;\n",
              "        box-shadow: 0px 1px 3px 1px rgba(0, 0, 0, 0.15);\n",
              "        filter: drop-shadow(0px 1px 2px rgba(0, 0, 0, 0.3));\n",
              "        fill: #FFFFFF;\n",
              "      }\n",
              "    </style>\n",
              "    <button class=\"colab-df-generate\" onclick=\"generateWithVariable('df_features')\"\n",
              "            title=\"Generate code using this dataframe.\"\n",
              "            style=\"display:none;\">\n",
              "\n",
              "  <svg xmlns=\"http://www.w3.org/2000/svg\" height=\"24px\"viewBox=\"0 0 24 24\"\n",
              "       width=\"24px\">\n",
              "    <path d=\"M7,19H8.4L18.45,9,17,7.55,7,17.6ZM5,21V16.75L18.45,3.32a2,2,0,0,1,2.83,0l1.4,1.43a1.91,1.91,0,0,1,.58,1.4,1.91,1.91,0,0,1-.58,1.4L9.25,21ZM18.45,9,17,7.55Zm-12,3A5.31,5.31,0,0,0,4.9,8.1,5.31,5.31,0,0,0,1,6.5,5.31,5.31,0,0,0,4.9,4.9,5.31,5.31,0,0,0,6.5,1,5.31,5.31,0,0,0,8.1,4.9,5.31,5.31,0,0,0,12,6.5,5.46,5.46,0,0,0,6.5,12Z\"/>\n",
              "  </svg>\n",
              "    </button>\n",
              "    <script>\n",
              "      (() => {\n",
              "      const buttonEl =\n",
              "        document.querySelector('#id_5d3a86a8-b729-4647-926e-36a68df606fe button.colab-df-generate');\n",
              "      buttonEl.style.display =\n",
              "        google.colab.kernel.accessAllowed ? 'block' : 'none';\n",
              "\n",
              "      buttonEl.onclick = () => {\n",
              "        google.colab.notebook.generateWithVariable('df_features');\n",
              "      }\n",
              "      })();\n",
              "    </script>\n",
              "  </div>\n",
              "\n",
              "    </div>\n",
              "  </div>\n"
            ],
            "application/vnd.google.colaboratory.intrinsic+json": {
              "type": "dataframe",
              "variable_name": "df_features",
              "summary": "{\n  \"name\": \"df_features\",\n  \"rows\": 4760,\n  \"fields\": [\n    {\n      \"column\": \"Movie_Genre\",\n      \"properties\": {\n        \"dtype\": \"category\",\n        \"num_unique_values\": 1164,\n        \"samples\": [\n          \"Family Animation Adventure\",\n          \"Adventure Science Fiction Action\",\n          \"Action Crime Drama Romance Thriller\"\n        ],\n        \"semantic_type\": \"\",\n        \"description\": \"\"\n      }\n    },\n    {\n      \"column\": \"Movie_Keywords\",\n      \"properties\": {\n        \"dtype\": \"string\",\n        \"num_unique_values\": 4203,\n        \"samples\": [\n          \"canada nazis sequel spin off ancient evil\",\n          \"sex professor wedding woman director columbia university\",\n          \"prophecy sea beach gold small town\"\n        ],\n        \"semantic_type\": \"\",\n        \"description\": \"\"\n      }\n    },\n    {\n      \"column\": \"Movie_Tagline\",\n      \"properties\": {\n        \"dtype\": \"string\",\n        \"num_unique_values\": 3928,\n        \"samples\": [\n          \"The messenger must be silenced.\",\n          \"It's not the house that's haunted.\",\n          \"The final hunt begins.\"\n        ],\n        \"semantic_type\": \"\",\n        \"description\": \"\"\n      }\n    },\n    {\n      \"column\": \"Movie_Cast\",\n      \"properties\": {\n        \"dtype\": \"string\",\n        \"num_unique_values\": 4715,\n        \"samples\": [\n          \"Robin Tunney Fairuza Balk Neve Campbell Rachel True Skeet Ulrich\",\n          \"Peter Sellers Christopher Plummer Herbert Lom Catherine Schell Peter Arne\",\n          \"John Wayne Laraine Day Cedric Hardwicke Judith Anderson Anthony Quinn\"\n        ],\n        \"semantic_type\": \"\",\n        \"description\": \"\"\n      }\n    },\n    {\n      \"column\": \"Movie_Director\",\n      \"properties\": {\n        \"dtype\": \"category\",\n        \"num_unique_values\": 2332,\n        \"samples\": [\n          \"Rob McKittrick\",\n          \"Terron R. Parsons\",\n          \"Cyrus Nowrasteh\"\n        ],\n        \"semantic_type\": \"\",\n        \"description\": \"\"\n      }\n    }\n  ]\n}"
            }
          },
          "metadata": {},
          "execution_count": 12
        }
      ]
    },
    {
      "cell_type": "code",
      "source": [
        "x = df_features['Movie_Genre'] + ' ' + df_features['Movie_Keywords'] + ' ' + df_features['Movie_Tagline'] + ' ' + df_features['Movie_Cast'] + ' ' + df_features['Movie_Director']\n"
      ],
      "metadata": {
        "id": "RNENnp6P4fKx"
      },
      "execution_count": null,
      "outputs": []
    },
    {
      "cell_type": "code",
      "source": [
        "x"
      ],
      "metadata": {
        "colab": {
          "base_uri": "https://localhost:8080/",
          "height": 458
        },
        "id": "tj88zIae4hAO",
        "outputId": "7bfcbba4-033f-4946-daa2-9ca741e7e9c8"
      },
      "execution_count": null,
      "outputs": [
        {
          "output_type": "execute_result",
          "data": {
            "text/plain": [
              "0       Crime Comedy hotel new year's eve witch bet ho...\n",
              "1       Adventure Action Science Fiction android galax...\n",
              "2       Animation Family father son relationship harbo...\n",
              "3       Comedy Drama Romance vietnam veteran hippie me...\n",
              "4       Drama male nudity female nudity adultery midli...\n",
              "                              ...                        \n",
              "4755    Horror  The hot spot where Satan's waitin'. Li...\n",
              "4756    Comedy Family Drama  It’s better to stand out ...\n",
              "4757    Thriller Drama christian film sex trafficking ...\n",
              "4758                                           Family    \n",
              "4759    Documentary music actors legendary perfomer cl...\n",
              "Length: 4760, dtype: object"
            ],
            "text/html": [
              "<div>\n",
              "<style scoped>\n",
              "    .dataframe tbody tr th:only-of-type {\n",
              "        vertical-align: middle;\n",
              "    }\n",
              "\n",
              "    .dataframe tbody tr th {\n",
              "        vertical-align: top;\n",
              "    }\n",
              "\n",
              "    .dataframe thead th {\n",
              "        text-align: right;\n",
              "    }\n",
              "</style>\n",
              "<table border=\"1\" class=\"dataframe\">\n",
              "  <thead>\n",
              "    <tr style=\"text-align: right;\">\n",
              "      <th></th>\n",
              "      <th>0</th>\n",
              "    </tr>\n",
              "  </thead>\n",
              "  <tbody>\n",
              "    <tr>\n",
              "      <th>0</th>\n",
              "      <td>Crime Comedy hotel new year's eve witch bet ho...</td>\n",
              "    </tr>\n",
              "    <tr>\n",
              "      <th>1</th>\n",
              "      <td>Adventure Action Science Fiction android galax...</td>\n",
              "    </tr>\n",
              "    <tr>\n",
              "      <th>2</th>\n",
              "      <td>Animation Family father son relationship harbo...</td>\n",
              "    </tr>\n",
              "    <tr>\n",
              "      <th>3</th>\n",
              "      <td>Comedy Drama Romance vietnam veteran hippie me...</td>\n",
              "    </tr>\n",
              "    <tr>\n",
              "      <th>4</th>\n",
              "      <td>Drama male nudity female nudity adultery midli...</td>\n",
              "    </tr>\n",
              "    <tr>\n",
              "      <th>...</th>\n",
              "      <td>...</td>\n",
              "    </tr>\n",
              "    <tr>\n",
              "      <th>4755</th>\n",
              "      <td>Horror  The hot spot where Satan's waitin'. Li...</td>\n",
              "    </tr>\n",
              "    <tr>\n",
              "      <th>4756</th>\n",
              "      <td>Comedy Family Drama  It’s better to stand out ...</td>\n",
              "    </tr>\n",
              "    <tr>\n",
              "      <th>4757</th>\n",
              "      <td>Thriller Drama christian film sex trafficking ...</td>\n",
              "    </tr>\n",
              "    <tr>\n",
              "      <th>4758</th>\n",
              "      <td>Family</td>\n",
              "    </tr>\n",
              "    <tr>\n",
              "      <th>4759</th>\n",
              "      <td>Documentary music actors legendary perfomer cl...</td>\n",
              "    </tr>\n",
              "  </tbody>\n",
              "</table>\n",
              "<p>4760 rows × 1 columns</p>\n",
              "</div><br><label><b>dtype:</b> object</label>"
            ]
          },
          "metadata": {},
          "execution_count": 14
        }
      ]
    },
    {
      "cell_type": "code",
      "source": [
        "x = df_features['Movie_Genre'] + ' ' + df_features['Movie_Keywords'] + ' ' + df_features['Movie_Tagline'] + ' ' + df_features['Movie_Cast'] + ' ' + df_features['Movie_Director']\n"
      ],
      "metadata": {
        "id": "-Oq3J2pg4jtB"
      },
      "execution_count": null,
      "outputs": []
    },
    {
      "cell_type": "markdown",
      "source": [
        "# **Get Feature Text Conversion to Tokens**"
      ],
      "metadata": {
        "id": "Ey94mvo04vNr"
      }
    },
    {
      "cell_type": "code",
      "source": [
        "from sklearn.feature_extraction.text import TfidfVectorizer"
      ],
      "metadata": {
        "id": "B8TcpUn34yF-"
      },
      "execution_count": null,
      "outputs": []
    },
    {
      "cell_type": "code",
      "source": [
        "tfidf = TfidfVectorizer()"
      ],
      "metadata": {
        "id": "HLM_HVX35HEK"
      },
      "execution_count": null,
      "outputs": []
    },
    {
      "cell_type": "code",
      "source": [
        "x = tfidf.fit_transform(x)"
      ],
      "metadata": {
        "id": "pFQfcELe5Jb0"
      },
      "execution_count": null,
      "outputs": []
    },
    {
      "cell_type": "code",
      "source": [
        "x.shape"
      ],
      "metadata": {
        "colab": {
          "base_uri": "https://localhost:8080/"
        },
        "id": "rgiG9SHh5LlY",
        "outputId": "3494d88d-700d-47eb-d045-357461eb1f4c"
      },
      "execution_count": null,
      "outputs": [
        {
          "output_type": "execute_result",
          "data": {
            "text/plain": [
              "(4760, 17258)"
            ]
          },
          "metadata": {},
          "execution_count": 19
        }
      ]
    },
    {
      "cell_type": "code",
      "source": [
        "print(x)"
      ],
      "metadata": {
        "colab": {
          "base_uri": "https://localhost:8080/"
        },
        "id": "Z2Z0rwrf5lG4",
        "outputId": "5b4d17a3-6dd9-403c-c705-303b9519e760"
      },
      "execution_count": null,
      "outputs": [
        {
          "output_type": "stream",
          "name": "stdout",
          "text": [
            "  (0, 617)\t0.1633382144407513\n",
            "  (0, 492)\t0.1432591540388685\n",
            "  (0, 15413)\t0.1465525095337543\n",
            "  (0, 9675)\t0.14226057295252661\n",
            "  (0, 9465)\t0.1659841367820977\n",
            "  (0, 1390)\t0.16898383612799558\n",
            "  (0, 7825)\t0.09799561597509843\n",
            "  (0, 1214)\t0.13865857545144072\n",
            "  (0, 729)\t0.13415063359531618\n",
            "  (0, 13093)\t0.1432591540388685\n",
            "  (0, 15355)\t0.10477815972666779\n",
            "  (0, 9048)\t0.0866842116160778\n",
            "  (0, 11161)\t0.06250380151644369\n",
            "  (0, 16773)\t0.17654247479915475\n",
            "  (0, 5612)\t0.08603537588547631\n",
            "  (0, 16735)\t0.10690083751525419\n",
            "  (0, 7904)\t0.13348000542112332\n",
            "  (0, 15219)\t0.09800472886453934\n",
            "  (0, 11242)\t0.07277788238484746\n",
            "  (0, 3878)\t0.11998399582562203\n",
            "  (0, 5499)\t0.11454057510303811\n",
            "  (0, 7071)\t0.19822417598406614\n",
            "  (0, 7454)\t0.14745635785412262\n",
            "  (0, 1495)\t0.19712637387361423\n",
            "  (0, 9206)\t0.15186283580984414\n",
            "  :\t:\n",
            "  (4757, 5455)\t0.12491480594769522\n",
            "  (4757, 2967)\t0.16273475835631626\n",
            "  (4757, 8464)\t0.23522565554066333\n",
            "  (4757, 6938)\t0.17088173678136628\n",
            "  (4757, 8379)\t0.17480603856721913\n",
            "  (4757, 15303)\t0.07654356007668191\n",
            "  (4757, 15384)\t0.09754322497537371\n",
            "  (4757, 7649)\t0.11479421494340192\n",
            "  (4757, 10896)\t0.14546473055066447\n",
            "  (4757, 4494)\t0.05675298448720501\n",
            "  (4758, 5238)\t1.0\n",
            "  (4759, 11264)\t0.33947721804318337\n",
            "  (4759, 11708)\t0.33947721804318337\n",
            "  (4759, 205)\t0.3237911628497312\n",
            "  (4759, 8902)\t0.3040290704566037\n",
            "  (4759, 14062)\t0.3237911628497312\n",
            "  (4759, 3058)\t0.2812896191863103\n",
            "  (4759, 7130)\t0.26419662449963793\n",
            "  (4759, 10761)\t0.3126617295732147\n",
            "  (4759, 4358)\t0.18306542312175342\n",
            "  (4759, 14051)\t0.20084315377640435\n",
            "  (4759, 5690)\t0.19534291014627303\n",
            "  (4759, 15431)\t0.19628653185946862\n",
            "  (4759, 1490)\t0.21197258705292082\n",
            "  (4759, 10666)\t0.15888268987343043\n"
          ]
        }
      ]
    },
    {
      "cell_type": "markdown",
      "source": [
        "# **Get Similarity Score using Cosine Similarity**"
      ],
      "metadata": {
        "id": "x8r5rau_58pX"
      }
    },
    {
      "cell_type": "code",
      "source": [
        "from sklearn.metrics.pairwise import cosine_similarity"
      ],
      "metadata": {
        "id": "dLPQvf4j5_6z"
      },
      "execution_count": null,
      "outputs": []
    },
    {
      "cell_type": "code",
      "source": [
        "Similarity_Score = cosine_similarity(x)"
      ],
      "metadata": {
        "id": "TVjE4hSI6ED-"
      },
      "execution_count": null,
      "outputs": []
    },
    {
      "cell_type": "code",
      "source": [
        "Similarity_Score"
      ],
      "metadata": {
        "colab": {
          "base_uri": "https://localhost:8080/"
        },
        "id": "-QvYBXTm6EHZ",
        "outputId": "52e583fd-f0d5-4b3f-fed6-62b1d3aa46c8"
      },
      "execution_count": null,
      "outputs": [
        {
          "output_type": "execute_result",
          "data": {
            "text/plain": [
              "array([[1.        , 0.01351235, 0.03570468, ..., 0.        , 0.        ,\n",
              "        0.        ],\n",
              "       [0.01351235, 1.        , 0.00806674, ..., 0.        , 0.        ,\n",
              "        0.        ],\n",
              "       [0.03570468, 0.00806674, 1.        , ..., 0.        , 0.08014876,\n",
              "        0.        ],\n",
              "       ...,\n",
              "       [0.        , 0.        , 0.        , ..., 1.        , 0.        ,\n",
              "        0.        ],\n",
              "       [0.        , 0.        , 0.08014876, ..., 0.        , 1.        ,\n",
              "        0.        ],\n",
              "       [0.        , 0.        , 0.        , ..., 0.        , 0.        ,\n",
              "        1.        ]])"
            ]
          },
          "metadata": {},
          "execution_count": 23
        }
      ]
    },
    {
      "cell_type": "code",
      "source": [
        "Similarity_Score.shape"
      ],
      "metadata": {
        "colab": {
          "base_uri": "https://localhost:8080/"
        },
        "id": "_q3dI3gR6Qt3",
        "outputId": "22445da4-f3fc-4211-ab55-9244f3abf31e"
      },
      "execution_count": null,
      "outputs": [
        {
          "output_type": "execute_result",
          "data": {
            "text/plain": [
              "(4760, 4760)"
            ]
          },
          "metadata": {},
          "execution_count": 24
        }
      ]
    },
    {
      "cell_type": "markdown",
      "source": [
        "# Get Movie Name as Input from User and Validate for Closest Spelling\n"
      ],
      "metadata": {
        "id": "qmYYe1w76URa"
      }
    },
    {
      "cell_type": "code",
      "source": [
        "Favorite_Movie_Name = input(' Enter your Favorite movie name: ')"
      ],
      "metadata": {
        "colab": {
          "base_uri": "https://localhost:8080/"
        },
        "id": "IlDlzyxA6aQ1",
        "outputId": "661c4849-fbb0-4419-91b1-daa8e7536760"
      },
      "execution_count": null,
      "outputs": [
        {
          "name": "stdout",
          "output_type": "stream",
          "text": [
            " Enter your Favorite movie name: Men of steal\n"
          ]
        }
      ]
    },
    {
      "cell_type": "code",
      "source": [
        "All_Movies_Title_List = df['Movie_Title'].tolist()"
      ],
      "metadata": {
        "id": "5uwbQyr068o3"
      },
      "execution_count": null,
      "outputs": []
    },
    {
      "cell_type": "code",
      "source": [
        "import difflib"
      ],
      "metadata": {
        "id": "cX5dF7B_7AK_"
      },
      "execution_count": null,
      "outputs": []
    },
    {
      "cell_type": "code",
      "source": [
        "Movie_Recommendation = difflib.get_close_matches(Favorite_Movie_Name,All_Movies_Title_List)\n",
        "print(Movie_Recommendation)"
      ],
      "metadata": {
        "colab": {
          "base_uri": "https://localhost:8080/"
        },
        "id": "ifJ7q6837D7-",
        "outputId": "4b40010e-1d9c-4450-ff9c-af79d09c2f08"
      },
      "execution_count": null,
      "outputs": [
        {
          "output_type": "stream",
          "name": "stdout",
          "text": [
            "['Man of Steel', 'Men of War', 'Man of the Year']\n"
          ]
        }
      ]
    },
    {
      "cell_type": "code",
      "source": [
        "Close_Match = Movie_Recommendation[0]\n",
        "print(Close_Match)"
      ],
      "metadata": {
        "colab": {
          "base_uri": "https://localhost:8080/"
        },
        "id": "RTrQHtns7G0h",
        "outputId": "f1cce599-352e-4c3b-9abc-669674ef5459"
      },
      "execution_count": null,
      "outputs": [
        {
          "output_type": "stream",
          "name": "stdout",
          "text": [
            "Man of Steel\n"
          ]
        }
      ]
    },
    {
      "cell_type": "code",
      "source": [
        "Index_of_Close_Match_Movie = df[df.Movie_Title == Close_Match]['Movie_ID'].values[0]\n",
        "print(Index_of_Close_Match_Movie)"
      ],
      "metadata": {
        "colab": {
          "base_uri": "https://localhost:8080/"
        },
        "id": "YN5Obzo37Lds",
        "outputId": "678cd0b9-900b-487f-8db7-b4be8c37d528"
      },
      "execution_count": null,
      "outputs": [
        {
          "output_type": "stream",
          "name": "stdout",
          "text": [
            "3466\n"
          ]
        }
      ]
    },
    {
      "cell_type": "code",
      "source": [
        "Recomendation_Score = list(enumerate(Similarity_Score[Index_of_Close_Match_Movie]))\n",
        "print(Recomendation_Score)"
      ],
      "metadata": {
        "colab": {
          "base_uri": "https://localhost:8080/"
        },
        "id": "4rSzO4PJ7OWn",
        "outputId": "5936ad73-9237-4aba-f974-cd545eb465c0"
      },
      "execution_count": null,
      "outputs": [
        {
          "output_type": "stream",
          "name": "stdout",
          "text": [
            "[(0, 0.04106908683514421), (1, 0.06595956650654046), (2, 0.011577522759963427), (3, 0.008667381854764324), (4, 0.02068262102924978), (5, 0.025274619987682004), (6, 0.01115592933006665), (7, 0.023758687504927684), (8, 0.0), (9, 0.00496686048000844), (10, 0.036446643750770655), (11, 0.04731095884256033), (12, 0.020932838747142985), (13, 0.03370771220935555), (14, 0.0), (15, 0.02444322256539024), (16, 0.028187414922031726), (17, 0.005701413541450095), (18, 0.01950550731822594), (19, 0.03392587953333215), (20, 0.0), (21, 0.07489726420227788), (22, 0.02151248957796381), (23, 0.0), (24, 0.0), (25, 0.06599984410277761), (26, 0.0498722872353091), (27, 0.019901719970944202), (28, 0.0), (29, 0.03647940010800588), (30, 0.005039873989855463), (31, 0.059579911828438005), (32, 0.03554235124859747), (33, 0.008713095060047055), (34, 0.015463618013587803), (35, 0.01801590334672301), (36, 0.004904779937068586), (37, 0.019900296197132746), (38, 0.023664784763524075), (39, 0.026910818244532314), (40, 0.02322878927697612), (41, 0.03206980419131837), (42, 0.01569110483675519), (43, 0.04053113731255347), (44, 0.030690994442157137), (45, 0.02056250305744379), (46, 0.02510430928171741), (47, 0.018055544510740346), (48, 0.05429434718482238), (49, 0.028358614415964177), (50, 0.028474340418004822), (51, 0.0214019627860122), (52, 0.028876611552405895), (53, 0.0), (54, 0.0054506734846478935), (55, 0.020401172821116285), (56, 0.005464600765430254), (57, 0.0), (58, 0.0), (59, 0.005529818107083253), (60, 0.0), (61, 0.05996770858147507), (62, 0.0), (63, 0.004271601268710008), (64, 0.0), (65, 0.0), (66, 0.0), (67, 0.009402238248767864), (68, 0.0745636508814163), (69, 0.02620005496079661), (70, 0.06455156946840096), (71, 0.0), (72, 0.03345839138584704), (73, 0.0), (74, 0.010485710902017848), (75, 0.0321746767785262), (76, 0.008460281483665956), (77, 0.04316463795627601), (78, 0.008715757096605908), (79, 0.0), (80, 0.021863622391640775), (81, 0.0151991729501148), (82, 0.010239115992972843), (83, 0.055383196546831145), (84, 0.019805626936124886), (85, 0.01475760247485771), (86, 0.03182564857457712), (87, 0.0196369086317363), (88, 0.06683025500565151), (89, 0.022935763897286496), (90, 0.010139226389994763), (91, 0.042257459107689826), (92, 0.03364520655672061), (93, 0.009931011850067947), (94, 0.021912635304605674), (95, 0.010665843537234994), (96, 0.04493589609391511), (97, 0.0), (98, 0.0), (99, 0.05000391990270019), (100, 0.03020465351418061), (101, 0.03790281827970963), (102, 0.011327917527223737), (103, 0.0), (104, 0.0), (105, 0.015214040674171217), (106, 0.022195388113350957), (107, 0.005672460158516564), (108, 0.030113778090792333), (109, 0.07568187126979256), (110, 0.013790037207487987), (111, 0.014250338538932055), (112, 0.06863779628019454), (113, 0.0), (114, 0.0), (115, 0.12292886209010837), (116, 0.004720385045473625), (117, 0.0), (118, 0.06990998422924764), (119, 0.005265741332252575), (120, 0.0690069244145837), (121, 0.02165967929091109), (122, 0.02815760227511016), (123, 0.03943921569913989), (124, 0.018574361057816957), (125, 0.011870181500676483), (126, 0.06448065201867095), (127, 0.032546492413016326), (128, 0.039775465864487755), (129, 0.0338458692896144), (130, 0.004872578840305253), (131, 0.01664804971428313), (132, 0.0), (133, 0.0), (134, 0.0), (135, 0.026777762223456757), (136, 0.0), (137, 0.06422452923826567), (138, 0.01953166412066969), (139, 0.023233441597523108), (140, 0.0), (141, 0.030334204432722344), (142, 0.05604544448129858), (143, 0.02172266138662279), (144, 0.024431681882828495), (145, 0.055469937763982416), (146, 0.0), (147, 0.01759895320408352), (148, 0.02333002745123276), (149, 0.024939643057209006), (150, 0.037523919453514035), (151, 0.005544344835203722), (152, 0.0291053799221329), (153, 0.006308197349963504), (154, 0.017581650061597225), (155, 0.0), (156, 0.0), (157, 0.0), (158, 0.0), (159, 0.004200665002843838), (160, 0.033794168761525564), (161, 0.0), (162, 0.022743916093921457), (163, 0.0), (164, 0.0), (165, 0.0046397651236348), (166, 0.05491698348540948), (167, 0.0), (168, 0.01291448086233987), (169, 0.0), (170, 0.03551923265998336), (171, 0.005094764380895624), (172, 0.015388996646207428), (173, 0.016077482720961555), (174, 0.013983972855724284), (175, 0.0), (176, 0.0), (177, 0.01596750089340322), (178, 0.0), (179, 0.01296937721632873), (180, 0.05292230447165313), (181, 0.03580798601621167), (182, 0.009937904907701446), (183, 0.0), (184, 0.0), (185, 0.0), (186, 0.011283625067074636), (187, 0.02805750251096455), (188, 0.0), (189, 0.020946892406507815), (190, 0.04663908001144827), (191, 0.02674075436834219), (192, 0.021327005108586386), (193, 0.05254296727999575), (194, 0.03476612158892301), (195, 0.008287049051271355), (196, 0.0), (197, 0.0), (198, 0.020006828733283785), (199, 0.018547965988835142), (200, 0.023563415976134455), (201, 0.04396719602513223), (202, 0.021144159460617477), (203, 0.015745898187904478), (204, 0.027685838895277114), (205, 0.0), (206, 0.016272784327803994), (207, 0.07046023280958907), (208, 0.026038436047163844), (209, 0.015479318082969366), (210, 0.027707881069106384), (211, 0.0), (212, 0.05682804518604437), (213, 0.009176256805977062), (214, 0.014817419205281958), (215, 0.025780835943649976), (216, 0.015903901838928168), (217, 0.020183380515918534), (218, 0.01519271414450529), (219, 0.0), (220, 0.08310127568952749), (221, 0.0), (222, 0.004402074781001444), (223, 0.03334150180661702), (224, 0.011736888640233055), (225, 0.0), (226, 0.0765982474518046), (227, 0.0576184525282685), (228, 0.06269415142803328), (229, 0.0237598880512667), (230, 0.024316474966343867), (231, 0.050777901468762064), (232, 0.026883987337095693), (233, 0.010233523636106814), (234, 0.04775603505845933), (235, 0.056092023526849784), (236, 0.049999593448805474), (237, 0.04147854661495015), (238, 0.01954067655573688), (239, 0.005305021369680468), (240, 0.013755124427945124), (241, 0.0049891599520763726), (242, 0.0), (243, 0.0035211709276302284), (244, 0.03479536266859878), (245, 0.0), (246, 0.0), (247, 0.018519880472033866), (248, 0.009120939319735927), (249, 0.0), (250, 0.005596577584009017), (251, 0.02920227986100473), (252, 0.0), (253, 0.03751358047995552), (254, 0.03755317928576353), (255, 0.00523734442995371), (256, 0.040923510265245065), (257, 0.0), (258, 0.005403853503759258), (259, 0.021674545729231963), (260, 0.02542033066779476), (261, 0.043929091701906564), (262, 0.0), (263, 0.0050791501419876145), (264, 0.019551510802281992), (265, 0.0), (266, 0.00797799647751616), (267, 0.0), (268, 0.0), (269, 0.05664566543049883), (270, 0.02635476280238468), (271, 0.007946341873013683), (272, 0.0), (273, 0.051243312614218134), (274, 0.017613822762468055), (275, 0.0), (276, 0.01918005620960199), (277, 0.0), (278, 0.0), (279, 0.04769994931499494), (280, 0.03168941504933785), (281, 0.017317699364092113), (282, 0.015112650582426524), (283, 0.01434494591435891), (284, 0.009888397335117746), (285, 0.013893407906678682), (286, 0.057892472719604855), (287, 0.02981271491854975), (288, 0.008805488062814814), (289, 0.008321899746910923), (290, 0.00846101285015815), (291, 0.052701745019576605), (292, 0.005207371609652332), (293, 0.019187600593951713), (294, 0.050607653069218994), (295, 0.0922244920351926), (296, 0.0077711034727105666), (297, 0.02481300147651725), (298, 0.02450010578167981), (299, 0.0), (300, 0.0), (301, 0.0), (302, 0.0), (303, 0.011251453694736844), (304, 0.03693352249614814), (305, 0.026774801928732765), (306, 0.024693105323489915), (307, 0.030848779352914062), (308, 0.0), (309, 0.014897800883179093), (310, 0.009962036291113056), (311, 0.03197934077345839), (312, 0.0), (313, 0.005183250032492079), (314, 0.008691779300637983), (315, 0.010400568576691808), (316, 0.009609643029804153), (317, 0.025618203421699598), (318, 0.0), (319, 0.004397738501222652), (320, 0.010870050823116878), (321, 0.010063918288912217), (322, 0.010210171101665997), (323, 0.009274838395281678), (324, 0.017263684285072318), (325, 0.0), (326, 0.024005888111693432), (327, 0.0240418655471306), (328, 0.005212732347629571), (329, 0.004851791700375294), (330, 0.009323033106516753), (331, 0.0), (332, 0.007763721466224571), (333, 0.022867686033266735), (334, 0.023133590635989958), (335, 0.009114740761333305), (336, 0.0), (337, 0.017791344441310294), (338, 0.01788408129805286), (339, 0.018969309122204653), (340, 0.0), (341, 0.028713621507178533), (342, 0.016711175358871157), (343, 0.0), (344, 0.0), (345, 0.1372352476201621), (346, 0.0), (347, 0.018556947880878562), (348, 0.02522841097847704), (349, 0.013086385886312541), (350, 0.011287970162862353), (351, 0.0), (352, 0.023708166254365136), (353, 0.005451101655841118), (354, 0.004576972331675593), (355, 0.0), (356, 0.025436791471169316), (357, 0.0), (358, 0.0), (359, 0.012382492213311636), (360, 0.019301795960342694), (361, 0.0), (362, 0.0), (363, 0.0147439968741328), (364, 0.016114032010159724), (365, 0.0), (366, 0.0), (367, 0.05657916405968906), (368, 0.042605467122240503), (369, 0.027164835724361788), (370, 0.02030885092368679), (371, 0.021082205581246585), (372, 0.0), (373, 0.0), (374, 0.013968068359922977), (375, 0.01999087729828853), (376, 0.0), (377, 0.010158437904457527), (378, 0.0), (379, 0.00494282786486231), (380, 0.005745684575638378), (381, 0.0), (382, 0.00493660080654419), (383, 0.0), (384, 0.05273542732917562), (385, 0.01698187288966084), (386, 0.022699269187928726), (387, 0.015497438578232003), (388, 0.009307358466634962), (389, 0.00497922482944272), (390, 0.005165815752031857), (391, 0.0), (392, 0.0), (393, 0.0), (394, 0.004586848215375219), (395, 0.030674047200482384), (396, 0.014741558975655765), (397, 0.027509476408699662), (398, 0.0), (399, 0.0), (400, 0.013368994473877786), (401, 0.0), (402, 0.0), (403, 0.0), (404, 0.022870205096790174), (405, 0.0), (406, 0.005102807503753142), (407, 0.0), (408, 0.039360904121910456), (409, 0.01303418844225859), (410, 0.015287495499632693), (411, 0.004926410156665293), (412, 0.06495080835015982), (413, 0.020931749733998424), (414, 0.0), (415, 0.03624099704937149), (416, 0.0), (417, 0.023880360506553615), (418, 0.05372841319748721), (419, 0.0), (420, 0.03342735912149115), (421, 0.0), (422, 0.033124944541784565), (423, 0.0), (424, 0.01177294712554771), (425, 0.011762732784518734), (426, 0.009698228935255869), (427, 0.009456856498327912), (428, 0.0), (429, 0.021318755243898528), (430, 0.0), (431, 0.0), (432, 0.0), (433, 0.030449761590484598), (434, 0.014512748067517936), (435, 0.020846738179154688), (436, 0.005595760425501829), (437, 0.017772765282273457), (438, 0.025753138131343146), (439, 0.01633542832221455), (440, 0.05549256679215074), (441, 0.0), (442, 0.008597428087171758), (443, 0.017188443546956853), (444, 0.029064399029213817), (445, 0.008440235605539132), (446, 0.0), (447, 0.1025415181474211), (448, 0.04852350699260159), (449, 0.0), (450, 0.022320821621045345), (451, 0.030100355264957628), (452, 0.004042429957230134), (453, 0.0), (454, 0.013139366177444505), (455, 0.0), (456, 0.0), (457, 0.0), (458, 0.06084067672323119), (459, 0.0), (460, 0.03409931702450119), (461, 0.05879858161117128), (462, 0.0), (463, 0.01885219226944858), (464, 0.0), (465, 0.015192705017174946), (466, 0.0), (467, 0.02352168142889204), (468, 0.009702632536297849), (469, 0.03087021145965), (470, 0.04821317915635997), (471, 0.03204205139614552), (472, 0.0), (473, 0.0), (474, 0.016118871236233293), (475, 0.0), (476, 0.0), (477, 0.004281302700140459), (478, 0.0), (479, 0.049593293768512764), (480, 0.0), (481, 0.07007979651244167), (482, 0.0052203639935622164), (483, 0.016196865553109615), (484, 0.007155025606843429), (485, 0.07510437303610593), (486, 0.0), (487, 0.0), (488, 0.0), (489, 0.0), (490, 0.0), (491, 0.0062746364148318955), (492, 0.0050110596065546355), (493, 0.0323691544065254), (494, 0.039619223842798416), (495, 0.030234829752195908), (496, 0.004582273118701329), (497, 0.031025985805978068), (498, 0.005116831049697895), (499, 0.0), (500, 0.04429460896680225), (501, 0.07071655465091048), (502, 0.048603715373882764), (503, 0.014922567253436629), (504, 0.0), (505, 0.017793707223987897), (506, 0.0), (507, 0.0), (508, 0.0), (509, 0.005129082441903632), (510, 0.013302012067461587), (511, 0.004555007312813194), (512, 0.012323750647858907), (513, 0.01127136750433462), (514, 0.011244389087362871), (515, 0.05736454590190902), (516, 0.005594604380322178), (517, 0.015823462519456905), (518, 0.0), (519, 0.02384835873485853), (520, 0.0), (521, 0.0), (522, 0.0), (523, 0.00525752247539937), (524, 0.018089320296814808), (525, 0.0), (526, 0.0624917140000254), (527, 0.0), (528, 0.005465038908915364), (529, 0.0), (530, 0.020024020637383958), (531, 0.02248871393341632), (532, 0.023872967825667262), (533, 0.02891619955330577), (534, 0.025391869269031336), (535, 0.025738214177422815), (536, 0.0), (537, 0.01180253419943671), (538, 0.019439935515336997), (539, 0.03346688069090986), (540, 0.0483689294278494), (541, 0.038145657259502655), (542, 0.027956188940948964), (543, 0.03145483504505175), (544, 0.015567252876875845), (545, 0.014618761988362162), (546, 0.0), (547, 0.028725539892524188), (548, 0.0050330916939516305), (549, 0.0), (550, 0.03310430815578009), (551, 0.027090424647634212), (552, 0.0), (553, 0.058214517941315685), (554, 0.005206415464475972), (555, 0.016059230140880208), (556, 0.0), (557, 0.016012703806636105), (558, 0.014145616120620392), (559, 0.004455808050742009), (560, 0.025786784322236522), (561, 0.01390751922849702), (562, 0.01626058487661008), (563, 0.004509909568153437), (564, 0.0), (565, 0.07007247987078652), (566, 0.01286995870448155), (567, 0.005233911719124532), (568, 0.017492194288754214), (569, 0.004917824172122677), (570, 0.02666789737236587), (571, 0.003856193149597228), (572, 0.04067677481261937), (573, 0.0), (574, 0.0), (575, 0.036995002390538254), (576, 0.0), (577, 0.0), (578, 0.0), (579, 0.0), (580, 0.005226309921443769), (581, 0.004507104269407722), (582, 0.0), (583, 0.0), (584, 0.021048109852669472), (585, 0.0), (586, 0.01733477700327536), (587, 0.0), (588, 0.014711339283718929), (589, 0.0), (590, 0.004609651434963277), (591, 0.005894260096752064), (592, 0.005451329976143394), (593, 0.0), (594, 0.0), (595, 0.011403383701757606), (596, 0.038444439789629005), (597, 0.01947593410677793), (598, 0.0), (599, 0.0056465495225950825), (600, 0.005647619888969738), (601, 0.004578686315466497), (602, 0.004382162382609372), (603, 0.0057087066716549695), (604, 0.018708171525124585), (605, 0.008675364044131509), (606, 0.015345542437864668), (607, 0.0), (608, 0.00453367104776119), (609, 0.01303782783706937), (610, 0.0187517408354346), (611, 0.0), (612, 0.014325744922865863), (613, 0.0627286425387687), (614, 0.028648798598113548), (615, 0.005559827057887175), (616, 0.0), (617, 0.004222672798773989), (618, 0.021151298759251286), (619, 0.02375096732580015), (620, 0.0), (621, 0.021752076854172415), (622, 0.02161489305958656), (623, 0.0), (624, 0.0), (625, 0.004304037108947539), (626, 0.029798823925653535), (627, 0.0), (628, 0.005042570765092467), (629, 0.0319354134670557), (630, 0.013633372811960363), (631, 0.005518528307911986), (632, 0.04515754760591638), (633, 0.004899733478954876), (634, 0.004913229329151405), (635, 0.011320293918410483), (636, 0.005051063151958602), (637, 0.019839832102819466), (638, 0.03351147116761342), (639, 0.020149129354305375), (640, 0.008680185676799939), (641, 0.0), (642, 0.03469236474217599), (643, 0.052960579467991264), (644, 0.009849801179494777), (645, 0.0), (646, 0.0), (647, 0.008650548550814504), (648, 0.01535676316186785), (649, 0.040728355798607854), (650, 0.0), (651, 0.018208518737624073), (652, 0.02080654006853568), (653, 0.06162480160175334), (654, 0.06318399285314218), (655, 0.01841376217090045), (656, 0.022902103871606266), (657, 0.0), (658, 0.0), (659, 0.02237134724082598), (660, 0.005224410877144535), (661, 0.009726757057789436), (662, 0.0), (663, 0.0), (664, 0.028480564525556473), (665, 0.013522997477573325), (666, 0.011667684928540738), (667, 0.02138645768506449), (668, 0.05613788477747525), (669, 0.023655205084185348), (670, 0.05998743977200878), (671, 0.024334486712108836), (672, 0.02160354729574194), (673, 0.06549818137950046), (674, 0.019354324133586148), (675, 0.02218346733776433), (676, 0.03280193273748318), (677, 0.029042479905001462), (678, 0.022175973148255146), (679, 0.0), (680, 0.0), (681, 0.006076516277488804), (682, 0.028914223297848034), (683, 0.03936001572141348), (684, 0.028939194113367116), (685, 0.005137773871314064), (686, 0.0), (687, 0.017458424069195955), (688, 0.022407938257553293), (689, 0.009948029834412467), (690, 0.009647085288503368), (691, 0.0), (692, 0.06353732592364182), (693, 0.0), (694, 0.055444041958499404), (695, 0.018736108457763988), (696, 0.005034235330431973), (697, 0.0241170900321142), (698, 0.04065934619795368), (699, 0.017627984258069794), (700, 0.015532684202780473), (701, 0.02270707751759772), (702, 0.051237713071362156), (703, 0.060922121867944296), (704, 0.0), (705, 0.017456866309891576), (706, 0.0), (707, 0.0), (708, 0.02034428554402775), (709, 0.0), (710, 0.0), (711, 0.0), (712, 0.0), (713, 0.0), (714, 0.005430720344070471), (715, 0.021545279765630074), (716, 0.010872978853386821), (717, 0.0), (718, 0.0), (719, 0.043815898020586726), (720, 0.0), (721, 0.0), (722, 0.0), (723, 0.008777573944973367), (724, 0.014059780915052889), (725, 0.0268893282323536), (726, 0.008243891080955672), (727, 0.010187029613668696), (728, 0.011183300529262726), (729, 0.011562245710321294), (730, 0.0), (731, 0.025813839866739848), (732, 0.02775088511707058), (733, 0.03466132329722457), (734, 0.0), (735, 0.0), (736, 0.021811152403266226), (737, 0.0), (738, 0.008541705275613203), (739, 0.011250338151942428), (740, 0.02301759950023377), (741, 0.03258007902992792), (742, 0.04209849101149794), (743, 0.0051394437785419805), (744, 0.004625266299687801), (745, 0.014183366443328651), (746, 0.00962786351740297), (747, 0.0), (748, 0.0), (749, 0.030871200093396056), (750, 0.005095350725357296), (751, 0.07798283788633205), (752, 0.0), (753, 0.14248532724589758), (754, 0.0), (755, 0.0), (756, 0.0820952515358837), (757, 0.012253646794633184), (758, 0.0), (759, 0.0), (760, 0.023335711955469584), (761, 0.0050021894305275405), (762, 0.008987352794591013), (763, 0.020777480852241115), (764, 0.0), (765, 0.005285836537474353), (766, 0.0), (767, 0.0), (768, 0.013764737496712724), (769, 0.02439641021991352), (770, 0.0), (771, 0.0), (772, 0.013581767556316125), (773, 0.019075316185394032), (774, 0.014669147234647196), (775, 0.003826280469772163), (776, 0.0), (777, 0.0), (778, 0.0), (779, 0.008863234981571176), (780, 0.0206134526042639), (781, 0.0), (782, 0.018809929015018673), (783, 0.0), (784, 0.0), (785, 0.013500873992356603), (786, 0.021345414019513443), (787, 0.016209622190336066), (788, 0.023399789383920077), (789, 0.0), (790, 0.019715927553170916), (791, 0.010591557943458242), (792, 0.01631795890165806), (793, 0.010768243946130202), (794, 0.0), (795, 0.04260644745838826), (796, 0.0), (797, 0.0), (798, 0.0), (799, 0.019830154302507508), (800, 0.009319707425412771), (801, 0.03368570290697462), (802, 0.00547251448855577), (803, 0.00926723470900292), (804, 0.009325817574581514), (805, 0.009117139136989767), (806, 0.01583087962509842), (807, 0.007827996615071383), (808, 0.004409186057846399), (809, 0.010644816549553487), (810, 0.013884235614801725), (811, 0.018750029140315552), (812, 0.01853460247168749), (813, 0.0), (814, 0.014543068268054323), (815, 0.024108924999045264), (816, 0.05646138028772128), (817, 0.0), (818, 0.01572111989987568), (819, 0.0), (820, 0.014515138170038043), (821, 0.004915509835610527), (822, 0.0), (823, 0.0), (824, 0.03807381664054149), (825, 0.024934332950034648), (826, 0.005724106203548909), (827, 0.024389444980148223), (828, 0.01449122662977533), (829, 0.04908866899818749), (830, 0.03096974837269522), (831, 0.02387452104126709), (832, 0.00508538856857016), (833, 0.04640072526650815), (834, 0.059833534881524555), (835, 0.03237356012203411), (836, 0.0), (837, 0.0), (838, 0.0), (839, 0.0), (840, 0.0), (841, 0.0), (842, 0.03799850275954718), (843, 0.011642613677470768), (844, 0.0), (845, 0.06809461995676645), (846, 0.0), (847, 0.0), (848, 0.024302716222801238), (849, 0.010361839550891616), (850, 0.06010780782156433), (851, 0.0481987745293717), (852, 0.02437873207707703), (853, 0.05268911289850256), (854, 0.023829676383771654), (855, 0.005710738501943073), (856, 0.05127076058648689), (857, 0.0), (858, 0.00911036038196555), (859, 0.0), (860, 0.023568807516288415), (861, 0.0043068716885660795), (862, 0.025118929892614175), (863, 0.004571738183695985), (864, 0.03231638580060368), (865, 0.0), (866, 0.03917622046297746), (867, 0.033815601033875355), (868, 0.009626914873731567), (869, 0.021231373630128485), (870, 0.019890589511788716), (871, 0.010130233934308628), (872, 0.005745930835131066), (873, 0.0283778979724202), (874, 0.03191327881339799), (875, 0.05959561433814374), (876, 0.04998894018379462), (877, 0.003999673327608678), (878, 0.024282513204422478), (879, 0.04167295849383569), (880, 0.004929626995426392), (881, 0.03366311136918889), (882, 0.0), (883, 0.0), (884, 0.0), (885, 0.04236600434822489), (886, 0.009243143113661688), (887, 0.0), (888, 0.022544852505732644), (889, 0.0653054800093694), (890, 0.0), (891, 0.010922049347926049), (892, 0.0612396745177832), (893, 0.004509932045415697), (894, 0.01519624863556355), (895, 0.0), (896, 0.02222193192750015), (897, 0.0), (898, 0.025633659336833488), (899, 0.017266145174104162), (900, 0.013894559328159814), (901, 0.02449862033265355), (902, 0.010636222256903295), (903, 0.0), (904, 0.030263409771234838), (905, 0.04534817957219321), (906, 0.02979998922282444), (907, 0.0), (908, 0.02115466389546567), (909, 0.02791278002339015), (910, 0.0045783112848533005), (911, 0.04135445870187368), (912, 0.0), (913, 0.0056931926033427106), (914, 0.0), (915, 0.05857419191657698), (916, 0.0188486547152782), (917, 0.0), (918, 0.02660556362661549), (919, 0.010536983329936005), (920, 0.0), (921, 0.0), (922, 0.07020715246931938), (923, 0.00481650459403483), (924, 0.008587900324603817), (925, 0.0), (926, 0.0157193173195403), (927, 0.0145768071936765), (928, 0.026828716634988353), (929, 0.022837434043574086), (930, 0.026238130721057563), (931, 0.06998930259265349), (932, 0.0044709257050802404), (933, 0.0), (934, 0.02322688302867663), (935, 0.0), (936, 0.004500145825123975), (937, 0.02376584835813402), (938, 0.029995953037043575), (939, 0.014469225371363562), (940, 0.02070026222846566), (941, 0.0), (942, 0.03006600217773341), (943, 0.0), (944, 0.013190172274032345), (945, 0.005434656059074899), (946, 0.00534107786021266), (947, 0.03467969922748711), (948, 0.026073377806294838), (949, 0.0), (950, 0.0), (951, 0.016646183442160425), (952, 0.005406505462266695), (953, 0.025155851727686956), (954, 0.004796918932274468), (955, 0.04182918336605274), (956, 0.005880459488488586), (957, 0.012320599042912604), (958, 0.009011567948851953), (959, 0.019152728538299933), (960, 0.0), (961, 0.0), (962, 0.0), (963, 0.025052226095733057), (964, 0.015614686591254109), (965, 0.005355495206134017), (966, 0.0178072791253397), (967, 0.05642192045908319), (968, 0.0045305688664624665), (969, 0.010063201559296284), (970, 0.004225664167633099), (971, 0.07931178134799392), (972, 0.0), (973, 0.013293381819587662), (974, 0.018935953545191564), (975, 0.03511470920012427), (976, 0.04937182102342487), (977, 0.0), (978, 0.05557595189450885), (979, 0.06875711726917622), (980, 0.005169124674682852), (981, 0.009334682961012319), (982, 0.010845622976157978), (983, 0.0), (984, 0.03263736474029916), (985, 0.0), (986, 0.025689408628831456), (987, 0.0), (988, 0.02020464590017459), (989, 0.020007691483748955), (990, 0.005896004565008173), (991, 0.0053686856523115405), (992, 0.011092631321439375), (993, 0.0), (994, 0.04306167029970513), (995, 0.0), (996, 0.014631184340184546), (997, 0.009325238866664774), (998, 0.0), (999, 0.0), (1000, 0.023123723239738353), (1001, 0.00988214783956904), (1002, 0.017846433526680954), (1003, 0.022122009197329713), (1004, 0.0), (1005, 0.03238804810986162), (1006, 0.0), (1007, 0.02055458731780758), (1008, 0.0), (1009, 0.02182655548304258), (1010, 0.004539554239208059), (1011, 0.006061463845170205), (1012, 0.024296374445812577), (1013, 0.02071237756659612), (1014, 0.006218285432558619), (1015, 0.027790749113423885), (1016, 0.0), (1017, 0.024988671584163333), (1018, 0.017738592936316872), (1019, 0.0), (1020, 0.0), (1021, 0.018657237389002077), (1022, 0.0), (1023, 0.06307254328607743), (1024, 0.02677678417366122), (1025, 0.0), (1026, 0.01934932903121692), (1027, 0.0), (1028, 0.013316754243959455), (1029, 0.0), (1030, 0.014385056065813842), (1031, 0.005706561875562367), (1032, 0.0), (1033, 0.0), (1034, 0.02440625959257202), (1035, 0.024975689017676606), (1036, 0.0), (1037, 0.011516533522342304), (1038, 0.012929925438473813), (1039, 0.031193251399062358), (1040, 0.01105754183641829), (1041, 0.004694731906099579), (1042, 0.0), (1043, 0.0), (1044, 0.031032557065188274), (1045, 0.07996696189019747), (1046, 0.0662383424972692), (1047, 0.0211938170108474), (1048, 0.035655359537057695), (1049, 0.01948473679512852), (1050, 0.013068828465330576), (1051, 0.0), (1052, 0.01825502707181906), (1053, 0.018043239039471203), (1054, 0.02427615690822353), (1055, 0.0), (1056, 0.005839614636335414), (1057, 0.005759074216180234), (1058, 0.02493279850383948), (1059, 0.009759460453454789), (1060, 0.03575609871572561), (1061, 0.06399598923863181), (1062, 0.0), (1063, 0.02484008336240913), (1064, 0.024644784151401887), (1065, 0.009476925403227133), (1066, 0.004943237392939495), (1067, 0.009403418148897886), (1068, 0.06491587269698725), (1069, 0.06008410314023514), (1070, 0.0), (1071, 0.00533731376430813), (1072, 0.0), (1073, 0.0), (1074, 0.03567757312339704), (1075, 0.0), (1076, 0.019960909411765492), (1077, 0.0), (1078, 0.012775183384710136), (1079, 0.0), (1080, 0.017751302978911324), (1081, 0.0), (1082, 0.010183332389956433), (1083, 0.00520379712658174), (1084, 0.02866815349442135), (1085, 0.010051099481627732), (1086, 0.013223179657386525), (1087, 0.0), (1088, 0.0), (1089, 0.020593005052535956), (1090, 0.03251254913611766), (1091, 0.005875916017081421), (1092, 0.021428563455879013), (1093, 0.01485178793672987), (1094, 0.05778150899676639), (1095, 0.0), (1096, 0.021207791808732293), (1097, 0.019224055007228187), (1098, 0.0), (1099, 0.01099468538112224), (1100, 0.01842060744710664), (1101, 0.030064031110310484), (1102, 0.005326870830631747), (1103, 0.035788016984626025), (1104, 0.0214106964217487), (1105, 0.0), (1106, 0.0), (1107, 0.028099325980571174), (1108, 0.019921734034458318), (1109, 0.03318245607373391), (1110, 0.02563990258331704), (1111, 0.02227644740815728), (1112, 0.016574735209719495), (1113, 0.03823498735547544), (1114, 0.0), (1115, 0.032984000132280186), (1116, 0.03054575216836118), (1117, 0.01799364111272926), (1118, 0.0), (1119, 0.02171825886756003), (1120, 0.004264066712570029), (1121, 0.04298700929795969), (1122, 0.005464325324340369), (1123, 0.004753327521289503), (1124, 0.014677651804072388), (1125, 0.04285585945150705), (1126, 0.0), (1127, 0.010205333891497088), (1128, 0.01503148420213948), (1129, 0.02681093069922421), (1130, 0.047990922536332636), (1131, 0.016486971931043048), (1132, 0.03391106665078156), (1133, 0.009838085699598867), (1134, 0.009346252389576088), (1135, 0.004980628449682043), (1136, 0.0), (1137, 0.021107933275279194), (1138, 0.045197191802622196), (1139, 0.0), (1140, 0.0159117509851386), (1141, 0.027474527267553225), (1142, 0.01962257314616257), (1143, 0.011358043962641867), (1144, 0.0), (1145, 0.0), (1146, 0.0048359054279445415), (1147, 0.0), (1148, 0.022967239281301916), (1149, 0.04677936770755746), (1150, 0.048191573980868735), (1151, 0.005381819486146008), (1152, 0.015428133444370317), (1153, 0.028008081485078967), (1154, 0.00924191355997088), (1155, 0.014683478014134737), (1156, 0.024280967071593426), (1157, 0.012989874754258317), (1158, 0.005587829184310456), (1159, 0.0), (1160, 0.014560535107597706), (1161, 0.0), (1162, 0.028048232499966824), (1163, 0.0), (1164, 0.00843103006621459), (1165, 0.0), (1166, 0.013753933383575013), (1167, 0.016280831250024073), (1168, 0.0), (1169, 0.0), (1170, 0.016450595632194046), (1171, 0.0), (1172, 0.0053737550219235125), (1173, 0.04724780370780106), (1174, 0.010599904667054943), (1175, 0.050311363122394245), (1176, 0.0), (1177, 0.013998853983725381), (1178, 0.04579955584057821), (1179, 0.010367240936172823), (1180, 0.03195960873372071), (1181, 0.004708799806499334), (1182, 0.0), (1183, 0.023863106077128986), (1184, 0.023206531009925358), (1185, 0.027085691767937507), (1186, 0.0), (1187, 0.0), (1188, 0.005249527942331286), (1189, 0.0), (1190, 0.0), (1191, 0.005021171630606399), (1192, 0.00524014661864179), (1193, 0.0), (1194, 0.06855862546323227), (1195, 0.0), (1196, 0.023412751519465782), (1197, 0.017004449997236187), (1198, 0.0), (1199, 0.01248888354461566), (1200, 0.0128681960818265), (1201, 0.03127709097733142), (1202, 0.02672071512308154), (1203, 0.0), (1204, 0.0), (1205, 0.07788639284329171), (1206, 0.0), (1207, 0.025604026591558086), (1208, 0.0), (1209, 0.0), (1210, 0.0075396773142098), (1211, 0.017524378276287778), (1212, 0.004630253254783754), (1213, 0.013475557246434157), (1214, 0.01736369797934366), (1215, 0.0042810552129771634), (1216, 0.04282885670696915), (1217, 0.0), (1218, 0.01870012097607088), (1219, 0.014741337396706172), (1220, 0.004514135012983176), (1221, 0.0180124963246402), (1222, 0.04271503716700483), (1223, 0.00502079148565346), (1224, 0.09771054155565054), (1225, 0.01093836286447064), (1226, 0.04497023985920485), (1227, 0.09036672962589394), (1228, 0.0), (1229, 0.01082484735003543), (1230, 0.03826525544680732), (1231, 0.041832654059414956), (1232, 0.07865278535174854), (1233, 0.024574206645330207), (1234, 0.03364491044898482), (1235, 0.0), (1236, 0.031374601002347804), (1237, 0.04462450112290545), (1238, 0.0), (1239, 0.05254637390577225), (1240, 0.005948366884547251), (1241, 0.004412280870725577), (1242, 0.06667767675608743), (1243, 0.028904795720548774), (1244, 0.005536200425235405), (1245, 0.016130978889852023), (1246, 0.021176308842647026), (1247, 0.0), (1248, 0.0704669946862435), (1249, 0.028881231256677832), (1250, 0.0), (1251, 0.02387956845947981), (1252, 0.048708761697280376), (1253, 0.02831860423738077), (1254, 0.03315808239535174), (1255, 0.0688410074324711), (1256, 0.015514954931966729), (1257, 0.010217386602027173), (1258, 0.006492923146569157), (1259, 0.023498099115287115), (1260, 0.03800590234602129), (1261, 0.009545755821940075), (1262, 0.010341041438156593), (1263, 0.0052928140802049346), (1264, 0.018478606996460895), (1265, 0.005833378105321517), (1266, 0.010578312110923487), (1267, 0.0), (1268, 0.0), (1269, 0.02176421106490346), (1270, 0.004585139261881092), (1271, 0.0), (1272, 0.05714984508883375), (1273, 0.005108092079163557), (1274, 0.01854223530018695), (1275, 0.02347144877852342), (1276, 0.03930398245640338), (1277, 0.0), (1278, 0.013962648067442908), (1279, 0.02405250527440222), (1280, 0.011041045232792947), (1281, 0.05145823900704868), (1282, 0.0982032411340947), (1283, 0.004720020262660091), (1284, 0.019081805159340028), (1285, 0.005138528888492469), (1286, 0.0), (1287, 0.0), (1288, 0.04349546880410221), (1289, 0.0), (1290, 0.031935963375584506), (1291, 0.0), (1292, 0.05405226161836068), (1293, 0.005158838043607614), (1294, 0.0), (1295, 0.019525281204613443), (1296, 0.02659096647404747), (1297, 0.0), (1298, 0.0), (1299, 0.0), (1300, 0.017200489971670632), (1301, 0.03540549743170958), (1302, 0.027182447556636402), (1303, 0.016400743577984628), (1304, 0.0), (1305, 0.07454831333200257), (1306, 0.0), (1307, 0.0), (1308, 0.026438638694231992), (1309, 0.04485332337046731), (1310, 0.004844199384098488), (1311, 0.0), (1312, 0.0), (1313, 0.0), (1314, 0.08511236793771185), (1315, 0.04611153321968507), (1316, 0.0), (1317, 0.012429154948379621), (1318, 0.0), (1319, 0.0), (1320, 0.06218924962518172), (1321, 0.006177120161035642), (1322, 0.0), (1323, 0.0), (1324, 0.016242209933451112), (1325, 0.022048099434507192), (1326, 0.004381447962624492), (1327, 0.017811414091230104), (1328, 0.005659948563771085), (1329, 0.009729283809964946), (1330, 0.015058874539100363), (1331, 0.03511151005234992), (1332, 0.011552474060838064), (1333, 0.014388686593492213), (1334, 0.06676315570730909), (1335, 0.025965021974795152), (1336, 0.0), (1337, 0.05564434433040226), (1338, 0.020366860186444326), (1339, 0.02678516924704428), (1340, 0.00837293398160014), (1341, 0.018063365106426723), (1342, 0.02212931156781638), (1343, 0.054477768957164746), (1344, 0.07586706839954628), (1345, 0.013462967513633245), (1346, 0.005397894786132129), (1347, 0.014353974545731705), (1348, 0.0223938167279268), (1349, 0.07808121477910449), (1350, 0.005228152635974015), (1351, 0.03787552643248398), (1352, 0.004559130662280112), (1353, 0.01833431606425302), (1354, 0.004951220770626856), (1355, 0.026712393162375225), (1356, 0.004233165267554483), (1357, 0.004946157665194932), (1358, 0.005289714291843617), (1359, 0.0), (1360, 0.018513473959402487), (1361, 0.0269191422874693), (1362, 0.03250067919629177), (1363, 0.0), (1364, 0.0), (1365, 0.022787922738419446), (1366, 0.004841479033587662), (1367, 0.016466810100746996), (1368, 0.005178517922331086), (1369, 0.021042079792761334), (1370, 0.0), (1371, 0.017040489255594354), (1372, 0.0), (1373, 0.0), (1374, 0.01953875147631169), (1375, 0.025345834623212698), (1376, 0.0), (1377, 0.02073869036338869), (1378, 0.0), (1379, 0.004652073409605006), (1380, 0.06329936962084744), (1381, 0.011898663730261282), (1382, 0.014613053537968546), (1383, 0.005645775543100178), (1384, 0.043322032062965865), (1385, 0.025741366637504474), (1386, 0.00545664343501501), (1387, 0.030874211654034388), (1388, 0.01540715071430544), (1389, 0.0), (1390, 0.0), (1391, 0.0055798240001460955), (1392, 0.008765885694844143), (1393, 0.04850311401629348), (1394, 0.0174702329106075), (1395, 0.022995660776534962), (1396, 0.0499666024951867), (1397, 0.0), (1398, 0.006213199503967766), (1399, 0.022859695912747943), (1400, 0.020195552709932625), (1401, 0.036231328903485405), (1402, 0.01033855335274969), (1403, 0.0), (1404, 0.0), (1405, 0.0), (1406, 0.025126422705017824), (1407, 0.0451413644655357), (1408, 0.018242281828892835), (1409, 0.02509145134459429), (1410, 0.06380341576312377), (1411, 0.0), (1412, 0.04011066146524454), (1413, 0.010522958683867597), (1414, 0.016499218063000275), (1415, 0.0), (1416, 0.0), (1417, 0.03468934859769739), (1418, 0.018523103217153496), (1419, 0.04536524132839916), (1420, 0.004981088147850679), (1421, 0.022878502715295474), (1422, 0.0), (1423, 0.0), (1424, 0.029096084949810506), (1425, 0.03875676387984763), (1426, 0.0052988584751719045), (1427, 0.0), (1428, 0.014087056886916343), (1429, 0.006012619122516666), (1430, 0.0263643346813365), (1431, 0.019618360243980924), (1432, 0.02677984058209261), (1433, 0.024809695558761186), (1434, 0.0), (1435, 0.021912945752134417), (1436, 0.058157990276529264), (1437, 0.0060818028132381486), (1438, 0.029212833504330675), (1439, 0.0), (1440, 0.021027263776155453), (1441, 0.0), (1442, 0.026533168930840158), (1443, 0.0276510650061202), (1444, 0.0), (1445, 0.03217947811572938), (1446, 0.0), (1447, 0.04447184479814877), (1448, 0.013731423495895848), (1449, 0.005265311491942369), (1450, 0.0), (1451, 0.017996166223448355), (1452, 0.020250673026496142), (1453, 0.010856374894044379), (1454, 0.02221778196324167), (1455, 0.025677793131196554), (1456, 0.015252116356276968), (1457, 0.013184445077033846), (1458, 0.0830821844037911), (1459, 0.019218537493832018), (1460, 0.005941810846611405), (1461, 0.015512000290182812), (1462, 0.028513153643911326), (1463, 0.03039525713446303), (1464, 0.0), (1465, 0.011698053114107586), (1466, 0.02809242760298961), (1467, 0.027238706519377664), (1468, 0.004757449653829729), (1469, 0.031147598413296253), (1470, 0.005555499247157774), (1471, 0.019064812979214633), (1472, 0.018709343664143653), (1473, 0.0), (1474, 0.0), (1475, 0.0), (1476, 0.0), (1477, 0.021736850963986008), (1478, 0.06338107532572966), (1479, 0.05191717539477329), (1480, 0.047222254583209916), (1481, 0.01968807541143453), (1482, 0.0), (1483, 0.05079737313054965), (1484, 0.031826283324208185), (1485, 0.023720410670651157), (1486, 0.005910863669259929), (1487, 0.0), (1488, 0.00501402155494335), (1489, 0.005619947809622035), (1490, 0.0), (1491, 0.0), (1492, 0.022752343918422), (1493, 0.014327090995277977), (1494, 0.0), (1495, 0.013727391821367748), (1496, 0.018420070965921197), (1497, 0.016157412336203752), (1498, 0.005560358519811933), (1499, 0.0), (1500, 0.0), (1501, 0.0634882070759371), (1502, 0.010949468143496052), (1503, 0.014898483119970416), (1504, 0.04003897870200956), (1505, 0.052944794863167374), (1506, 0.03583176683776805), (1507, 0.017567027890927196), (1508, 0.0), (1509, 0.04008350243611018), (1510, 0.03905239247584513), (1511, 0.03585316686503493), (1512, 0.022151865653753017), (1513, 0.021571150178851747), (1514, 0.02555873710387342), (1515, 0.043958963791701694), (1516, 0.005527508898251654), (1517, 0.0), (1518, 0.0), (1519, 0.02466008097535967), (1520, 0.0), (1521, 0.0), (1522, 0.005419883435043126), (1523, 0.02807682411124557), (1524, 0.0), (1525, 0.0), (1526, 0.012893892770518882), (1527, 0.052838635996953945), (1528, 0.0), (1529, 0.0), (1530, 0.008491361817174962), (1531, 0.005284500407341569), (1532, 0.018717390252893762), (1533, 0.020002173451490884), (1534, 0.0), (1535, 0.004513205201526911), (1536, 0.021533377011395335), (1537, 0.01110102802132753), (1538, 0.0), (1539, 0.016701851557772804), (1540, 0.02418999302288808), (1541, 0.033479987189703915), (1542, 0.021060880376963444), (1543, 0.0), (1544, 0.01987811498891409), (1545, 0.014601246409899075), (1546, 0.008919942526759088), (1547, 0.006251168866838612), (1548, 0.06462512747150086), (1549, 0.0), (1550, 0.009721911523469783), (1551, 0.014605717344070093), (1552, 0.025846361533057888), (1553, 0.0406065540664489), (1554, 0.011415941993249704), (1555, 0.004655980890721659), (1556, 0.0), (1557, 0.0), (1558, 0.0), (1559, 0.05697321715309023), (1560, 0.006048216345999677), (1561, 0.009476636367503836), (1562, 0.0353948399717125), (1563, 0.02034949607106013), (1564, 0.005496944782977475), (1565, 0.02500787752524706), (1566, 0.07332357695347276), (1567, 0.01875796970551391), (1568, 0.004564114989750899), (1569, 0.05503688201875448), (1570, 0.005644570169697953), (1571, 0.0), (1572, 0.0527136336245207), (1573, 0.004927206884209379), (1574, 0.0), (1575, 0.015911605635612915), (1576, 0.03534561667817572), (1577, 0.005414086270374861), (1578, 0.0), (1579, 0.020490725646243622), (1580, 0.0), (1581, 0.0), (1582, 0.024192705177092346), (1583, 0.0), (1584, 0.0), (1585, 0.07792714402597477), (1586, 0.0), (1587, 0.01055442901342761), (1588, 0.01932408088496851), (1589, 0.04319768813279763), (1590, 0.004360635246097068), (1591, 0.02977487661735777), (1592, 0.014767461357096268), (1593, 0.0), (1594, 0.011038688966655915), (1595, 0.027331083148483797), (1596, 0.0), (1597, 0.0), (1598, 0.0), (1599, 0.005434208075621356), (1600, 0.0), (1601, 0.0), (1602, 0.0), (1603, 0.020489609461686428), (1604, 0.005321475856502612), (1605, 0.0), (1606, 0.0), (1607, 0.0), (1608, 0.004414692841574371), (1609, 0.017758374051667646), (1610, 0.0), (1611, 0.04009913055656806), (1612, 0.0), (1613, 0.010255197239356079), (1614, 0.02644501241060972), (1615, 0.03089028205740806), (1616, 0.0), (1617, 0.03463416867480218), (1618, 0.0), (1619, 0.0), (1620, 0.03817443296247272), (1621, 0.039377693709942804), (1622, 0.004916425788976281), (1623, 0.004631348137919938), (1624, 0.0), (1625, 0.0), (1626, 0.02919779425226457), (1627, 0.029008128668974002), (1628, 0.0), (1629, 0.04123209570444945), (1630, 0.019301310656787835), (1631, 0.004745145451585863), (1632, 0.03769280637536666), (1633, 0.004778973034362035), (1634, 0.0), (1635, 0.004904986120196243), (1636, 0.0), (1637, 0.0), (1638, 0.014102496309939302), (1639, 0.0), (1640, 0.0), (1641, 0.0), (1642, 0.0), (1643, 0.02999234016964591), (1644, 0.0), (1645, 0.0959342698042807), (1646, 0.02098821974867607), (1647, 0.018639564028127716), (1648, 0.0), (1649, 0.005002060024170602), (1650, 0.0), (1651, 0.026737802451826033), (1652, 0.0), (1653, 0.01011121660353884), (1654, 0.06576960566429568), (1655, 0.0), (1656, 0.0), (1657, 0.004847447789635771), (1658, 0.0), (1659, 0.011051807752185432), (1660, 0.0), (1661, 0.005385869666638637), (1662, 0.04384260467643612), (1663, 0.0), (1664, 0.0), (1665, 0.02407159302480661), (1666, 0.03263642685443266), (1667, 0.018747154636761847), (1668, 0.0), (1669, 0.0), (1670, 0.0), (1671, 0.04825316531106143), (1672, 0.012351924033272363), (1673, 0.0), (1674, 0.01673415323584931), (1675, 0.11079005055989906), (1676, 0.03986183283572877), (1677, 0.014736086897118352), (1678, 0.025562149496835305), (1679, 0.0), (1680, 0.043025728071018905), (1681, 0.028225269085989425), (1682, 0.049775592447623224), (1683, 0.028081337132658372), (1684, 0.0), (1685, 0.0), (1686, 0.0), (1687, 0.02725845155710556), (1688, 0.024031098779413982), (1689, 0.0), (1690, 0.04031544405143384), (1691, 0.0), (1692, 0.018660673131138), (1693, 0.015428374013744597), (1694, 0.01806073097124353), (1695, 0.010921133431542924), (1696, 0.023398612022648035), (1697, 0.0), (1698, 0.0), (1699, 0.049229368337044443), (1700, 0.05000668690977294), (1701, 0.02810426602226225), (1702, 0.0), (1703, 0.061089230510167125), (1704, 0.0), (1705, 0.022174404137374558), (1706, 0.01890119337055493), (1707, 0.034880865048138344), (1708, 0.005764674040458664), (1709, 0.010063162265453696), (1710, 0.0), (1711, 0.0), (1712, 0.0), (1713, 0.011773924844018086), (1714, 0.004907135236245925), (1715, 0.0), (1716, 0.08772304857382963), (1717, 0.03533713153753679), (1718, 0.0), (1719, 0.0), (1720, 0.009819892255256446), (1721, 0.03373176751480137), (1722, 0.01429647899033765), (1723, 0.0046951437306201865), (1724, 0.005385193428098515), (1725, 0.014916749601150171), (1726, 0.0), (1727, 0.021530225418553456), (1728, 0.03198215006888348), (1729, 0.0), (1730, 0.0), (1731, 0.021015846211885587), (1732, 0.011081949677123311), (1733, 0.0), (1734, 0.01976187342170779), (1735, 0.02135503602704724), (1736, 0.02167793099387392), (1737, 0.0), (1738, 0.014563003562193247), (1739, 0.018290316248653432), (1740, 0.026225822065353413), (1741, 0.016775917500263055), (1742, 0.022176322421707858), (1743, 0.023535637823085834), (1744, 0.0), (1745, 0.029259206302138987), (1746, 0.03733027067360133), (1747, 0.007672756047942412), (1748, 0.022950163771355555), (1749, 0.02729262498885632), (1750, 0.04713560518206392), (1751, 0.04014512828678336), (1752, 0.02191025260324902), (1753, 0.004299085196375537), (1754, 0.016898788995532397), (1755, 0.0), (1756, 0.0), (1757, 0.0), (1758, 0.021659238168258776), (1759, 0.01572366498698786), (1760, 0.10448006017872088), (1761, 0.005111066058889059), (1762, 0.0), (1763, 0.0), (1764, 0.018895947548935987), (1765, 0.0), (1766, 0.0), (1767, 0.0), (1768, 0.0), (1769, 0.029565414483846007), (1770, 0.00577120456208731), (1771, 0.013154702808894345), (1772, 0.008997564840680651), (1773, 0.004900220597275876), (1774, 0.03664400519196465), (1775, 0.010287677741921072), (1776, 0.013509969069222121), (1777, 0.0), (1778, 0.0), (1779, 0.03018710919366177), (1780, 0.015373353435932054), (1781, 0.07539091415652178), (1782, 0.009017413960847796), (1783, 0.013320910102348555), (1784, 0.013494243779547896), (1785, 0.02050123336645156), (1786, 0.0), (1787, 0.0), (1788, 0.009750121999321633), (1789, 0.07357809811061616), (1790, 0.0), (1791, 0.03111683137777772), (1792, 0.0), (1793, 0.01540126988297924), (1794, 0.0), (1795, 0.008914842269582194), (1796, 0.06655304800282233), (1797, 0.0411604944900746), (1798, 0.030940463404137458), (1799, 0.01135622740716254), (1800, 0.0), (1801, 0.019791468562125065), (1802, 0.07115986205005653), (1803, 0.02045554481384738), (1804, 0.0), (1805, 0.0), (1806, 0.016747544146924365), (1807, 0.013886683791125667), (1808, 0.04456882760832838), (1809, 0.009370675850155873), (1810, 0.0), (1811, 0.01834559870578253), (1812, 0.011076247649120755), (1813, 0.03128406028606219), (1814, 0.0199489169333353), (1815, 0.029760476247228707), (1816, 0.01382826185165678), (1817, 0.004488414204251246), (1818, 0.0334437787010192), (1819, 0.004659545520231977), (1820, 0.012547766483603147), (1821, 0.072450919360857), (1822, 0.005665764453300783), (1823, 0.004965894516342122), (1824, 0.0), (1825, 0.0), (1826, 0.0), (1827, 0.01783114705061652), (1828, 0.06352486470523251), (1829, 0.01617596436243294), (1830, 0.016596504594172213), (1831, 0.02374650758907359), (1832, 0.020775297165527083), (1833, 0.011553788573513203), (1834, 0.0), (1835, 0.0), (1836, 0.0), (1837, 0.0), (1838, 0.03528643035220407), (1839, 0.025060331529895515), (1840, 0.031170288357614862), (1841, 0.005582330326368388), (1842, 0.02305809808749534), (1843, 0.0), (1844, 0.0), (1845, 0.03147911114656498), (1846, 0.010100687466569676), (1847, 0.021379894565516665), (1848, 0.0), (1849, 0.013937289172190129), (1850, 0.07772623414124381), (1851, 0.0), (1852, 0.004932079600449481), (1853, 0.0272126645517813), (1854, 0.04258016165335679), (1855, 0.0), (1856, 0.0), (1857, 0.004923729888574836), (1858, 0.028197190406418802), (1859, 0.005273800298376958), (1860, 0.020159203744544656), (1861, 0.022359038256830728), (1862, 0.0), (1863, 0.008514902054015209), (1864, 0.004810487382046648), (1865, 0.035664483805816834), (1866, 0.005461194492074412), (1867, 0.016228245294897612), (1868, 0.017542034000199675), (1869, 0.0), (1870, 0.059679410999372184), (1871, 0.0413980821830975), (1872, 0.01683132436979826), (1873, 0.014875441832192002), (1874, 0.01657850426561003), (1875, 0.0), (1876, 0.0104282436384864), (1877, 0.0), (1878, 0.015800745356878674), (1879, 0.0), (1880, 0.01622489190461915), (1881, 0.010845001198370386), (1882, 0.0), (1883, 0.028228696151610787), (1884, 0.0), (1885, 0.0), (1886, 0.004265992398133485), (1887, 0.0), (1888, 0.009685084209314049), (1889, 0.0), (1890, 0.0), (1891, 0.0), (1892, 0.004541542453354233), (1893, 0.0), (1894, 0.005816133054834502), (1895, 0.0207324307334424), (1896, 0.0), (1897, 0.00542278841122357), (1898, 0.005018669846095432), (1899, 0.012578670236377907), (1900, 0.00963043683106516), (1901, 0.025135834503986213), (1902, 0.005257039272588467), (1903, 0.012621908811666652), (1904, 0.010965341848385334), (1905, 0.0), (1906, 0.01669772942049749), (1907, 0.0), (1908, 0.0), (1909, 0.0), (1910, 0.02639447470237403), (1911, 0.13889953997167445), (1912, 0.02245494897670035), (1913, 0.009729571748896108), (1914, 0.017381397931677527), (1915, 0.009376275825771276), (1916, 0.0), (1917, 0.0), (1918, 0.04152552990731266), (1919, 0.023677260740919297), (1920, 0.0), (1921, 0.0), (1922, 0.015485705692770035), (1923, 0.017036912676456645), (1924, 0.0057138652291281915), (1925, 0.004366071327107136), (1926, 0.0), (1927, 0.021321234808888187), (1928, 0.029490109393357524), (1929, 0.0), (1930, 0.028765433427943007), (1931, 0.041168760987390585), (1932, 0.0), (1933, 0.02773706819633943), (1934, 0.04224792123493519), (1935, 0.11418186833922819), (1936, 0.015562156178967355), (1937, 0.10664759805374346), (1938, 0.0), (1939, 0.01376042317366788), (1940, 0.005845484618612319), (1941, 0.012410054153818073), (1942, 0.020695639620220252), (1943, 0.0), (1944, 0.016377260846293117), (1945, 0.02086477843755752), (1946, 0.014548009624312104), (1947, 0.0), (1948, 0.01292330471024253), (1949, 0.026653081739925), (1950, 0.0), (1951, 0.0), (1952, 0.005385701767491275), (1953, 0.03020470907415885), (1954, 0.0), (1955, 0.0), (1956, 0.0), (1957, 0.011335564519589558), (1958, 0.02076330759770794), (1959, 0.0), (1960, 0.005537559000325281), (1961, 0.0), (1962, 0.005571713085609116), (1963, 0.0), (1964, 0.034542817234232005), (1965, 0.022630421155182417), (1966, 0.018200325178108816), (1967, 0.01976147430732335), (1968, 0.012176642014569354), (1969, 0.031938457108672214), (1970, 0.057771418458659574), (1971, 0.01755171218316839), (1972, 0.0), (1973, 0.11114348336508341), (1974, 0.06170784013607064), (1975, 0.005268010653603051), (1976, 0.011582885615669402), (1977, 0.004778724163498331), (1978, 0.025481651482096253), (1979, 0.0), (1980, 0.0), (1981, 0.012810892784000891), (1982, 0.004916096877817575), (1983, 0.041722188635856), (1984, 0.0), (1985, 0.025978243001112157), (1986, 0.015171213453021111), (1987, 0.019008150425388823), (1988, 0.018575779250331128), (1989, 0.08683503892213137), (1990, 0.004556602870257014), (1991, 0.00507370152727769), (1992, 0.0499225688242327), (1993, 0.02707134595896074), (1994, 0.0), (1995, 0.0), (1996, 0.004805658184288467), (1997, 0.038767440262135654), (1998, 0.005061794820226938), (1999, 0.0), (2000, 0.018609067375546698), (2001, 0.0), (2002, 0.0), (2003, 0.009525016776700236), (2004, 0.0), (2005, 0.0), (2006, 0.0), (2007, 0.0), (2008, 0.00486387858548289), (2009, 0.02791196102572981), (2010, 0.00423858084162809), (2011, 0.0), (2012, 0.011924204314796127), (2013, 0.008261201841511096), (2014, 0.03669306769750895), (2015, 0.010826912954401477), (2016, 0.03550437605094159), (2017, 0.0), (2018, 0.0), (2019, 0.0), (2020, 0.020555295538192835), (2021, 0.011619359646954285), (2022, 0.010700792694362325), (2023, 0.0649655212543506), (2024, 0.024618847513547107), (2025, 0.017982606208927325), (2026, 0.05742136717614639), (2027, 0.0), (2028, 0.02669367666173591), (2029, 0.024602272195027607), (2030, 0.0), (2031, 0.004513213967996991), (2032, 0.0), (2033, 0.004882083894312431), (2034, 0.004421918165927514), (2035, 0.0), (2036, 0.030731634406054406), (2037, 0.022168425898990873), (2038, 0.0), (2039, 0.0), (2040, 0.02840242114587475), (2041, 0.0), (2042, 0.0), (2043, 0.03864365808784837), (2044, 0.047383219773235966), (2045, 0.010537470325156093), (2046, 0.0), (2047, 0.02082495928772314), (2048, 0.014571582467052252), (2049, 0.0), (2050, 0.012865813364901465), (2051, 0.01608509049561664), (2052, 0.005005466605394784), (2053, 0.04336956890752111), (2054, 0.0), (2055, 0.018767824539321597), (2056, 0.013642615882667821), (2057, 0.05607151371323925), (2058, 0.02976564524301329), (2059, 0.02288660244990426), (2060, 0.06067490031585359), (2061, 0.030356024906039728), (2062, 0.022979442727425373), (2063, 0.01489722741597847), (2064, 0.0), (2065, 0.056372918599187936), (2066, 0.02892140299549298), (2067, 0.02511957197125121), (2068, 0.013452848006162688), (2069, 0.014600920557582674), (2070, 0.017399280262734598), (2071, 0.0), (2072, 0.0), (2073, 0.0), (2074, 0.020950986526545465), (2075, 0.03213652902763347), (2076, 0.012938041795786852), (2077, 0.025254141892656165), (2078, 0.07932315165181153), (2079, 0.0), (2080, 0.014821538891362927), (2081, 0.005372909553907365), (2082, 0.02246474167380903), (2083, 0.005616888174355933), (2084, 0.005397626458553202), (2085, 0.06506078515466775), (2086, 0.0), (2087, 0.0), (2088, 0.010863332927197884), (2089, 0.005876921278385834), (2090, 0.01714972625742104), (2091, 0.010512995979267949), (2092, 0.0492962826231111), (2093, 0.03796468043555269), (2094, 0.04328420031433815), (2095, 0.013672834970791714), (2096, 0.021681717786927488), (2097, 0.10543033364234171), (2098, 0.0), (2099, 0.0), (2100, 0.00948053035785309), (2101, 0.0), (2102, 0.0), (2103, 0.005226218368181426), (2104, 0.02640020525651586), (2105, 0.0), (2106, 0.0), (2107, 0.0), (2108, 0.018238417199618367), (2109, 0.013601196407419218), (2110, 0.01866386454777496), (2111, 0.0), (2112, 0.0224516713143454), (2113, 0.004200039808317356), (2114, 0.03676861585625021), (2115, 0.0), (2116, 0.0), (2117, 0.005148320760127892), (2118, 0.01452350067130984), (2119, 0.018870366736196548), (2120, 0.0), (2121, 0.004761454381445514), (2122, 0.0), (2123, 0.035514673019184116), (2124, 0.011504021019624906), (2125, 0.0049087998592224355), (2126, 0.01582031034203309), (2127, 0.004505758418532777), (2128, 0.0), (2129, 0.009135676604482959), (2130, 0.005055694085770888), (2131, 0.04243228101554958), (2132, 0.0), (2133, 0.03148046135420207), (2134, 0.0), (2135, 0.0), (2136, 0.0112374375920055), (2137, 0.0), (2138, 0.0), (2139, 0.02731070139720046), (2140, 0.0), (2141, 0.01570608900315623), (2142, 0.0), (2143, 0.0), (2144, 0.10025547219944572), (2145, 0.0), (2146, 0.0), (2147, 0.06593773574788254), (2148, 0.0), (2149, 0.015548724374618416), (2150, 0.005197533822777986), (2151, 0.0), (2152, 0.008384065754717842), (2153, 0.005396568521591652), (2154, 0.026055724145223967), (2155, 0.0), (2156, 0.01201471986997452), (2157, 0.0), (2158, 0.029381589913541763), (2159, 0.03783530439088358), (2160, 0.015462432642927132), (2161, 0.02926293912159894), (2162, 0.13379598041414412), (2163, 0.02102810838480784), (2164, 0.006007516012021552), (2165, 0.0), (2166, 0.005054766273923379), (2167, 0.02264573950176103), (2168, 0.05052470336659384), (2169, 0.0), (2170, 0.0), (2171, 0.0), (2172, 0.0), (2173, 0.0), (2174, 0.020163113375866692), (2175, 0.0), (2176, 0.0), (2177, 0.03293279099680144), (2178, 0.02500662531685538), (2179, 0.0), (2180, 0.017405362537194054), (2181, 0.011769215471111382), (2182, 0.04882884646996001), (2183, 0.0), (2184, 0.019452007358777355), (2185, 0.004808242086876329), (2186, 0.0), (2187, 0.0), (2188, 0.012654135651182973), (2189, 0.0), (2190, 0.0), (2191, 0.051131931657189475), (2192, 0.014257272268510587), (2193, 0.0), (2194, 0.0), (2195, 0.0), (2196, 0.058888287931153555), (2197, 0.008769643034089735), (2198, 0.032950664778658115), (2199, 0.0), (2200, 0.0), (2201, 0.0), (2202, 0.02601761517464293), (2203, 0.015036080990375938), (2204, 0.0), (2205, 0.005023962684076729), (2206, 0.04528289723065667), (2207, 0.0), (2208, 0.010989538607475846), (2209, 0.0), (2210, 0.04173609737843206), (2211, 0.0), (2212, 0.08365460318688958), (2213, 0.008792129539929703), (2214, 0.039983467001263664), (2215, 0.0), (2216, 0.019936057192769377), (2217, 0.005618842015264354), (2218, 0.026074338081097246), (2219, 0.0), (2220, 0.0), (2221, 0.0), (2222, 0.013936872328327006), (2223, 0.0), (2224, 0.024395491034391138), (2225, 0.01715593015613147), (2226, 0.016067732158328775), (2227, 0.012652453304150518), (2228, 0.05361521824883746), (2229, 0.02223018638964594), (2230, 0.0), (2231, 0.0055269266165464265), (2232, 0.02842906076843229), (2233, 0.00589002448468869), (2234, 0.05298718368602018), (2235, 0.020902504319826383), (2236, 0.012243835346657066), (2237, 0.004709661362283202), (2238, 0.005558368919132073), (2239, 0.005235468851901715), (2240, 0.0), (2241, 0.0055812426755843785), (2242, 0.0), (2243, 0.005757019987772695), (2244, 0.0), (2245, 0.017863068149171886), (2246, 0.004992048715160619), (2247, 0.0), (2248, 0.0), (2249, 0.0), (2250, 0.048447004551073675), (2251, 0.0), (2252, 0.02191717129978845), (2253, 0.0), (2254, 0.02182869941710858), (2255, 0.006452706954800108), (2256, 0.008858599055152242), (2257, 0.0), (2258, 0.02873626454308516), (2259, 0.022523262113145776), (2260, 0.0), (2261, 0.05755263167585095), (2262, 0.0), (2263, 0.015194638679310573), (2264, 0.013628531553417454), (2265, 0.0), (2266, 0.0), (2267, 0.0), (2268, 0.0), (2269, 0.02288565525078723), (2270, 0.0), (2271, 0.01855106156537448), (2272, 0.0), (2273, 0.005903188580284913), (2274, 0.004938500143454244), (2275, 0.03481554170680719), (2276, 0.042165389277167634), (2277, 0.0054406964871517045), (2278, 0.02886786925422051), (2279, 0.014946819926326802), (2280, 0.029917210481351108), (2281, 0.0), (2282, 0.0), (2283, 0.005329916894691774), (2284, 0.02045155470876725), (2285, 0.0), (2286, 0.0), (2287, 0.0), (2288, 0.0), (2289, 0.0), (2290, 0.0169817705122898), (2291, 0.012129154831202513), (2292, 0.0546952273299187), (2293, 0.05416953091266065), (2294, 0.004636752849198455), (2295, 0.02066521471874954), (2296, 0.004508650852820778), (2297, 0.009663993967334661), (2298, 0.021717918928286308), (2299, 0.022639220923915505), (2300, 0.0), (2301, 0.0), (2302, 0.0), (2303, 0.018487522955707974), (2304, 0.017139959367525243), (2305, 0.022419359961893075), (2306, 0.0), (2307, 0.028327730410808022), (2308, 0.07900366848368803), (2309, 0.0), (2310, 0.0), (2311, 0.0), (2312, 0.0), (2313, 0.0), (2314, 0.005501932421334947), (2315, 0.03816074541650459), (2316, 0.022180319631534662), (2317, 0.0), (2318, 0.029461738731608667), (2319, 0.020363639796541107), (2320, 0.0), (2321, 0.0157607625727823), (2322, 0.013143423931985363), (2323, 0.0177945077881397), (2324, 0.0), (2325, 0.0), (2326, 0.003927284685657847), (2327, 0.0), (2328, 0.00613861165916484), (2329, 0.025739625077358073), (2330, 0.03854241204575948), (2331, 0.0281521674972596), (2332, 0.0), (2333, 0.0), (2334, 0.03550908372624966), (2335, 0.023774809083043545), (2336, 0.02022762533298195), (2337, 0.0), (2338, 0.023025624021186276), (2339, 0.0), (2340, 0.09299640258189026), (2341, 0.0), (2342, 0.02232799466105522), (2343, 0.0), (2344, 0.005011842533617896), (2345, 0.0), (2346, 0.03873836663605357), (2347, 0.02436113890206784), (2348, 0.004710953804879614), (2349, 0.0), (2350, 0.0), (2351, 0.0), (2352, 0.008426014101686079), (2353, 0.032810572091014754), (2354, 0.0), (2355, 0.004169683501178308), (2356, 0.005999967217563479), (2357, 0.0), (2358, 0.0), (2359, 0.01126190126690852), (2360, 0.0), (2361, 0.0056930248080379236), (2362, 0.0), (2363, 0.025590305037203793), (2364, 0.0), (2365, 0.0), (2366, 0.014758034755821284), (2367, 0.0207391697541294), (2368, 0.061960541560202066), (2369, 0.0), (2370, 0.0), (2371, 0.0), (2372, 0.0), (2373, 0.0), (2374, 0.005068780443494505), (2375, 0.0), (2376, 0.0), (2377, 0.01486868875969924), (2378, 0.006316421999076036), (2379, 0.0), (2380, 0.0), (2381, 0.005984102985383711), (2382, 0.0), (2383, 0.05758948175972128), (2384, 0.0), (2385, 0.0), (2386, 0.0), (2387, 0.0), (2388, 0.0), (2389, 0.004787560819207456), (2390, 0.0), (2391, 0.0), (2392, 0.02559422998519198), (2393, 0.0), (2394, 0.0), (2395, 0.0), (2396, 0.0), (2397, 0.0), (2398, 0.024328651118566906), (2399, 0.004954374388256713), (2400, 0.0), (2401, 0.0), (2402, 0.014881304884320273), (2403, 0.0), (2404, 0.0), (2405, 0.0), (2406, 0.07446849466328156), (2407, 0.0), (2408, 0.023123809231942793), (2409, 0.00939020367973009), (2410, 0.010815933141005485), (2411, 0.0), (2412, 0.022323254388618506), (2413, 0.01087616243397498), (2414, 0.0), (2415, 0.006512760079941642), (2416, 0.0), (2417, 0.0), (2418, 0.0), (2419, 0.0), (2420, 0.0), (2421, 0.0050958799945041), (2422, 0.0), (2423, 0.0), (2424, 0.01876941417786492), (2425, 0.0), (2426, 0.004837704178232757), (2427, 0.012043944974382128), (2428, 0.011442724842648938), (2429, 0.023831588312147912), (2430, 0.0), (2431, 0.03651230665110133), (2432, 0.025833216025866725), (2433, 0.004700131709926661), (2434, 0.0), (2435, 0.0), (2436, 0.0), (2437, 0.0), (2438, 0.0), (2439, 0.00440657110480302), (2440, 0.026913075467995994), (2441, 0.030912437476649006), (2442, 0.03474043787587082), (2443, 0.023988622276161727), (2444, 0.02112251273163421), (2445, 0.06676158528113757), (2446, 0.05553917843846371), (2447, 0.01744663467240697), (2448, 0.0), (2449, 0.0), (2450, 0.0), (2451, 0.0), (2452, 0.0), (2453, 0.0), (2454, 0.0), (2455, 0.0), (2456, 0.0), (2457, 0.0), (2458, 0.0), (2459, 0.01262037549104382), (2460, 0.014502649781290119), (2461, 0.01593235017712891), (2462, 0.0), (2463, 0.0), (2464, 0.016824274428171575), (2465, 0.019004418344515477), (2466, 0.0), (2467, 0.0), (2468, 0.030038619172452076), (2469, 0.03465161203882964), (2470, 0.006061874649313514), (2471, 0.0), (2472, 0.037177057735822215), (2473, 0.0), (2474, 0.007564212363687827), (2475, 0.0), (2476, 0.011789962884131859), (2477, 0.016055884651433122), (2478, 0.0), (2479, 0.005993437377330726), (2480, 0.024507555999597582), (2481, 0.021223389177712708), (2482, 0.0), (2483, 0.0), (2484, 0.0222505210122366), (2485, 0.0), (2486, 0.023224955261411082), (2487, 0.06650616405619153), (2488, 0.0), (2489, 0.015633321523945844), (2490, 0.0), (2491, 0.0), (2492, 0.02360063235088194), (2493, 0.005923594360692153), (2494, 0.0), (2495, 0.0), (2496, 0.004677227479011775), (2497, 0.009105769076927547), (2498, 0.0), (2499, 0.005706596292643351), (2500, 0.0), (2501, 0.027139861467813844), (2502, 0.0), (2503, 0.0), (2504, 0.0), (2505, 0.0), (2506, 0.010402346327319994), (2507, 0.0), (2508, 0.0), (2509, 0.11147519485938326), (2510, 0.0), (2511, 0.027037848848932827), (2512, 0.015230277193109258), (2513, 0.022349678257531865), (2514, 0.0), (2515, 0.0), (2516, 0.010446531862025878), (2517, 0.0), (2518, 0.018550281074107004), (2519, 0.015823505065335534), (2520, 0.022612632583803756), (2521, 0.042942584924050724), (2522, 0.027399981328937457), (2523, 0.0), (2524, 0.027263827691568588), (2525, 0.0), (2526, 0.0647178161988033), (2527, 0.0), (2528, 0.01820366157177481), (2529, 0.0913005850448419), (2530, 0.03062814678167837), (2531, 0.0), (2532, 0.0), (2533, 0.0), (2534, 0.01932986119492656), (2535, 0.0), (2536, 0.0), (2537, 0.0), (2538, 0.0), (2539, 0.0), (2540, 0.009882152812018548), (2541, 0.020878733919876623), (2542, 0.0), (2543, 0.0), (2544, 0.006632375881442501), (2545, 0.03696083650845448), (2546, 0.015969554650274956), (2547, 0.0070678042739208205), (2548, 0.029129425804616416), (2549, 0.005436062479832826), (2550, 0.0), (2551, 0.0190315763376747), (2552, 0.0), (2553, 0.04185546056784514), (2554, 0.005414505894497809), (2555, 0.03846172635581689), (2556, 0.0), (2557, 0.0), (2558, 0.06456508898240833), (2559, 0.007055589372725274), (2560, 0.02925001260920122), (2561, 0.0), (2562, 0.0), (2563, 0.027199923598961513), (2564, 0.0), (2565, 0.02767117398881122), (2566, 0.0), (2567, 0.042546941795802734), (2568, 0.0), (2569, 0.0), (2570, 0.0), (2571, 0.028464112386259732), (2572, 0.0), (2573, 0.03491320820873293), (2574, 0.09533561154552997), (2575, 0.0), (2576, 0.011730089567618965), (2577, 0.0), (2578, 0.0312438391849852), (2579, 0.0), (2580, 0.04200883226267618), (2581, 0.025876621339381574), (2582, 0.014443085505203568), (2583, 0.013529823697069903), (2584, 0.004948909195980551), (2585, 0.010975521076228656), (2586, 0.013670986519057628), (2587, 0.0), (2588, 0.0), (2589, 0.013994700330366157), (2590, 0.0), (2591, 0.041900965444470056), (2592, 0.020735979103940625), (2593, 0.0), (2594, 0.0), (2595, 0.0), (2596, 0.0), (2597, 0.0), (2598, 0.03913229931069917), (2599, 0.00540562866410294), (2600, 0.05571538938212434), (2601, 0.0), (2602, 0.030513154786294287), (2603, 0.0), (2604, 0.0), (2605, 0.0), (2606, 0.03958452474205234), (2607, 0.018233279565255372), (2608, 0.0), (2609, 0.0), (2610, 0.0), (2611, 0.021864203558655256), (2612, 0.01303126589458059), (2613, 0.0), (2614, 0.0), (2615, 0.0), (2616, 0.005247825638471055), (2617, 0.0655071278248135), (2618, 0.030002434029645052), (2619, 0.0), (2620, 0.027917995961164104), (2621, 0.11695041298814736), (2622, 0.025526417295162016), (2623, 0.0), (2624, 0.05011902839918696), (2625, 0.042670152872452106), (2626, 0.011379660526212084), (2627, 0.008297131305377743), (2628, 0.0), (2629, 0.02662396740720302), (2630, 0.005326850453043468), (2631, 0.01560479352998473), (2632, 0.004883884970667701), (2633, 0.014165318705336513), (2634, 0.005015051449631357), (2635, 0.058178371202654226), (2636, 0.0), (2637, 0.04337146398104921), (2638, 0.023112416273968654), (2639, 0.04207470646129299), (2640, 0.005615792171430588), (2641, 0.07052942408653683), (2642, 0.005171097028486006), (2643, 0.0), (2644, 0.015834482359761617), (2645, 0.06588482809760755), (2646, 0.041579729401753404), (2647, 0.04930026447955919), (2648, 0.0), (2649, 0.043337726315762194), (2650, 0.027533357773629197), (2651, 0.0), (2652, 0.018935974365505866), (2653, 0.0), (2654, 0.012902419176773938), (2655, 0.006628035571050309), (2656, 0.0), (2657, 0.007861877810062897), (2658, 0.0), (2659, 0.007731205437310406), (2660, 0.0), (2661, 0.0210430270688494), (2662, 0.015603608169209042), (2663, 0.0), (2664, 0.0), (2665, 0.0), (2666, 0.0), (2667, 0.007313610506748197), (2668, 0.061756751929423426), (2669, 0.038576273931515), (2670, 0.005744957293932565), (2671, 0.0), (2672, 0.027986770226928716), (2673, 0.0), (2674, 0.004940672208579785), (2675, 0.0), (2676, 0.006154545813673285), (2677, 0.0), (2678, 0.0), (2679, 0.0), (2680, 0.009938974149869852), (2681, 0.026550986994277635), (2682, 0.02796252591074238), (2683, 0.005602169469700036), (2684, 0.0), (2685, 0.02969200602811494), (2686, 0.0), (2687, 0.0), (2688, 0.0), (2689, 0.05486115489242163), (2690, 0.0), (2691, 0.07657417715071475), (2692, 0.032114814160377606), (2693, 0.0), (2694, 0.0), (2695, 0.020366894325232338), (2696, 0.16191341262593542), (2697, 0.021046947139781516), (2698, 0.0), (2699, 0.0), (2700, 0.00561861254110105), (2701, 0.0), (2702, 0.0), (2703, 0.0), (2704, 0.0), (2705, 0.0), (2706, 0.005102610204477126), (2707, 0.006299295096803939), (2708, 0.0), (2709, 0.0), (2710, 0.028074982481116922), (2711, 0.009865987552590359), (2712, 0.0), (2713, 0.005257987707024809), (2714, 0.010973542439614195), (2715, 0.0), (2716, 0.00481749503328539), (2717, 0.0), (2718, 0.004683830808038196), (2719, 0.0), (2720, 0.006290521751067735), (2721, 0.0), (2722, 0.0), (2723, 0.0), (2724, 0.017024510825975125), (2725, 0.0), (2726, 0.026934892037972818), (2727, 0.024466451253802573), (2728, 0.0), (2729, 0.005726084494098028), (2730, 0.0), (2731, 0.0), (2732, 0.0), (2733, 0.005555772499253063), (2734, 0.0), (2735, 0.0), (2736, 0.029995639457124947), (2737, 0.0), (2738, 0.0), (2739, 0.02765438415909246), (2740, 0.0), (2741, 0.0), (2742, 0.04206942432832639), (2743, 0.0), (2744, 0.0), (2745, 0.03658275360383874), (2746, 0.01002460423371046), (2747, 0.0), (2748, 0.0), (2749, 0.024602804785640687), (2750, 0.0), (2751, 0.09324388947228843), (2752, 0.014672299027740447), (2753, 0.02377344303972626), (2754, 0.005627004349954037), (2755, 0.017375545263344366), (2756, 0.0), (2757, 0.0), (2758, 0.0), (2759, 0.02762819491025883), (2760, 0.0), (2761, 0.0), (2762, 0.06768937573432426), (2763, 0.0), (2764, 0.0), (2765, 0.0), (2766, 0.05009745763701717), (2767, 0.004187367629028349), (2768, 0.03654518350168566), (2769, 0.0), (2770, 0.04482615949324392), (2771, 0.06616508496359476), (2772, 0.006357892651660749), (2773, 0.0), (2774, 0.023120444666481065), (2775, 0.0), (2776, 0.0), (2777, 0.03335493923309499), (2778, 0.01253754187134723), (2779, 0.0), (2780, 0.02661966460109701), (2781, 0.0), (2782, 0.015019792294978244), (2783, 0.0), (2784, 0.047453538702146275), (2785, 0.031620062643635746), (2786, 0.0), (2787, 0.028498813770902087), (2788, 0.026173396536907867), (2789, 0.004157283235105062), (2790, 0.07879962645988159), (2791, 0.04508750612771604), (2792, 0.0), (2793, 0.01353273659674262), (2794, 0.028591284612154547), (2795, 0.08555708607919182), (2796, 0.0), (2797, 0.0), (2798, 0.0166863225126659), (2799, 0.0), (2800, 0.0), (2801, 0.012747910754021858), (2802, 0.0), (2803, 0.009435924045557362), (2804, 0.0), (2805, 0.02317355175470638), (2806, 0.0), (2807, 0.053906383723012305), (2808, 0.019710829507947766), (2809, 0.03611582001176289), (2810, 0.006015289535631736), (2811, 0.02734386290758152), (2812, 0.013342237917874119), (2813, 0.0), (2814, 0.028959420927848072), (2815, 0.03626066087758994), (2816, 0.0), (2817, 0.0), (2818, 0.0), (2819, 0.04906123533826201), (2820, 0.025452163317197154), (2821, 0.010466695888890931), (2822, 0.0046320611147917055), (2823, 0.0), (2824, 0.0), (2825, 0.05435233508029899), (2826, 0.005395891600944207), (2827, 0.009171459619821269), (2828, 0.0), (2829, 0.0), (2830, 0.0), (2831, 0.0), (2832, 0.0), (2833, 0.028320740507484003), (2834, 0.0), (2835, 0.0), (2836, 0.0), (2837, 0.0), (2838, 0.0), (2839, 0.0), (2840, 0.011564362950995744), (2841, 0.0), (2842, 0.013164641648965327), (2843, 0.032129992665573044), (2844, 0.018004311756893588), (2845, 0.04234813403483605), (2846, 0.0), (2847, 0.010237151394633225), (2848, 0.0), (2849, 0.016217692061183415), (2850, 0.03943617111876745), (2851, 0.0), (2852, 0.0218904211581951), (2853, 0.009809889007347366), (2854, 0.011515415694772794), (2855, 0.0), (2856, 0.0), (2857, 0.0), (2858, 0.0), (2859, 0.01775794612255502), (2860, 0.021183452558253036), (2861, 0.0), (2862, 0.020315859291735773), (2863, 0.0), (2864, 0.00610091903898814), (2865, 0.012869312981335361), (2866, 0.0), (2867, 0.014607256284573015), (2868, 0.0), (2869, 0.0), (2870, 0.0), (2871, 0.018087254310883), (2872, 0.0), (2873, 0.03322957239949153), (2874, 0.06560120945630023), (2875, 0.0), (2876, 0.02779705766935134), (2877, 0.0), (2878, 0.0), (2879, 0.006090985180938447), (2880, 0.03325243660480736), (2881, 0.011743199759690298), (2882, 0.01466219945548368), (2883, 0.026526511093587737), (2884, 0.02707471052925736), (2885, 0.0), (2886, 0.014635555063727627), (2887, 0.0), (2888, 0.005813974508485607), (2889, 0.032286636656493874), (2890, 0.0), (2891, 0.0), (2892, 0.0), (2893, 0.0), (2894, 0.010117594060406082), (2895, 0.029887695607280194), (2896, 0.0), (2897, 0.027540608247457278), (2898, 0.005848937510404339), (2899, 0.028283233439635003), (2900, 0.0), (2901, 0.0), (2902, 0.0), (2903, 0.04725845309241344), (2904, 0.04972183929312973), (2905, 0.0), (2906, 0.0), (2907, 0.0), (2908, 0.054283484782419844), (2909, 0.01911770389944635), (2910, 0.04810184428973609), (2911, 0.02731132860689873), (2912, 0.0), (2913, 0.029567393294422317), (2914, 0.0), (2915, 0.0), (2916, 0.0), (2917, 0.003939426087379117), (2918, 0.05253177767836516), (2919, 0.021014147866007728), (2920, 0.01295349488130695), (2921, 0.0), (2922, 0.00730292152462289), (2923, 0.0), (2924, 0.011434221204985242), (2925, 0.016332352088741703), (2926, 0.0), (2927, 0.0), (2928, 0.0), (2929, 0.027725306266969695), (2930, 0.01806679643559745), (2931, 0.04411302814826508), (2932, 0.026895135057289576), (2933, 0.0), (2934, 0.015452120131802546), (2935, 0.019360648193580122), (2936, 0.0), (2937, 0.007707123241129581), (2938, 0.0), (2939, 0.02533518170665354), (2940, 0.005736713208437538), (2941, 0.0), (2942, 0.0), (2943, 0.005347942266277117), (2944, 0.026610557239356434), (2945, 0.0), (2946, 0.0), (2947, 0.010627367406054276), (2948, 0.02696659521042553), (2949, 0.01587835684364833), (2950, 0.005100504692846777), (2951, 0.014864858601235348), (2952, 0.0), (2953, 0.049995318695431605), (2954, 0.012320143651599922), (2955, 0.005480890851483655), (2956, 0.0), (2957, 0.016507153194116976), (2958, 0.005000244769464129), (2959, 0.010915356790840837), (2960, 0.010575317534403359), (2961, 0.02002281663583099), (2962, 0.040322739396265295), (2963, 0.027450175764921543), (2964, 0.02315209635285754), (2965, 0.0), (2966, 0.0), (2967, 0.0), (2968, 0.01076162692140199), (2969, 0.004451521118300281), (2970, 0.0), (2971, 0.018017872037968258), (2972, 0.013344741975790315), (2973, 0.0), (2974, 0.0), (2975, 0.0), (2976, 0.0), (2977, 0.0), (2978, 0.04355953363012722), (2979, 0.021212346338888487), (2980, 0.0), (2981, 0.0587882839058597), (2982, 0.015355392076787643), (2983, 0.0), (2984, 0.0045917928522647014), (2985, 0.0), (2986, 0.0), (2987, 0.0), (2988, 0.015327145481251386), (2989, 0.007478771641517523), (2990, 0.04234023677064072), (2991, 0.025490601898630158), (2992, 0.009667835655463728), (2993, 0.0), (2994, 0.015439808850139942), (2995, 0.017751934016185467), (2996, 0.022386062138985155), (2997, 0.0), (2998, 0.08867849494096018), (2999, 0.0), (3000, 0.027133088550249214), (3001, 0.0), (3002, 0.005423997217193461), (3003, 0.014988867577177009), (3004, 0.0), (3005, 0.024985005226970062), (3006, 0.0), (3007, 0.0), (3008, 0.04813431129584208), (3009, 0.0), (3010, 0.009507312188730462), (3011, 0.04741351576485167), (3012, 0.022806230916758423), (3013, 0.04220222401590294), (3014, 0.020453195920788984), (3015, 0.02986338668184463), (3016, 0.0), (3017, 0.0), (3018, 0.01602034207748843), (3019, 0.023680404473501573), (3020, 0.0), (3021, 0.0), (3022, 0.03550924111445043), (3023, 0.03539493991296986), (3024, 0.018033099822011622), (3025, 0.0), (3026, 0.0), (3027, 0.024283399978512903), (3028, 0.04131134200315829), (3029, 0.0), (3030, 0.0), (3031, 0.0), (3032, 0.005598247011798926), (3033, 0.014149382654488117), (3034, 0.0), (3035, 0.004761337840580604), (3036, 0.015821559883354888), (3037, 0.0), (3038, 0.0), (3039, 0.0), (3040, 0.0), (3041, 0.0), (3042, 0.0), (3043, 0.02302774948108343), (3044, 0.005850524724551835), (3045, 0.07342801591981113), (3046, 0.0), (3047, 0.0), (3048, 0.0), (3049, 0.006209968012460291), (3050, 0.0), (3051, 0.0), (3052, 0.0), (3053, 0.0), (3054, 0.0), (3055, 0.0), (3056, 0.011728346258314851), (3057, 0.0), (3058, 0.0), (3059, 0.005749901830835382), (3060, 0.013715430489363674), (3061, 0.0), (3062, 0.0059504418590291125), (3063, 0.0), (3064, 0.005840193571254646), (3065, 0.008807104563831374), (3066, 0.022914816604385067), (3067, 0.0), (3068, 0.016643900600781476), (3069, 0.01914254597615754), (3070, 0.05361496358565959), (3071, 0.009234742482505035), (3072, 0.0), (3073, 0.0), (3074, 0.0), (3075, 0.0), (3076, 0.02007624225185024), (3077, 0.00931075878376944), (3078, 0.0), (3079, 0.004609354057254157), (3080, 0.0), (3081, 0.0), (3082, 0.0), (3083, 0.0637298382790067), (3084, 0.024875387914923077), (3085, 0.04339758786929183), (3086, 0.02197458108109635), (3087, 0.0), (3088, 0.0), (3089, 0.0), (3090, 0.0), (3091, 0.0), (3092, 0.03405731594470803), (3093, 0.0), (3094, 0.0), (3095, 0.05001222104473549), (3096, 0.030678487837022594), (3097, 0.06040298379436662), (3098, 0.0), (3099, 0.022867548856194776), (3100, 0.009685449781387473), (3101, 0.010892548580724717), (3102, 0.027009091494868027), (3103, 0.0), (3104, 0.0), (3105, 0.0), (3106, 0.0), (3107, 0.0), (3108, 0.021300051920719522), (3109, 0.019948464913486667), (3110, 0.022883334359472794), (3111, 0.021495390562270546), (3112, 0.011149552813780984), (3113, 0.0), (3114, 0.004961766491127644), (3115, 0.008355449858380305), (3116, 0.03959741641206341), (3117, 0.01703621495211497), (3118, 0.018876996526647614), (3119, 0.05700708699120345), (3120, 0.04947454751008639), (3121, 0.03313130188725606), (3122, 0.004771228903769757), (3123, 0.0061005370001676815), (3124, 0.01076499101632052), (3125, 0.005026150761174972), (3126, 0.009929746873109076), (3127, 0.07543790446910757), (3128, 0.0), (3129, 0.0554323424808115), (3130, 0.019887162027208385), (3131, 0.011093119293026348), (3132, 0.00569043982586074), (3133, 0.022428342045297277), (3134, 0.010821925922512802), (3135, 0.009711456483640604), (3136, 0.03344018764599672), (3137, 0.0), (3138, 0.0), (3139, 0.0), (3140, 0.0), (3141, 0.009498748806171716), (3142, 0.034840880913013676), (3143, 0.03385618677861614), (3144, 0.0), (3145, 0.0), (3146, 0.0), (3147, 0.009178470521202376), (3148, 0.0), (3149, 0.05471481001903922), (3150, 0.05199527812052218), (3151, 0.044149471278223926), (3152, 0.0), (3153, 0.07346008404804612), (3154, 0.043672986221725545), (3155, 0.015445291964886313), (3156, 0.009986600441746356), (3157, 0.0), (3158, 0.005605649796353644), (3159, 0.0), (3160, 0.004393229464139837), (3161, 0.010228876180743463), (3162, 0.0), (3163, 0.0581493512953635), (3164, 0.0), (3165, 0.006164676787258256), (3166, 0.0), (3167, 0.008829509172581653), (3168, 0.011675479337269193), (3169, 0.02234784710920135), (3170, 0.0), (3171, 0.014592396054418613), (3172, 0.006249619426870989), (3173, 0.01328798485052029), (3174, 0.0053529031273798254), (3175, 0.010564904891424514), (3176, 0.0), (3177, 0.0), (3178, 0.0), (3179, 0.025383358043549995), (3180, 0.020575645080396318), (3181, 0.005848658285976894), (3182, 0.0), (3183, 0.0), (3184, 0.025191084514026296), (3185, 0.015733011534084525), (3186, 0.0), (3187, 0.0), (3188, 0.03743367371236376), (3189, 0.0), (3190, 0.0), (3191, 0.01067455209538183), (3192, 0.022876322105314397), (3193, 0.022636902698834654), (3194, 0.0), (3195, 0.03209974925527008), (3196, 0.005608377303594268), (3197, 0.0), (3198, 0.0), (3199, 0.0), (3200, 0.016754247002445467), (3201, 0.0), (3202, 0.005835567940028087), (3203, 0.0), (3204, 0.0), (3205, 0.02843811124698902), (3206, 0.026375014720779657), (3207, 0.0), (3208, 0.014882393336942657), (3209, 0.0), (3210, 0.02593241364891112), (3211, 0.0), (3212, 0.01953659126323377), (3213, 0.0797223658956438), (3214, 0.0), (3215, 0.008671476972176571), (3216, 0.0), (3217, 0.0), (3218, 0.0), (3219, 0.0), (3220, 0.0), (3221, 0.006003025988163947), (3222, 0.028607836171239576), (3223, 0.027508005087073274), (3224, 0.01710787687001059), (3225, 0.015603336969658394), (3226, 0.0), (3227, 0.0104546054121939), (3228, 0.006069623796892808), (3229, 0.0), (3230, 0.0), (3231, 0.012082753339414273), (3232, 0.022477910071162534), (3233, 0.00514528422901312), (3234, 0.010776753295886437), (3235, 0.0), (3236, 0.023043284161079158), (3237, 0.0), (3238, 0.014141210027169006), (3239, 0.0), (3240, 0.0), (3241, 0.005599410682999102), (3242, 0.0), (3243, 0.018468333028119188), (3244, 0.012360232227736481), (3245, 0.01549941460187523), (3246, 0.0), (3247, 0.009377653316733403), (3248, 0.0), (3249, 0.042913912261070185), (3250, 0.0), (3251, 0.01545473486071263), (3252, 0.0), (3253, 0.006103517260467839), (3254, 0.0), (3255, 0.0), (3256, 0.0), (3257, 0.0), (3258, 0.0), (3259, 0.04871598751193186), (3260, 0.0), (3261, 0.0), (3262, 0.0), (3263, 0.011295775374968104), (3264, 0.0), (3265, 0.0), (3266, 0.0), (3267, 0.018789538849100115), (3268, 0.0), (3269, 0.0), (3270, 0.005332333337662557), (3271, 0.0), (3272, 0.0), (3273, 0.0), (3274, 0.0), (3275, 0.03004863784212935), (3276, 0.008102052253873669), (3277, 0.0), (3278, 0.0), (3279, 0.047003843731806), (3280, 0.03999403312230382), (3281, 0.03145415862096928), (3282, 0.0), (3283, 0.0), (3284, 0.00458065418769867), (3285, 0.047256871630627514), (3286, 0.022770863508340924), (3287, 0.0), (3288, 0.0), (3289, 0.020208122347912524), (3290, 0.02684428871952905), (3291, 0.0), (3292, 0.0), (3293, 0.014519574141267162), (3294, 0.012444914675948724), (3295, 0.030098012327218947), (3296, 0.0), (3297, 0.06597730272956984), (3298, 0.0), (3299, 0.0), (3300, 0.0), (3301, 0.018366319420199055), (3302, 0.0), (3303, 0.005089661006427595), (3304, 0.0), (3305, 0.0), (3306, 0.04541810757715054), (3307, 0.0), (3308, 0.011672254949354399), (3309, 0.0), (3310, 0.015884484666575417), (3311, 0.004855109273435434), (3312, 0.029860505785492392), (3313, 0.015292125386207294), (3314, 0.0), (3315, 0.02434576169504874), (3316, 0.0), (3317, 0.030119827953249443), (3318, 0.10147916524879853), (3319, 0.0), (3320, 0.0), (3321, 0.0), (3322, 0.0), (3323, 0.031233572707601517), (3324, 0.0), (3325, 0.008935851901090384), (3326, 0.019838185396913312), (3327, 0.0), (3328, 0.035718849562068784), (3329, 0.009013420192361352), (3330, 0.026576509242874816), (3331, 0.00416915948039579), (3332, 0.025268462401719642), (3333, 0.01715134077974315), (3334, 0.021402401422758042), (3335, 0.009961595186879026), (3336, 0.022579195221523404), (3337, 0.0), (3338, 0.03468069324439025), (3339, 0.008923099366294214), (3340, 0.005320409557233771), (3341, 0.025556789055255616), (3342, 0.00464425838908791), (3343, 0.005361803507385077), (3344, 0.020993786268795722), (3345, 0.0), (3346, 0.0), (3347, 0.0), (3348, 0.015902354113928284), (3349, 0.00518890586676512), (3350, 0.01933850346342609), (3351, 0.0), (3352, 0.009481249288729954), (3353, 0.0), (3354, 0.0), (3355, 0.0), (3356, 0.0), (3357, 0.0), (3358, 0.0416555434864143), (3359, 0.0), (3360, 0.025395625093810298), (3361, 0.02258786503315556), (3362, 0.015614241734867747), (3363, 0.0), (3364, 0.0), (3365, 0.030651854517988915), (3366, 0.0), (3367, 0.010384987911800392), (3368, 0.005240129608047254), (3369, 0.0), (3370, 0.037926350812715524), (3371, 0.0), (3372, 0.0), (3373, 0.02330682005078337), (3374, 0.02551419194114452), (3375, 0.03429030421072059), (3376, 0.01421044975465848), (3377, 0.09705830860089051), (3378, 0.02738339959713543), (3379, 0.0), (3380, 0.01750412502930059), (3381, 0.0), (3382, 0.016007119370650663), (3383, 0.006077374626860877), (3384, 0.030140473067720427), (3385, 0.005605509270838334), (3386, 0.00998986568083492), (3387, 0.04871865695765082), (3388, 0.0), (3389, 0.024180424291237963), (3390, 0.0), (3391, 0.0), (3392, 0.006551005065513471), (3393, 0.02771393750665377), (3394, 0.01719655697188023), (3395, 0.0), (3396, 0.0), (3397, 0.0), (3398, 0.005158212326396918), (3399, 0.0), (3400, 0.0), (3401, 0.0), (3402, 0.028510444635947523), (3403, 0.031261569895947375), (3404, 0.05860557140512835), (3405, 0.008812717562357311), (3406, 0.010405041677489929), (3407, 0.027068500076585456), (3408, 0.06660059856275122), (3409, 0.0), (3410, 0.0), (3411, 0.0), (3412, 0.0228741851309131), (3413, 0.0), (3414, 0.0), (3415, 0.0), (3416, 0.025684973638075526), (3417, 0.0), (3418, 0.028833949287746827), (3419, 0.006193956420499629), (3420, 0.0), (3421, 0.006820987433226329), (3422, 0.01975654648212917), (3423, 0.0), (3424, 0.005880475561069774), (3425, 0.01563412877357126), (3426, 0.0046525478211032235), (3427, 0.03475512678327129), (3428, 0.030226256677434834), (3429, 0.023072666975254633), (3430, 0.013851666125901304), (3431, 0.0), (3432, 0.010292724890515699), (3433, 0.05934593007697555), (3434, 0.0), (3435, 0.014716293553359735), (3436, 0.07370697552693173), (3437, 0.0361161267095098), (3438, 0.03419884403314182), (3439, 0.0), (3440, 0.01204712724992292), (3441, 0.005323148955106842), (3442, 0.0), (3443, 0.01022709458628624), (3444, 0.0), (3445, 0.005496734193718951), (3446, 0.0051364489363650125), (3447, 0.0), (3448, 0.03251189506470482), (3449, 0.03707693013432054), (3450, 0.04767467864025001), (3451, 0.10283125380075053), (3452, 0.051004116442500996), (3453, 0.04857348198354119), (3454, 0.005250190924048512), (3455, 0.0), (3456, 0.00341583393237483), (3457, 0.014384740740417925), (3458, 0.018012379763697177), (3459, 0.017137418213975467), (3460, 0.030888982828902713), (3461, 0.0), (3462, 0.033484081931147366), (3463, 0.04982432269658269), (3464, 0.021946375139865804), (3465, 0.0817865580687947), (3466, 1.0000000000000002), (3467, 0.005435840244755822), (3468, 0.011174807384448033), (3469, 0.006010628616420898), (3470, 0.005613865151603452), (3471, 0.011815824137638105), (3472, 0.006799740566233192), (3473, 0.0), (3474, 0.013503462685488197), (3475, 0.0), (3476, 0.0), (3477, 0.013379491910376809), (3478, 0.0), (3479, 0.0), (3480, 0.0), (3481, 0.0), (3482, 0.0), (3483, 0.02153764920893437), (3484, 0.004159342451475296), (3485, 0.0209415930524368), (3486, 0.010586714260773324), (3487, 0.004808726365564978), (3488, 0.0052141419994011645), (3489, 0.0), (3490, 0.0), (3491, 0.021750937540803525), (3492, 0.02353758398192832), (3493, 0.0), (3494, 0.0), (3495, 0.01644541808934123), (3496, 0.020105507259458505), (3497, 0.0), (3498, 0.07793595282820638), (3499, 0.0049133590234044225), (3500, 0.0), (3501, 0.00508393105398353), (3502, 0.006053685682127026), (3503, 0.0), (3504, 0.019483833364274256), (3505, 0.0), (3506, 0.08442518547120072), (3507, 0.026651156479081214), (3508, 0.015096770575739273), (3509, 0.018797328907311655), (3510, 0.010628911429591678), (3511, 0.0), (3512, 0.0), (3513, 0.010863535397772524), (3514, 0.06270533586995798), (3515, 0.06078168348775616), (3516, 0.036784351635035524), (3517, 0.0), (3518, 0.026120245478125415), (3519, 0.020621704598580277), (3520, 0.02482837539536293), (3521, 0.006161545475843972), (3522, 0.005493136371550444), (3523, 0.0), (3524, 0.011599994569676456), (3525, 0.004666142313826393), (3526, 0.0), (3527, 0.0), (3528, 0.014026300643650506), (3529, 0.0), (3530, 0.0), (3531, 0.11665392919024237), (3532, 0.0061795789427395754), (3533, 0.00936591580709904), (3534, 0.0), (3535, 0.02408737482746734), (3536, 0.0), (3537, 0.0), (3538, 0.0), (3539, 0.0), (3540, 0.0), (3541, 0.0), (3542, 0.0), (3543, 0.02180249848574967), (3544, 0.0), (3545, 0.0), (3546, 0.0), (3547, 0.0), (3548, 0.011095843996056409), (3549, 0.0), (3550, 0.025653391226876824), (3551, 0.0), (3552, 0.0), (3553, 0.020160582416541464), (3554, 0.006497161902494694), (3555, 0.010049284581185623), (3556, 0.07309452891159995), (3557, 0.013231475071390133), (3558, 0.0), (3559, 0.0), (3560, 0.0060305822537105765), (3561, 0.0), (3562, 0.0), (3563, 0.019746487932416512), (3564, 0.0), (3565, 0.02332319649647867), (3566, 0.0), (3567, 0.06537505202990308), (3568, 0.00514736627677367), (3569, 0.0), (3570, 0.015244377883350478), (3571, 0.005114272158955213), (3572, 0.02170236860710031), (3573, 0.0), (3574, 0.0), (3575, 0.0), (3576, 0.00507968368180417), (3577, 0.0), (3578, 0.017030569253081416), (3579, 0.0), (3580, 0.025963713326434934), (3581, 0.0), (3582, 0.04059669191640522), (3583, 0.004856352426275681), (3584, 0.02642341627599159), (3585, 0.0), (3586, 0.04752639618861037), (3587, 0.022081311603171293), (3588, 0.012739410871117643), (3589, 0.05821498174587169), (3590, 0.0), (3591, 0.025150644333288535), (3592, 0.0), (3593, 0.02105355803385124), (3594, 0.0), (3595, 0.0327065377696182), (3596, 0.0), (3597, 0.06401415901903532), (3598, 0.0), (3599, 0.0), (3600, 0.04803932911499513), (3601, 0.06065543999592725), (3602, 0.0101951138132601), (3603, 0.005469666129957413), (3604, 0.011388488062961319), (3605, 0.009912200728038065), (3606, 0.06020027938948552), (3607, 0.0), (3608, 0.0), (3609, 0.018358827074463367), (3610, 0.027700768436804947), (3611, 0.011202363336642877), (3612, 0.031784636301653235), (3613, 0.0), (3614, 0.035696096340383614), (3615, 0.0), (3616, 0.041155080362774474), (3617, 0.0), (3618, 0.005301467504140234), (3619, 0.016226115741707382), (3620, 0.0), (3621, 0.0), (3622, 0.0), (3623, 0.010696165584547866), (3624, 0.030798406345117987), (3625, 0.0), (3626, 0.012606859389849966), (3627, 0.0), (3628, 0.005869251521227257), (3629, 0.014112140246506446), (3630, 0.018995576738429054), (3631, 0.0), (3632, 0.0), (3633, 0.0), (3634, 0.0), (3635, 0.014018538370313522), (3636, 0.0), (3637, 0.031105134807518586), (3638, 0.06263027936045917), (3639, 0.0), (3640, 0.0445468320361454), (3641, 0.0), (3642, 0.027878605903187595), (3643, 0.0), (3644, 0.013909634867825031), (3645, 0.015608209371916013), (3646, 0.0), (3647, 0.013275257535374492), (3648, 0.013960812129806415), (3649, 0.0), (3650, 0.009990036094193862), (3651, 0.0), (3652, 0.02247655231803238), (3653, 0.00509830685440971), (3654, 0.024784935232310935), (3655, 0.02050936021416022), (3656, 0.0), (3657, 0.03868864060274336), (3658, 0.01740073643728294), (3659, 0.03291572252204508), (3660, 0.02479211379510106), (3661, 0.005704127683664216), (3662, 0.01642390572768791), (3663, 0.0), (3664, 0.004807455302278133), (3665, 0.0), (3666, 0.005193063821929557), (3667, 0.0), (3668, 0.022881390669519087), (3669, 0.0), (3670, 0.020515705513722175), (3671, 0.0), (3672, 0.0), (3673, 0.0), (3674, 0.017171037579167475), (3675, 0.024248304089134358), (3676, 0.005423876314852335), (3677, 0.0), (3678, 0.0), (3679, 0.010511190235515938), (3680, 0.059262971475236625), (3681, 0.0), (3682, 0.0), (3683, 0.0), (3684, 0.022311815632531467), (3685, 0.0), (3686, 0.0), (3687, 0.0), (3688, 0.0), (3689, 0.026980955777569524), (3690, 0.005485045918664753), (3691, 0.015635937248373016), (3692, 0.029081770931564395), (3693, 0.0045794163365621005), (3694, 0.06751048642714502), (3695, 0.02144084989452152), (3696, 0.00482327860068242), (3697, 0.0059129069554256135), (3698, 0.0), (3699, 0.035237333416669486), (3700, 0.023717348271168646), (3701, 0.0), (3702, 0.0), (3703, 0.008011152801642066), (3704, 0.005404829234373579), (3705, 0.00452572878603664), (3706, 0.03731123552230545), (3707, 0.041569464574168505), (3708, 0.029683753622947586), (3709, 0.05754769218272625), (3710, 0.01102310133828838), (3711, 0.06917608076430759), (3712, 0.0), (3713, 0.01695992214067387), (3714, 0.0), (3715, 0.01337959656173517), (3716, 0.0), (3717, 0.0), (3718, 0.01251164764567058), (3719, 0.0), (3720, 0.010006033349349422), (3721, 0.006634840545363777), (3722, 0.013872908700092734), (3723, 0.00978531141425941), (3724, 0.0056910264733390096), (3725, 0.0), (3726, 0.0), (3727, 0.004958889605256051), (3728, 0.0), (3729, 0.0), (3730, 0.014749834527771651), (3731, 0.027095705181653863), (3732, 0.0), (3733, 0.013483595810451143), (3734, 0.009779468995309296), (3735, 0.0), (3736, 0.0), (3737, 0.0), (3738, 0.03548284962807958), (3739, 0.02190407222980074), (3740, 0.0), (3741, 0.02986348087064223), (3742, 0.00980509884255135), (3743, 0.005553489656921874), (3744, 0.012618844857123834), (3745, 0.023058910274900493), (3746, 0.0), (3747, 0.021364487808418882), (3748, 0.1088380402684369), (3749, 0.0), (3750, 0.0237781844162677), (3751, 0.0), (3752, 0.069543534751188), (3753, 0.0), (3754, 0.0), (3755, 0.0), (3756, 0.016639200817197865), (3757, 0.017725558139463863), (3758, 0.0), (3759, 0.015448041774627564), (3760, 0.0), (3761, 0.0), (3762, 0.0), (3763, 0.02777388974724533), (3764, 0.0), (3765, 0.0), (3766, 0.024258239793870977), (3767, 0.0), (3768, 0.021858346250576394), (3769, 0.0341052011134976), (3770, 0.0), (3771, 0.01123057497577648), (3772, 0.0), (3773, 0.018446164412612327), (3774, 0.04114867036077757), (3775, 0.018877172270340983), (3776, 0.027435664956180127), (3777, 0.021492479133752424), (3778, 0.0), (3779, 0.0), (3780, 0.03319173532081074), (3781, 0.06763957448621671), (3782, 0.02555927330272928), (3783, 0.005062178845156769), (3784, 0.0), (3785, 0.0), (3786, 0.005149815311029788), (3787, 0.011351504484971405), (3788, 0.030490556778834957), (3789, 0.0), (3790, 0.0), (3791, 0.0), (3792, 0.0600437363261708), (3793, 0.041694815994946254), (3794, 0.024350520853227794), (3795, 0.004801139525623843), (3796, 0.0), (3797, 0.016444814037367778), (3798, 0.005567281323232249), (3799, 0.0), (3800, 0.0), (3801, 0.018224840919827623), (3802, 0.02214923131554769), (3803, 0.017150513833163607), (3804, 0.0), (3805, 0.0), (3806, 0.012536874683248614), (3807, 0.035381826321936115), (3808, 0.0), (3809, 0.0), (3810, 0.0050963935955549745), (3811, 0.0), (3812, 0.023871865728906715), (3813, 0.0), (3814, 0.01989617362726261), (3815, 0.005099122426065121), (3816, 0.0), (3817, 0.0), (3818, 0.0), (3819, 0.01920649187542097), (3820, 0.0), (3821, 0.03708154337885455), (3822, 0.0), (3823, 0.0047024934337015645), (3824, 0.004773579951529409), (3825, 0.0), (3826, 0.026550385333654513), (3827, 0.0), (3828, 0.025726239861235622), (3829, 0.013160152029660014), (3830, 0.008686153213161392), (3831, 0.021495660163227282), (3832, 0.0), (3833, 0.02510422497560302), (3834, 0.005742741060186527), (3835, 0.02004513292311669), (3836, 0.0), (3837, 0.0), (3838, 0.0), (3839, 0.024443273136492645), (3840, 0.005502114614394495), (3841, 0.0044852177044838485), (3842, 0.02293622536981136), (3843, 0.0), (3844, 0.006267410256716044), (3845, 0.0), (3846, 0.020098298667911713), (3847, 0.010211325610290584), (3848, 0.04746248592374178), (3849, 0.05395866181937633), (3850, 0.011080839926376583), (3851, 0.0), (3852, 0.016114560637944093), (3853, 0.039054580837009745), (3854, 0.01881102872505973), (3855, 0.022266675378198184), (3856, 0.02874251037919217), (3857, 0.029434046976463978), (3858, 0.04236778735698787), (3859, 0.0), (3860, 0.03554327449927375), (3861, 0.014735433799829736), (3862, 0.026850392595542803), (3863, 0.0), (3864, 0.012733121702634395), (3865, 0.012033084983676442), (3866, 0.015553130798571749), (3867, 0.0), (3868, 0.00943366380374973), (3869, 0.005883608727047021), (3870, 0.005611126301529086), (3871, 0.0), (3872, 0.00950064008210302), (3873, 0.0), (3874, 0.0), (3875, 0.032221875940685624), (3876, 0.004591000407901927), (3877, 0.021824969829391944), (3878, 0.0), (3879, 0.0), (3880, 0.0), (3881, 0.031106243845740605), (3882, 0.0), (3883, 0.02318729350122641), (3884, 0.0), (3885, 0.023729609745648556), (3886, 0.017761370711164938), (3887, 0.0), (3888, 0.03371145004684627), (3889, 0.025325791960659035), (3890, 0.0), (3891, 0.01556110261561349), (3892, 0.0), (3893, 0.0), (3894, 0.0), (3895, 0.014567655646911822), (3896, 0.018061291983586285), (3897, 0.022724884904650196), (3898, 0.0), (3899, 0.0), (3900, 0.0), (3901, 0.006031746749125791), (3902, 0.06568387844833158), (3903, 0.0), (3904, 0.0), (3905, 0.03696160702294635), (3906, 0.0), (3907, 0.010757450238546563), (3908, 0.0105051094861373), (3909, 0.0), (3910, 0.013046772450596518), (3911, 0.0), (3912, 0.0), (3913, 0.0400833539899939), (3914, 0.011810932862913109), (3915, 0.010708869388314514), (3916, 0.01149728447733817), (3917, 0.005163007822822551), (3918, 0.0), (3919, 0.01030651904014435), (3920, 0.0), (3921, 0.0), (3922, 0.0), (3923, 0.004931640599354407), (3924, 0.03492620888023158), (3925, 0.02917737702569912), (3926, 0.0), (3927, 0.013851344113393149), (3928, 0.0), (3929, 0.0), (3930, 0.03873045602544569), (3931, 0.0), (3932, 0.0), (3933, 0.020906001091059383), (3934, 0.0), (3935, 0.0), (3936, 0.0), (3937, 0.005297069673802409), (3938, 0.016112776785107898), (3939, 0.0312378277770054), (3940, 0.01942996469253443), (3941, 0.04179245436364431), (3942, 0.006100931350553401), (3943, 0.0), (3944, 0.00403161905005388), (3945, 0.0), (3946, 0.04372966207291557), (3947, 0.02970949458242365), (3948, 0.0), (3949, 0.021087241796471166), (3950, 0.01499886623929295), (3951, 0.0), (3952, 0.0), (3953, 0.004883424384430788), (3954, 0.01767755625438935), (3955, 0.005356140177228785), (3956, 0.03124794362322135), (3957, 0.004122436630594638), (3958, 0.04969787350507457), (3959, 0.04213747945300964), (3960, 0.005670086385384153), (3961, 0.04082024212242666), (3962, 0.0), (3963, 0.005327055750456323), (3964, 0.0), (3965, 0.014541973558955455), (3966, 0.004664536302007115), (3967, 0.0), (3968, 0.020503373612789328), (3969, 0.0), (3970, 0.02269790750337105), (3971, 0.0), (3972, 0.006147466896507665), (3973, 0.03653133963972696), (3974, 0.004501595481576113), (3975, 0.006519081844402659), (3976, 0.02873666047482837), (3977, 0.06956507227098753), (3978, 0.09936728324734372), (3979, 0.03339297852047086), (3980, 0.020031178982135932), (3981, 0.0), (3982, 0.005365886531271665), (3983, 0.012310398388272484), (3984, 0.016133039099969153), (3985, 0.009425093279556871), (3986, 0.0), (3987, 0.020877742660279464), (3988, 0.0), (3989, 0.004029186569455041), (3990, 0.0), (3991, 0.0), (3992, 0.017340385421907405), (3993, 0.04868626392101075), (3994, 0.0), (3995, 0.031607790651612296), (3996, 0.0), (3997, 0.011038420317807754), (3998, 0.005170822711816444), (3999, 0.018888818460990046), (4000, 0.02017692984186645), (4001, 0.005376267657645471), (4002, 0.0), (4003, 0.0), (4004, 0.03750592267461641), (4005, 0.011079248122418717), (4006, 0.03340617982375029), (4007, 0.021812765350282377), (4008, 0.0), (4009, 0.04553671767593258), (4010, 0.0), (4011, 0.0), (4012, 0.031130188605293308), (4013, 0.00544523442443198), (4014, 0.0), (4015, 0.06329402630207658), (4016, 0.0), (4017, 0.0), (4018, 0.03333985754967682), (4019, 0.0), (4020, 0.01493790648387649), (4021, 0.05875584789735774), (4022, 0.018690505466714427), (4023, 0.030990408358555745), (4024, 0.0), (4025, 0.0), (4026, 0.0), (4027, 0.0), (4028, 0.03220970693673959), (4029, 0.009662030938492125), (4030, 0.0), (4031, 0.0), (4032, 0.0), (4033, 0.021845889528069685), (4034, 0.0), (4035, 0.012318523703290545), (4036, 0.0), (4037, 0.00508448075506647), (4038, 0.03897207002874404), (4039, 0.010107496721286132), (4040, 0.0), (4041, 0.005428661892368156), (4042, 0.0), (4043, 0.005574689650197508), (4044, 0.009407927034049732), (4045, 0.03229270662693927), (4046, 0.026158718421194813), (4047, 0.023375736173413625), (4048, 0.016793676048257926), (4049, 0.0), (4050, 0.034799016536250574), (4051, 0.015053309662958796), (4052, 0.0), (4053, 0.029019894235877728), (4054, 0.0), (4055, 0.004841027004366473), (4056, 0.04108830808048334), (4057, 0.0), (4058, 0.0), (4059, 0.009220075839033238), (4060, 0.029306540380851016), (4061, 0.021411398506625906), (4062, 0.0), (4063, 0.009098831460689207), (4064, 0.01496817325253075), (4065, 0.0), (4066, 0.0), (4067, 0.014479429371943957), (4068, 0.026118500863239066), (4069, 0.0), (4070, 0.005368220103820048), (4071, 0.0047322505723880835), (4072, 0.0), (4073, 0.0), (4074, 0.008872665870807492), (4075, 0.0), (4076, 0.04569089909476674), (4077, 0.07097102034008558), (4078, 0.0), (4079, 0.0), (4080, 0.0), (4081, 0.01673338059152869), (4082, 0.0), (4083, 0.0), (4084, 0.0), (4085, 0.0), (4086, 0.0), (4087, 0.0), (4088, 0.0929955450803388), (4089, 0.0511244308382998), (4090, 0.005389380055743955), (4091, 0.011392892848256234), (4092, 0.005659944931958819), (4093, 0.021182292428645874), (4094, 0.05929936125169527), (4095, 0.05617063765772774), (4096, 0.03460526019245514), (4097, 0.0), (4098, 0.010628355956186383), (4099, 0.06439313211223925), (4100, 0.005606589813073353), (4101, 0.0), (4102, 0.0), (4103, 0.053126836692718005), (4104, 0.0), (4105, 0.04667528623454236), (4106, 0.004477731889858157), (4107, 0.0), (4108, 0.0), (4109, 0.0), (4110, 0.0), (4111, 0.0), (4112, 0.005238921419983486), (4113, 0.0), (4114, 0.004658153268892793), (4115, 0.0), (4116, 0.10241996814987077), (4117, 0.0), (4118, 0.01654268657040191), (4119, 0.0582484171345404), (4120, 0.06560992935275844), (4121, 0.029240614889062006), (4122, 0.025717332106854812), (4123, 0.021478320881569264), (4124, 0.019247870253707236), (4125, 0.02425407515662239), (4126, 0.0), (4127, 0.01994597456988875), (4128, 0.04262167042125288), (4129, 0.0), (4130, 0.005866350948269284), (4131, 0.005743622745668265), (4132, 0.021099590920403498), (4133, 0.020890597988266778), (4134, 0.006863724966405432), (4135, 0.0), (4136, 0.0), (4137, 0.0), (4138, 0.03803192086141324), (4139, 0.0), (4140, 0.0), (4141, 0.027355127256338797), (4142, 0.006862025872170997), (4143, 0.04261322109793666), (4144, 0.01821705208240774), (4145, 0.029937080987653613), (4146, 0.029956604690868728), (4147, 0.0), (4148, 0.04524984912731214), (4149, 0.0), (4150, 0.011191704862629399), (4151, 0.0), (4152, 0.0), (4153, 0.022860216144455634), (4154, 0.02409693911223192), (4155, 0.009418998959462304), (4156, 0.0), (4157, 0.0), (4158, 0.015879771473740128), (4159, 0.0184801391860239), (4160, 0.0), (4161, 0.0), (4162, 0.005756608724345651), (4163, 0.005798592693072966), (4164, 0.018577114069737083), (4165, 0.01875886863096458), (4166, 0.0), (4167, 0.0), (4168, 0.0), (4169, 0.03138279333449379), (4170, 0.0), (4171, 0.043270436889640454), (4172, 0.0), (4173, 0.0), (4174, 0.05810490974975687), (4175, 0.0), (4176, 0.02896651959286272), (4177, 0.039653255421407484), (4178, 0.052294446252424284), (4179, 0.0), (4180, 0.0), (4181, 0.06511062078967722), (4182, 0.0), (4183, 0.0), (4184, 0.015402954712031574), (4185, 0.006018776738198393), (4186, 0.004913138338903234), (4187, 0.01740612509563071), (4188, 0.034402645651398014), (4189, 0.08538105350083844), (4190, 0.0), (4191, 0.0), (4192, 0.014854955308699347), (4193, 0.018395643596652564), (4194, 0.02653664368443043), (4195, 0.02606916959746088), (4196, 0.0), (4197, 0.0), (4198, 0.0), (4199, 0.006658411878072071), (4200, 0.0), (4201, 0.0), (4202, 0.00750492341842634), (4203, 0.03342193501093724), (4204, 0.0), (4205, 0.0), (4206, 0.0), (4207, 0.0), (4208, 0.006258197407836779), (4209, 0.0), (4210, 0.03190218112620089), (4211, 0.010178162389548277), (4212, 0.0), (4213, 0.0), (4214, 0.0), (4215, 0.0), (4216, 0.02918639942420275), (4217, 0.06097302407319682), (4218, 0.0), (4219, 0.0064296226821820655), (4220, 0.0), (4221, 0.0071759852948944285), (4222, 0.0), (4223, 0.0), (4224, 0.021319397180219652), (4225, 0.0), (4226, 0.010778559365977517), (4227, 0.04834696929324284), (4228, 0.0), (4229, 0.0), (4230, 0.0), (4231, 0.02169927317878591), (4232, 0.013336296220634083), (4233, 0.02193260030475536), (4234, 0.0228799703230501), (4235, 0.018638260442770428), (4236, 0.04681122940575606), (4237, 0.0), (4238, 0.00626311712801218), (4239, 0.0), (4240, 0.045793024370708785), (4241, 0.005308154258501157), (4242, 0.044328896734336314), (4243, 0.0), (4244, 0.029452775788641604), (4245, 0.017654868781743993), (4246, 0.029049425695567854), (4247, 0.048936112123958764), (4248, 0.03776083254979171), (4249, 0.010698313660037876), (4250, 0.0), (4251, 0.0051276753056015804), (4252, 0.0), (4253, 0.0), (4254, 0.012669183383895985), (4255, 0.010510958837076149), (4256, 0.0), (4257, 0.08347709615152263), (4258, 0.0), (4259, 0.028974440867018256), (4260, 0.0), (4261, 0.015363385775134051), (4262, 0.0389077531155414), (4263, 0.03472212309542336), (4264, 0.010217773570535764), (4265, 0.038918312073623465), (4266, 0.0), (4267, 0.022508646009275043), (4268, 0.015278399185785066), (4269, 0.0), (4270, 0.0), (4271, 0.0), (4272, 0.02744916536822288), (4273, 0.0), (4274, 0.04994382529480461), (4275, 0.015408292270121048), (4276, 0.0062168006106714715), (4277, 0.0), (4278, 0.0), (4279, 0.012902964250397575), (4280, 0.0), (4281, 0.06351624393928608), (4282, 0.01972977629245624), (4283, 0.010569251453706935), (4284, 0.004907350107029082), (4285, 0.012167846585558912), (4286, 0.031271815066106774), (4287, 0.0), (4288, 0.04584568907438792), (4289, 0.042903551994910194), (4290, 0.004514067411038788), (4291, 0.0), (4292, 0.01400147686392419), (4293, 0.09930054395546815), (4294, 0.005497094179449432), (4295, 0.0), (4296, 0.0), (4297, 0.0), (4298, 0.0), (4299, 0.047027864262969184), (4300, 0.0), (4301, 0.0), (4302, 0.0), (4303, 0.0), (4304, 0.00884878920463519), (4305, 0.0), (4306, 0.0), (4307, 0.00561524619659219), (4308, 0.0), (4309, 0.05909661373824669), (4310, 0.01037918334717296), (4311, 0.0), (4312, 0.011139958588746217), (4313, 0.04429720290386763), (4314, 0.0413496631284271), (4315, 0.0), (4316, 0.0), (4317, 0.0), (4318, 0.0), (4319, 0.0), (4320, 0.019552435101359067), (4321, 0.034616170142713044), (4322, 0.004579367095486867), (4323, 0.0), (4324, 0.025887796013083476), (4325, 0.06580062535444435), (4326, 0.0), (4327, 0.009608447835039457), (4328, 0.009686307089391305), (4329, 0.010123397784862175), (4330, 0.0), (4331, 0.0057611307144547035), (4332, 0.0), (4333, 0.0), (4334, 0.013945600851579538), (4335, 0.03359883128003736), (4336, 0.0), (4337, 0.0165005744164765), (4338, 0.05161137338893464), (4339, 0.022474595710870793), (4340, 0.0), (4341, 0.0), (4342, 0.017260119417427992), (4343, 0.0), (4344, 0.004275311589455999), (4345, 0.005091058194903475), (4346, 0.0), (4347, 0.0), (4348, 0.0), (4349, 0.01636355514763169), (4350, 0.0), (4351, 0.0), (4352, 0.0), (4353, 0.004661054605401564), (4354, 0.0), (4355, 0.0), (4356, 0.01741962266933753), (4357, 0.0), (4358, 0.0), (4359, 0.018002468452505624), (4360, 0.0050281286162357774), (4361, 0.0), (4362, 0.023237327835482942), (4363, 0.0), (4364, 0.0), (4365, 0.03335230140959801), (4366, 0.01829028747742383), (4367, 0.0), (4368, 0.0), (4369, 0.01134290316312047), (4370, 0.0), (4371, 0.01762105261382792), (4372, 0.0), (4373, 0.004040390094689507), (4374, 0.028668036807826917), (4375, 0.04099348457038563), (4376, 0.024464041591099536), (4377, 0.005132740670872292), (4378, 0.014175689627085099), (4379, 0.07812663715867267), (4380, 0.06563955334435835), (4381, 0.0), (4382, 0.0), (4383, 0.005018915131347964), (4384, 0.01098218440709391), (4385, 0.0), (4386, 0.0), (4387, 0.047933667717486805), (4388, 0.0), (4389, 0.005666720160757561), (4390, 0.021518362576746393), (4391, 0.0), (4392, 0.010918198899439457), (4393, 0.006054703804386056), (4394, 0.0), (4395, 0.0), (4396, 0.038388052692212404), (4397, 0.0), (4398, 0.01922937433780802), (4399, 0.08470617406096179), (4400, 0.0), (4401, 0.0), (4402, 0.00462468191588151), (4403, 0.0897415877312653), (4404, 0.05832931361070686), (4405, 0.012262749901305695), (4406, 0.0229168968748128), (4407, 0.0), (4408, 0.0), (4409, 0.03934376941021282), (4410, 0.01984799216875513), (4411, 0.014077435477339112), (4412, 0.005858777044995984), (4413, 0.0), (4414, 0.0), (4415, 0.0), (4416, 0.016664652299581674), (4417, 0.0), (4418, 0.0), (4419, 0.005595345943055743), (4420, 0.0), (4421, 0.0), (4422, 0.0), (4423, 0.0), (4424, 0.027439981342489494), (4425, 0.07836108433255638), (4426, 0.004315462892388523), (4427, 0.009848221209933233), (4428, 0.06479233808316688), (4429, 0.0046601483699137206), (4430, 0.010855924357728393), (4431, 0.005348744741541824), (4432, 0.025469821241123215), (4433, 0.06160008830940546), (4434, 0.0), (4435, 0.02080637614475854), (4436, 0.027722450022910572), (4437, 0.0), (4438, 0.004794988779675231), (4439, 0.00493295982065934), (4440, 0.02648211098989723), (4441, 0.025332161400590057), (4442, 0.07663230722962137), (4443, 0.01270186050642055), (4444, 0.013582398638409904), (4445, 0.004029232677833524), (4446, 0.0), (4447, 0.01771372955626225), (4448, 0.0), (4449, 0.0), (4450, 0.04199569109787368), (4451, 0.08913118085052527), (4452, 0.0), (4453, 0.005992731289054914), (4454, 0.031861356205268275), (4455, 0.0), (4456, 0.005527407729282297), (4457, 0.0), (4458, 0.0), (4459, 0.02524581426072924), (4460, 0.03889316016477581), (4461, 0.0), (4462, 0.07592046884428921), (4463, 0.0), (4464, 0.006359330298197498), (4465, 0.03516238852266676), (4466, 0.03280273899478887), (4467, 0.0), (4468, 0.02072088135916088), (4469, 0.0191667882410926), (4470, 0.005156439279863899), (4471, 0.0), (4472, 0.0), (4473, 0.0), (4474, 0.03871999202785949), (4475, 0.018292334306264826), (4476, 0.0), (4477, 0.024192383141510447), (4478, 0.0), (4479, 0.0), (4480, 0.0), (4481, 0.052517202012083215), (4482, 0.026283804078513287), (4483, 0.0), (4484, 0.0), (4485, 0.0), (4486, 0.02146373088303282), (4487, 0.0), (4488, 0.004336070107128514), (4489, 0.0), (4490, 0.012296462490326787), (4491, 0.005839993166191643), (4492, 0.0), (4493, 0.005812651988909697), (4494, 0.0999409525851031), (4495, 0.020996167241463526), (4496, 0.0), (4497, 0.0), (4498, 0.024239767797237757), (4499, 0.0), (4500, 0.0), (4501, 0.0), (4502, 0.014010775934328507), (4503, 0.025928304852724966), (4504, 0.016061329622922876), (4505, 0.0), (4506, 0.0), (4507, 0.0), (4508, 0.0), (4509, 0.03927649894824886), (4510, 0.021590791646982778), (4511, 0.0), (4512, 0.02279256753892054), (4513, 0.028339146414217288), (4514, 0.00604960068258008), (4515, 0.04366620718740824), (4516, 0.0), (4517, 0.014950623531760888), (4518, 0.006071464169297356), (4519, 0.010824824786696951), (4520, 0.0), (4521, 0.0), (4522, 0.0054504509536238465), (4523, 0.004784421514951553), (4524, 0.02206987900175949), (4525, 0.0), (4526, 0.03149957342794808), (4527, 0.005750788948697357), (4528, 0.0), (4529, 0.0), (4530, 0.0), (4531, 0.046554437586623906), (4532, 0.0), (4533, 0.005118706725944243), (4534, 0.04653373893107993), (4535, 0.0), (4536, 0.0), (4537, 0.006510436596038756), (4538, 0.0), (4539, 0.0), (4540, 0.0), (4541, 0.0), (4542, 0.009747661942316164), (4543, 0.09053153505153436), (4544, 0.0), (4545, 0.0), (4546, 0.006464890295297722), (4547, 0.0), (4548, 0.00468837772268651), (4549, 0.005954054802437619), (4550, 0.005203208053371397), (4551, 0.016977065330035852), (4552, 0.005184146247304897), (4553, 0.0342781252693125), (4554, 0.046445317483650245), (4555, 0.0), (4556, 0.0), (4557, 0.03242399884722459), (4558, 0.0), (4559, 0.035615976576126494), (4560, 0.0), (4561, 0.0), (4562, 0.029136489821259784), (4563, 0.04310805798976103), (4564, 0.030435308787812358), (4565, 0.0), (4566, 0.0), (4567, 0.0), (4568, 0.005016699058462354), (4569, 0.0), (4570, 0.0), (4571, 0.0), (4572, 0.0), (4573, 0.0052030808485692475), (4574, 0.0175942364708175), (4575, 0.020740504904068917), (4576, 0.03392340068760176), (4577, 0.024094888545650044), (4578, 0.0), (4579, 0.005390934964680387), (4580, 0.0), (4581, 0.020900464223787243), (4582, 0.03666316265782249), (4583, 0.026775130465017824), (4584, 0.0), (4585, 0.004679935920740924), (4586, 0.0107967953198622), (4587, 0.014163421070600512), (4588, 0.0), (4589, 0.006282122818388028), (4590, 0.009284553468251818), (4591, 0.02219254388353845), (4592, 0.0), (4593, 0.005561451727271279), (4594, 0.0), (4595, 0.005411863853284154), (4596, 0.0), (4597, 0.006218691243173143), (4598, 0.015469796987344074), (4599, 0.0), (4600, 0.0049117740497455495), (4601, 0.00547430597346101), (4602, 0.0), (4603, 0.0), (4604, 0.0), (4605, 0.01572579713901383), (4606, 0.006794902341989563), (4607, 0.0), (4608, 0.0047629048268782535), (4609, 0.0054041274568173946), (4610, 0.024198793835452467), (4611, 0.0), (4612, 0.006226328659233917), (4613, 0.0), (4614, 0.02067264565535934), (4615, 0.01379107154660544), (4616, 0.0), (4617, 0.02098078127367303), (4618, 0.058727931188559034), (4619, 0.02284739648577424), (4620, 0.0), (4621, 0.0052263540330988074), (4622, 0.0), (4623, 0.020268347770957814), (4624, 0.005244593863176752), (4625, 0.0), (4626, 0.02763782658307699), (4627, 0.014279298976830527), (4628, 0.02035262134969575), (4629, 0.010816508951820087), (4630, 0.03805602604199772), (4631, 0.006517754791099859), (4632, 0.0), (4633, 0.0), (4634, 0.0), (4635, 0.0), (4636, 0.0), (4637, 0.024137588313692428), (4638, 0.0), (4639, 0.03413163869037734), (4640, 0.04959709619236616), (4641, 0.0), (4642, 0.01223635670776674), (4643, 0.0), (4644, 0.0), (4645, 0.0), (4646, 0.013220066530591261), (4647, 0.004853374178479906), (4648, 0.028561490300330467), (4649, 0.004929053544727085), (4650, 0.0), (4651, 0.0), (4652, 0.0), (4653, 0.024731383509410027), (4654, 0.0), (4655, 0.014985319752285295), (4656, 0.022329533757468427), (4657, 0.0), (4658, 0.03535381525596218), (4659, 0.00579187598274367), (4660, 0.0061673932274916325), (4661, 0.009190951248403585), (4662, 0.02922094337904549), (4663, 0.025785724857078463), (4664, 0.009232432861989633), (4665, 0.018342851223022386), (4666, 0.014037437781331982), (4667, 0.0), (4668, 0.0), (4669, 0.022154945183534322), (4670, 0.00479089959105926), (4671, 0.0), (4672, 0.0), (4673, 0.024900399945384434), (4674, 0.004017006321394657), (4675, 0.0), (4676, 0.005825809972658054), (4677, 0.02887458396128732), (4678, 0.01958156031524865), (4679, 0.031370270067800424), (4680, 0.0), (4681, 0.0), (4682, 0.005207997538933474), (4683, 0.00989249040139773), (4684, 0.09617954253884514), (4685, 0.0), (4686, 0.0), (4687, 0.0), (4688, 0.03491039388812639), (4689, 0.004563731078419794), (4690, 0.02044348812027098), (4691, 0.0067745138365821545), (4692, 0.02941750913301145), (4693, 0.0), (4694, 0.0), (4695, 0.0052709518008525035), (4696, 0.0), (4697, 0.00464903311468381), (4698, 0.012509810315091411), (4699, 0.043356848744719276), (4700, 0.0), (4701, 0.025794563268973603), (4702, 0.0), (4703, 0.011113035054017565), (4704, 0.0), (4705, 0.007673750649079179), (4706, 0.0), (4707, 0.017181728409367127), (4708, 0.01028948193134667), (4709, 0.034945063287710444), (4710, 0.006321945220515298), (4711, 0.0), (4712, 0.008881625032972055), (4713, 0.0), (4714, 0.0), (4715, 0.0050143496820439695), (4716, 0.0327603278225945), (4717, 0.0), (4718, 0.0), (4719, 0.0), (4720, 0.0), (4721, 0.03528873292548872), (4722, 0.07045850883363725), (4723, 0.006562339821359325), (4724, 0.025075463212179284), (4725, 0.006551957242838726), (4726, 0.02571157345250593), (4727, 0.02224539912461139), (4728, 0.013639646270652315), (4729, 0.0), (4730, 0.0), (4731, 0.024504121033607374), (4732, 0.0), (4733, 0.022362259503438675), (4734, 0.0), (4735, 0.02407109904873638), (4736, 0.0), (4737, 0.03131383423020383), (4738, 0.013486755350726996), (4739, 0.04222710208586759), (4740, 0.04856790460489699), (4741, 0.006116104498130245), (4742, 0.00595858414144095), (4743, 0.01905058225151456), (4744, 0.0), (4745, 0.0), (4746, 0.005672726324719701), (4747, 0.029587759715446586), (4748, 0.0), (4749, 0.0), (4750, 0.0), (4751, 0.0), (4752, 0.003844584449467734), (4753, 0.0), (4754, 0.045143048911027786), (4755, 0.0), (4756, 0.0), (4757, 0.0052522500381236206), (4758, 0.0), (4759, 0.034178866924087246)]\n"
          ]
        }
      ]
    },
    {
      "cell_type": "code",
      "source": [
        "len(Recomendation_Score)"
      ],
      "metadata": {
        "colab": {
          "base_uri": "https://localhost:8080/"
        },
        "id": "eeV1XWYW7SC1",
        "outputId": "33ddeeb4-9fef-4802-8afe-1c84881f0428"
      },
      "execution_count": null,
      "outputs": [
        {
          "output_type": "execute_result",
          "data": {
            "text/plain": [
              "4760"
            ]
          },
          "metadata": {},
          "execution_count": 32
        }
      ]
    },
    {
      "cell_type": "markdown",
      "source": [
        "# **Get All Movies Sort Based On Recommendation Score Wrt Favorite Movie**"
      ],
      "metadata": {
        "id": "kAp2qwi37WqX"
      }
    },
    {
      "cell_type": "code",
      "source": [
        "Sorted_Similar_Movies = sorted(Recomendation_Score, key = lambda x:x[1], reverse = True)\n",
        "print(Sorted_Similar_Movies)"
      ],
      "metadata": {
        "colab": {
          "base_uri": "https://localhost:8080/"
        },
        "id": "9cHKE9_o7aam",
        "outputId": "ac856571-70df-4ba0-a71e-045915548991"
      },
      "execution_count": null,
      "outputs": [
        {
          "output_type": "stream",
          "name": "stdout",
          "text": [
            "[(3466, 1.0000000000000002), (2696, 0.16191341262593542), (753, 0.14248532724589758), (1911, 0.13889953997167445), (345, 0.1372352476201621), (2162, 0.13379598041414412), (115, 0.12292886209010837), (2621, 0.11695041298814736), (3531, 0.11665392919024237), (1935, 0.11418186833922819), (2509, 0.11147519485938326), (1973, 0.11114348336508341), (1675, 0.11079005055989906), (3748, 0.1088380402684369), (1937, 0.10664759805374346), (2097, 0.10543033364234171), (1760, 0.10448006017872088), (3451, 0.10283125380075053), (447, 0.1025415181474211), (4116, 0.10241996814987077), (3318, 0.10147916524879853), (2144, 0.10025547219944572), (4494, 0.0999409525851031), (3978, 0.09936728324734372), (4293, 0.09930054395546815), (1282, 0.0982032411340947), (1224, 0.09771054155565054), (3377, 0.09705830860089051), (4684, 0.09617954253884514), (1645, 0.0959342698042807), (2574, 0.09533561154552997), (2751, 0.09324388947228843), (2340, 0.09299640258189026), (4088, 0.0929955450803388), (295, 0.0922244920351926), (2529, 0.0913005850448419), (4543, 0.09053153505153436), (1227, 0.09036672962589394), (4403, 0.0897415877312653), (4451, 0.08913118085052527), (2998, 0.08867849494096018), (1716, 0.08772304857382963), (1989, 0.08683503892213137), (2795, 0.08555708607919182), (4189, 0.08538105350083844), (1314, 0.08511236793771185), (4399, 0.08470617406096179), (3506, 0.08442518547120072), (2212, 0.08365460318688958), (4257, 0.08347709615152263), (220, 0.08310127568952749), (1458, 0.0830821844037911), (756, 0.0820952515358837), (3465, 0.0817865580687947), (1045, 0.07996696189019747), (3213, 0.0797223658956438), (2078, 0.07932315165181153), (971, 0.07931178134799392), (2308, 0.07900366848368803), (2790, 0.07879962645988159), (1232, 0.07865278535174854), (4425, 0.07836108433255638), (4379, 0.07812663715867267), (1349, 0.07808121477910449), (751, 0.07798283788633205), (3498, 0.07793595282820638), (1585, 0.07792714402597477), (1205, 0.07788639284329171), (1850, 0.07772623414124381), (4442, 0.07663230722962137), (226, 0.0765982474518046), (2691, 0.07657417715071475), (4462, 0.07592046884428921), (1344, 0.07586706839954628), (109, 0.07568187126979256), (3127, 0.07543790446910757), (1781, 0.07539091415652178), (485, 0.07510437303610593), (21, 0.07489726420227788), (68, 0.0745636508814163), (1305, 0.07454831333200257), (2406, 0.07446849466328156), (3436, 0.07370697552693173), (1789, 0.07357809811061616), (3153, 0.07346008404804612), (3045, 0.07342801591981113), (1566, 0.07332357695347276), (3556, 0.07309452891159995), (1821, 0.072450919360857), (1802, 0.07115986205005653), (4077, 0.07097102034008558), (501, 0.07071655465091048), (2641, 0.07052942408653683), (1248, 0.0704669946862435), (207, 0.07046023280958907), (4722, 0.07045850883363725), (922, 0.07020715246931938), (481, 0.07007979651244167), (565, 0.07007247987078652), (931, 0.06998930259265349), (118, 0.06990998422924764), (3977, 0.06956507227098753), (3752, 0.069543534751188), (3711, 0.06917608076430759), (120, 0.0690069244145837), (1255, 0.0688410074324711), (979, 0.06875711726917622), (112, 0.06863779628019454), (1194, 0.06855862546323227), (845, 0.06809461995676645), (2762, 0.06768937573432426), (3781, 0.06763957448621671), (3694, 0.06751048642714502), (88, 0.06683025500565151), (1334, 0.06676315570730909), (2445, 0.06676158528113757), (1242, 0.06667767675608743), (3408, 0.06660059856275122), (1796, 0.06655304800282233), (2487, 0.06650616405619153), (1046, 0.0662383424972692), (2771, 0.06616508496359476), (25, 0.06599984410277761), (3297, 0.06597730272956984), (1, 0.06595956650654046), (2147, 0.06593773574788254), (2645, 0.06588482809760755), (4325, 0.06580062535444435), (1654, 0.06576960566429568), (3902, 0.06568387844833158), (4380, 0.06563955334435835), (4120, 0.06560992935275844), (2874, 0.06560120945630023), (2617, 0.0655071278248135), (673, 0.06549818137950046), (3567, 0.06537505202990308), (889, 0.0653054800093694), (4181, 0.06511062078967722), (2085, 0.06506078515466775), (2023, 0.0649655212543506), (412, 0.06495080835015982), (1068, 0.06491587269698725), (4428, 0.06479233808316688), (2526, 0.0647178161988033), (1548, 0.06462512747150086), (2558, 0.06456508898240833), (70, 0.06455156946840096), (126, 0.06448065201867095), (4099, 0.06439313211223925), (137, 0.06422452923826567), (3597, 0.06401415901903532), (1061, 0.06399598923863181), (1410, 0.06380341576312377), (3083, 0.0637298382790067), (692, 0.06353732592364182), (1828, 0.06352486470523251), (4281, 0.06351624393928608), (1501, 0.0634882070759371), (1478, 0.06338107532572966), (1380, 0.06329936962084744), (4015, 0.06329402630207658), (654, 0.06318399285314218), (1023, 0.06307254328607743), (613, 0.0627286425387687), (3514, 0.06270533586995798), (228, 0.06269415142803328), (3638, 0.06263027936045917), (526, 0.0624917140000254), (1320, 0.06218924962518172), (2368, 0.061960541560202066), (2668, 0.061756751929423426), (1974, 0.06170784013607064), (653, 0.06162480160175334), (4433, 0.06160008830940546), (892, 0.0612396745177832), (1703, 0.061089230510167125), (4217, 0.06097302407319682), (703, 0.060922121867944296), (458, 0.06084067672323119), (3515, 0.06078168348775616), (2060, 0.06067490031585359), (3601, 0.06065543999592725), (3097, 0.06040298379436662), (3606, 0.06020027938948552), (850, 0.06010780782156433), (1069, 0.06008410314023514), (3792, 0.0600437363261708), (670, 0.05998743977200878), (61, 0.05996770858147507), (834, 0.059833534881524555), (1870, 0.059679410999372184), (875, 0.05959561433814374), (31, 0.059579911828438005), (3433, 0.05934593007697555), (4094, 0.05929936125169527), (3680, 0.059262971475236625), (4309, 0.05909661373824669), (2196, 0.058888287931153555), (461, 0.05879858161117128), (2981, 0.0587882839058597), (4021, 0.05875584789735774), (4618, 0.058727931188559034), (3404, 0.05860557140512835), (915, 0.05857419191657698), (4404, 0.05832931361070686), (4119, 0.0582484171345404), (3589, 0.05821498174587169), (553, 0.058214517941315685), (2635, 0.058178371202654226), (1436, 0.058157990276529264), (3163, 0.0581493512953635), (4174, 0.05810490974975687), (286, 0.057892472719604855), (1094, 0.05778150899676639), (1970, 0.057771418458659574), (227, 0.0576184525282685), (2383, 0.05758948175972128), (2261, 0.05755263167585095), (3709, 0.05754769218272625), (2026, 0.05742136717614639), (515, 0.05736454590190902), (1272, 0.05714984508883375), (3119, 0.05700708699120345), (1559, 0.05697321715309023), (212, 0.05682804518604437), (269, 0.05664566543049883), (367, 0.05657916405968906), (816, 0.05646138028772128), (967, 0.05642192045908319), (2065, 0.056372918599187936), (4095, 0.05617063765772774), (668, 0.05613788477747525), (235, 0.056092023526849784), (2057, 0.05607151371323925), (142, 0.05604544448129858), (2600, 0.05571538938212434), (1337, 0.05564434433040226), (978, 0.05557595189450885), (2446, 0.05553917843846371), (440, 0.05549256679215074), (145, 0.055469937763982416), (694, 0.055444041958499404), (3129, 0.0554323424808115), (83, 0.055383196546831145), (1569, 0.05503688201875448), (166, 0.05491698348540948), (2689, 0.05486115489242163), (3149, 0.05471481001903922), (2292, 0.0546952273299187), (1343, 0.054477768957164746), (2825, 0.05435233508029899), (48, 0.05429434718482238), (2908, 0.054283484782419844), (2293, 0.05416953091266065), (1292, 0.05405226161836068), (3849, 0.05395866181937633), (2807, 0.053906383723012305), (418, 0.05372841319748721), (2228, 0.05361521824883746), (3070, 0.05361496358565959), (4103, 0.053126836692718005), (2234, 0.05298718368602018), (643, 0.052960579467991264), (1505, 0.052944794863167374), (180, 0.05292230447165313), (1527, 0.052838635996953945), (384, 0.05273542732917562), (1572, 0.0527136336245207), (291, 0.052701745019576605), (853, 0.05268911289850256), (1239, 0.05254637390577225), (193, 0.05254296727999575), (2918, 0.05253177767836516), (4481, 0.052517202012083215), (4178, 0.052294446252424284), (3150, 0.05199527812052218), (1479, 0.05191717539477329), (4338, 0.05161137338893464), (1281, 0.05145823900704868), (856, 0.05127076058648689), (273, 0.051243312614218134), (702, 0.051237713071362156), (2191, 0.051131931657189475), (4089, 0.0511244308382998), (3452, 0.051004116442500996), (1483, 0.05079737313054965), (231, 0.050777901468762064), (294, 0.050607653069218994), (2168, 0.05052470336659384), (1175, 0.050311363122394245), (2624, 0.05011902839918696), (2766, 0.05009745763701717), (3095, 0.05001222104473549), (1700, 0.05000668690977294), (99, 0.05000391990270019), (236, 0.049999593448805474), (2953, 0.049995318695431605), (876, 0.04998894018379462), (1396, 0.0499666024951867), (4274, 0.04994382529480461), (1992, 0.0499225688242327), (26, 0.0498722872353091), (3463, 0.04982432269658269), (1682, 0.049775592447623224), (2904, 0.04972183929312973), (3958, 0.04969787350507457), (4640, 0.04959709619236616), (479, 0.049593293768512764), (3120, 0.04947454751008639), (976, 0.04937182102342487), (2647, 0.04930026447955919), (2092, 0.0492962826231111), (1699, 0.049229368337044443), (829, 0.04908866899818749), (2819, 0.04906123533826201), (4247, 0.048936112123958764), (2182, 0.04882884646996001), (3387, 0.04871865695765082), (3259, 0.04871598751193186), (1252, 0.048708761697280376), (3993, 0.04868626392101075), (502, 0.048603715373882764), (3453, 0.04857348198354119), (4740, 0.04856790460489699), (448, 0.04852350699260159), (1393, 0.04850311401629348), (2250, 0.048447004551073675), (540, 0.0483689294278494), (4227, 0.04834696929324284), (1671, 0.04825316531106143), (470, 0.04821317915635997), (851, 0.0481987745293717), (1150, 0.048191573980868735), (3008, 0.04813431129584208), (2910, 0.04810184428973609), (3600, 0.04803932911499513), (1130, 0.047990922536332636), (4387, 0.047933667717486805), (234, 0.04775603505845933), (279, 0.04769994931499494), (3450, 0.04767467864025001), (3586, 0.04752639618861037), (3848, 0.04746248592374178), (2784, 0.047453538702146275), (3011, 0.04741351576485167), (2044, 0.047383219773235966), (11, 0.04731095884256033), (2903, 0.04725845309241344), (3285, 0.047256871630627514), (1173, 0.04724780370780106), (1480, 0.047222254583209916), (1750, 0.04713560518206392), (4299, 0.047027864262969184), (3279, 0.047003843731806), (4236, 0.04681122940575606), (1149, 0.04677936770755746), (4105, 0.04667528623454236), (190, 0.04663908001144827), (4531, 0.046554437586623906), (4534, 0.04653373893107993), (4554, 0.046445317483650245), (833, 0.04640072526650815), (1315, 0.04611153321968507), (4288, 0.04584568907438792), (1178, 0.04579955584057821), (4240, 0.045793024370708785), (4076, 0.04569089909476674), (4009, 0.04553671767593258), (3306, 0.04541810757715054), (1419, 0.04536524132839916), (905, 0.04534817957219321), (2206, 0.04528289723065667), (4148, 0.04524984912731214), (1138, 0.045197191802622196), (632, 0.04515754760591638), (4754, 0.045143048911027786), (1407, 0.0451413644655357), (2791, 0.04508750612771604), (1226, 0.04497023985920485), (96, 0.04493589609391511), (1309, 0.04485332337046731), (2770, 0.04482615949324392), (1237, 0.04462450112290545), (1808, 0.04456882760832838), (3640, 0.0445468320361454), (1447, 0.04447184479814877), (4242, 0.044328896734336314), (4313, 0.04429720290386763), (500, 0.04429460896680225), (3151, 0.044149471278223926), (2931, 0.04411302814826508), (201, 0.04396719602513223), (1515, 0.043958963791701694), (261, 0.043929091701906564), (1662, 0.04384260467643612), (719, 0.043815898020586726), (3946, 0.04372966207291557), (3154, 0.043672986221725545), (4515, 0.04366620718740824), (2978, 0.04355953363012722), (1288, 0.04349546880410221), (3085, 0.04339758786929183), (2637, 0.04337146398104921), (2053, 0.04336956890752111), (4699, 0.043356848744719276), (2649, 0.043337726315762194), (1384, 0.043322032062965865), (2094, 0.04328420031433815), (4171, 0.043270436889640454), (1589, 0.04319768813279763), (77, 0.04316463795627601), (4563, 0.04310805798976103), (994, 0.04306167029970513), (1680, 0.043025728071018905), (1121, 0.04298700929795969), (2521, 0.042942584924050724), (3249, 0.042913912261070185), (4289, 0.042903551994910194), (1125, 0.04285585945150705), (1216, 0.04282885670696915), (1222, 0.04271503716700483), (2625, 0.042670152872452106), (4128, 0.04262167042125288), (4143, 0.04261322109793666), (795, 0.04260644745838826), (368, 0.042605467122240503), (1854, 0.04258016165335679), (2567, 0.042546941795802734), (2131, 0.04243228101554958), (3858, 0.04236778735698787), (885, 0.04236600434822489), (2845, 0.04234813403483605), (2990, 0.04234023677064072), (91, 0.042257459107689826), (1934, 0.04224792123493519), (4739, 0.04222710208586759), (3013, 0.04220222401590294), (2276, 0.042165389277167634), (3959, 0.04213747945300964), (742, 0.04209849101149794), (2639, 0.04207470646129299), (2742, 0.04206942432832639), (2580, 0.04200883226267618), (4450, 0.04199569109787368), (2591, 0.041900965444470056), (2553, 0.04185546056784514), (1231, 0.041832654059414956), (955, 0.04182918336605274), (3941, 0.04179245436364431), (2210, 0.04173609737843206), (1983, 0.041722188635856), (3793, 0.041694815994946254), (879, 0.04167295849383569), (3358, 0.0416555434864143), (2646, 0.041579729401753404), (3707, 0.041569464574168505), (1918, 0.04152552990731266), (237, 0.04147854661495015), (1871, 0.0413980821830975), (911, 0.04135445870187368), (4314, 0.0413496631284271), (3028, 0.04131134200315829), (1629, 0.04123209570444945), (1931, 0.041168760987390585), (1797, 0.0411604944900746), (3616, 0.041155080362774474), (3774, 0.04114867036077757), (4056, 0.04108830808048334), (0, 0.04106908683514421), (4375, 0.04099348457038563), (256, 0.040923510265245065), (3961, 0.04082024212242666), (649, 0.040728355798607854), (572, 0.04067677481261937), (698, 0.04065934619795368), (1553, 0.0406065540664489), (3582, 0.04059669191640522), (43, 0.04053113731255347), (2962, 0.040322739396265295), (1690, 0.04031544405143384), (1751, 0.04014512828678336), (1412, 0.04011066146524454), (1611, 0.04009913055656806), (1509, 0.04008350243611018), (3913, 0.0400833539899939), (1504, 0.04003897870200956), (3280, 0.03999403312230382), (2214, 0.039983467001263664), (1676, 0.03986183283572877), (128, 0.039775465864487755), (4177, 0.039653255421407484), (494, 0.039619223842798416), (3116, 0.03959741641206341), (2606, 0.03958452474205234), (123, 0.03943921569913989), (2850, 0.03943617111876745), (1621, 0.039377693709942804), (408, 0.039360904121910456), (683, 0.03936001572141348), (4409, 0.03934376941021282), (1276, 0.03930398245640338), (4509, 0.03927649894824886), (866, 0.03917622046297746), (2598, 0.03913229931069917), (3853, 0.039054580837009745), (1510, 0.03905239247584513), (4038, 0.03897207002874404), (4265, 0.038918312073623465), (4262, 0.0389077531155414), (4460, 0.03889316016477581), (1997, 0.038767440262135654), (1425, 0.03875676387984763), (2346, 0.03873836663605357), (3930, 0.03873045602544569), (4474, 0.03871999202785949), (3657, 0.03868864060274336), (2043, 0.03864365808784837), (2669, 0.038576273931515), (2330, 0.03854241204575948), (2555, 0.03846172635581689), (596, 0.038444439789629005), (4396, 0.038388052692212404), (1230, 0.03826525544680732), (1113, 0.03823498735547544), (1620, 0.03817443296247272), (2315, 0.03816074541650459), (541, 0.038145657259502655), (824, 0.03807381664054149), (4630, 0.03805602604199772), (4138, 0.03803192086141324), (1260, 0.03800590234602129), (842, 0.03799850275954718), (2093, 0.03796468043555269), (3370, 0.037926350812715524), (101, 0.03790281827970963), (1351, 0.03787552643248398), (2159, 0.03783530439088358), (4248, 0.03776083254979171), (1632, 0.03769280637536666), (254, 0.03755317928576353), (150, 0.037523919453514035), (253, 0.03751358047995552), (4004, 0.03750592267461641), (3188, 0.03743367371236376), (1746, 0.03733027067360133), (3706, 0.03731123552230545), (2472, 0.037177057735822215), (3821, 0.03708154337885455), (3449, 0.03707693013432054), (575, 0.036995002390538254), (3905, 0.03696160702294635), (2545, 0.03696083650845448), (304, 0.03693352249614814), (3516, 0.036784351635035524), (2114, 0.03676861585625021), (2014, 0.03669306769750895), (4582, 0.03666316265782249), (1774, 0.03664400519196465), (2745, 0.03658275360383874), (2768, 0.03654518350168566), (3973, 0.03653133963972696), (2431, 0.03651230665110133), (29, 0.03647940010800588), (10, 0.036446643750770655), (2815, 0.03626066087758994), (415, 0.03624099704937149), (1401, 0.036231328903485405), (3437, 0.0361161267095098), (2809, 0.03611582001176289), (1511, 0.03585316686503493), (1506, 0.03583176683776805), (181, 0.03580798601621167), (1103, 0.035788016984626025), (1060, 0.03575609871572561), (3328, 0.035718849562068784), (3614, 0.035696096340383614), (1074, 0.03567757312339704), (1865, 0.035664483805816834), (1048, 0.035655359537057695), (4559, 0.035615976576126494), (3860, 0.03554327449927375), (32, 0.03554235124859747), (170, 0.03551923265998336), (2123, 0.035514673019184116), (3022, 0.03550924111445043), (2334, 0.03550908372624966), (2016, 0.03550437605094159), (3738, 0.03548284962807958), (1301, 0.03540549743170958), (3023, 0.03539493991296986), (1562, 0.0353948399717125), (3807, 0.035381826321936115), (4658, 0.03535381525596218), (1576, 0.03534561667817572), (1717, 0.03533713153753679), (4721, 0.03528873292548872), (1838, 0.03528643035220407), (3699, 0.035237333416669486), (4465, 0.03516238852266676), (975, 0.03511470920012427), (1331, 0.03511151005234992), (4709, 0.034945063287710444), (3924, 0.03492620888023158), (2573, 0.03491320820873293), (4688, 0.03491039388812639), (1707, 0.034880865048138344), (3142, 0.034840880913013676), (2275, 0.03481554170680719), (4050, 0.034799016536250574), (244, 0.03479536266859878), (194, 0.03476612158892301), (3427, 0.03475512678327129), (2442, 0.03474043787587082), (4263, 0.03472212309542336), (642, 0.03469236474217599), (1417, 0.03468934859769739), (3338, 0.03468069324439025), (947, 0.03467969922748711), (733, 0.03466132329722457), (2469, 0.03465161203882964), (1617, 0.03463416867480218), (4321, 0.034616170142713044), (4096, 0.03460526019245514), (1964, 0.034542817234232005), (4188, 0.034402645651398014), (3375, 0.03429030421072059), (4553, 0.0342781252693125), (3438, 0.03419884403314182), (4759, 0.034178866924087246), (4639, 0.03413163869037734), (3769, 0.0341052011134976), (460, 0.03409931702450119), (3092, 0.03405731594470803), (19, 0.03392587953333215), (4576, 0.03392340068760176), (1132, 0.03391106665078156), (3143, 0.03385618677861614), (129, 0.0338458692896144), (867, 0.033815601033875355), (160, 0.033794168761525564), (1721, 0.03373176751480137), (3888, 0.03371145004684627), (13, 0.03370771220935555), (801, 0.03368570290697462), (881, 0.03366311136918889), (92, 0.03364520655672061), (1234, 0.03364491044898482), (4335, 0.03359883128003736), (638, 0.03351147116761342), (3462, 0.033484081931147366), (1541, 0.033479987189703915), (539, 0.03346688069090986), (72, 0.03345839138584704), (1818, 0.0334437787010192), (3136, 0.03344018764599672), (420, 0.03342735912149115), (4203, 0.03342193501093724), (4006, 0.03340617982375029), (3979, 0.03339297852047086), (2777, 0.03335493923309499), (4365, 0.03335230140959801), (223, 0.03334150180661702), (4018, 0.03333985754967682), (2880, 0.03325243660480736), (2873, 0.03322957239949153), (3780, 0.03319173532081074), (1109, 0.03318245607373391), (1254, 0.03315808239535174), (3121, 0.03313130188725606), (422, 0.033124944541784565), (550, 0.03310430815578009), (1115, 0.032984000132280186), (2198, 0.032950664778658115), (2177, 0.03293279099680144), (3659, 0.03291572252204508), (2353, 0.032810572091014754), (4466, 0.03280273899478887), (676, 0.03280193273748318), (4716, 0.0327603278225945), (3595, 0.0327065377696182), (984, 0.03263736474029916), (1666, 0.03263642685443266), (741, 0.03258007902992792), (127, 0.032546492413016326), (1090, 0.03251254913611766), (3448, 0.03251189506470482), (1362, 0.03250067919629177), (4557, 0.03242399884722459), (1005, 0.03238804810986162), (835, 0.03237356012203411), (493, 0.0323691544065254), (864, 0.03231638580060368), (4045, 0.03229270662693927), (2889, 0.032286636656493874), (3875, 0.032221875940685624), (4028, 0.03220970693673959), (1445, 0.03217947811572938), (75, 0.0321746767785262), (2075, 0.03213652902763347), (2843, 0.032129992665573044), (2692, 0.032114814160377606), (3195, 0.03209974925527008), (41, 0.03206980419131837), (471, 0.03204205139614552), (1728, 0.03198215006888348), (311, 0.03197934077345839), (1180, 0.03195960873372071), (1969, 0.031938457108672214), (1290, 0.031935963375584506), (629, 0.0319354134670557), (874, 0.03191327881339799), (4210, 0.03190218112620089), (4454, 0.031861356205268275), (1484, 0.031826283324208185), (86, 0.03182564857457712), (3612, 0.031784636301653235), (280, 0.03168941504933785), (2785, 0.031620062643635746), (3995, 0.031607790651612296), (4526, 0.03149957342794808), (2133, 0.03148046135420207), (1845, 0.03147911114656498), (543, 0.03145483504505175), (3281, 0.03145415862096928), (4169, 0.03138279333449379), (1236, 0.031374601002347804), (4679, 0.031370270067800424), (4737, 0.03131383423020383), (1813, 0.03128406028606219), (1201, 0.03127709097733142), (4286, 0.031271815066106774), (3403, 0.031261569895947375), (3956, 0.03124794362322135), (2578, 0.0312438391849852), (3939, 0.0312378277770054), (3323, 0.031233572707601517), (1039, 0.031193251399062358), (1840, 0.031170288357614862), (1469, 0.031147598413296253), (4012, 0.031130188605293308), (1791, 0.03111683137777772), (3881, 0.031106243845740605), (3637, 0.031105134807518586), (1044, 0.031032557065188274), (497, 0.031025985805978068), (4023, 0.030990408358555745), (830, 0.03096974837269522), (1798, 0.030940463404137458), (2441, 0.030912437476649006), (1615, 0.03089028205740806), (3460, 0.030888982828902713), (1387, 0.030874211654034388), (749, 0.030871200093396056), (469, 0.03087021145965), (307, 0.030848779352914062), (3624, 0.030798406345117987), (2036, 0.030731634406054406), (44, 0.030690994442157137), (3096, 0.030678487837022594), (395, 0.030674047200482384), (3365, 0.030651854517988915), (2530, 0.03062814678167837), (1116, 0.03054575216836118), (2602, 0.030513154786294287), (3788, 0.030490556778834957), (433, 0.030449761590484598), (4564, 0.030435308787812358), (1463, 0.03039525713446303), (2061, 0.030356024906039728), (141, 0.030334204432722344), (904, 0.030263409771234838), (495, 0.030234829752195908), (3428, 0.030226256677434834), (1953, 0.03020470907415885), (100, 0.03020465351418061), (1779, 0.03018710919366177), (3384, 0.030140473067720427), (3317, 0.030119827953249443), (108, 0.030113778090792333), (451, 0.030100355264957628), (3295, 0.030098012327218947), (942, 0.03006600217773341), (1101, 0.030064031110310484), (3275, 0.03004863784212935), (2468, 0.030038619172452076), (2618, 0.030002434029645052), (938, 0.029995953037043575), (2736, 0.029995639457124947), (1643, 0.02999234016964591), (4146, 0.029956604690868728), (4145, 0.029937080987653613), (2280, 0.029917210481351108), (2895, 0.029887695607280194), (3741, 0.02986348087064223), (3015, 0.02986338668184463), (3312, 0.029860505785492392), (287, 0.02981271491854975), (906, 0.02979998922282444), (626, 0.029798823925653535), (1591, 0.02977487661735777), (2058, 0.02976564524301329), (1815, 0.029760476247228707), (3947, 0.02970949458242365), (2685, 0.02969200602811494), (3708, 0.029683753622947586), (4747, 0.029587759715446586), (2913, 0.029567393294422317), (1769, 0.029565414483846007), (1928, 0.029490109393357524), (2318, 0.029461738731608667), (4244, 0.029452775788641604), (3857, 0.029434046976463978), (4692, 0.02941750913301145), (2158, 0.029381589913541763), (4060, 0.029306540380851016), (2161, 0.02926293912159894), (1745, 0.029259206302138987), (2560, 0.02925001260920122), (4121, 0.029240614889062006), (4662, 0.02922094337904549), (1438, 0.029212833504330675), (251, 0.02920227986100473), (1626, 0.02919779425226457), (4216, 0.02918639942420275), (3925, 0.02917737702569912), (4562, 0.029136489821259784), (2548, 0.029129425804616416), (152, 0.0291053799221329), (1424, 0.029096084949810506), (3692, 0.029081770931564395), (444, 0.029064399029213817), (4246, 0.029049425695567854), (677, 0.029042479905001462), (4053, 0.029019894235877728), (1627, 0.029008128668974002), (4259, 0.028974440867018256), (4176, 0.02896651959286272), (2814, 0.028959420927848072), (684, 0.028939194113367116), (2066, 0.02892140299549298), (533, 0.02891619955330577), (682, 0.028914223297848034), (1243, 0.028904795720548774), (1249, 0.028881231256677832), (52, 0.028876611552405895), (4677, 0.02887458396128732), (2278, 0.02886786925422051), (3418, 0.028833949287746827), (1930, 0.028765433427943007), (3856, 0.02874251037919217), (3976, 0.02873666047482837), (2258, 0.02873626454308516), (547, 0.028725539892524188), (341, 0.028713621507178533), (1084, 0.02866815349442135), (4374, 0.028668036807826917), (614, 0.028648798598113548), (3222, 0.028607836171239576), (2794, 0.028591284612154547), (4648, 0.028561490300330467), (1462, 0.028513153643911326), (3402, 0.028510444635947523), (2787, 0.028498813770902087), (664, 0.028480564525556473), (50, 0.028474340418004822), (2571, 0.028464112386259732), (3205, 0.02843811124698902), (2232, 0.02842906076843229), (2040, 0.02840242114587475), (873, 0.0283778979724202), (49, 0.028358614415964177), (4513, 0.028339146414217288), (2307, 0.028327730410808022), (2833, 0.028320740507484003), (1253, 0.02831860423738077), (2899, 0.028283233439635003), (1883, 0.028228696151610787), (1681, 0.028225269085989425), (1858, 0.028197190406418802), (16, 0.028187414922031726), (122, 0.02815760227511016), (2331, 0.0281521674972596), (1701, 0.02810426602226225), (1107, 0.028099325980571174), (1466, 0.02809242760298961), (1683, 0.028081337132658372), (1523, 0.02807682411124557), (2710, 0.028074982481116922), (187, 0.02805750251096455), (1162, 0.028048232499966824), (1153, 0.028008081485078967), (2672, 0.027986770226928716), (2682, 0.02796252591074238), (542, 0.027956188940948964), (2620, 0.027917995961164104), (909, 0.02791278002339015), (2009, 0.02791196102572981), (3642, 0.027878605903187595), (2876, 0.02779705766935134), (1015, 0.027790749113423885), (3763, 0.02777388974724533), (732, 0.02775088511707058), (1933, 0.02773706819633943), (2929, 0.027725306266969695), (4436, 0.027722450022910572), (3393, 0.02771393750665377), (210, 0.027707881069106384), (3610, 0.027700768436804947), (204, 0.027685838895277114), (2565, 0.02767117398881122), (2739, 0.02765438415909246), (1443, 0.0276510650061202), (4626, 0.02763782658307699), (2759, 0.02762819491025883), (2897, 0.027540608247457278), (2650, 0.027533357773629197), (397, 0.027509476408699662), (3223, 0.027508005087073274), (1141, 0.027474527267553225), (2963, 0.027450175764921543), (4272, 0.02744916536822288), (4424, 0.027439981342489494), (3776, 0.027435664956180127), (2522, 0.027399981328937457), (3378, 0.02738339959713543), (4141, 0.027355127256338797), (2811, 0.02734386290758152), (1595, 0.027331083148483797), (2911, 0.02731132860689873), (2139, 0.02731070139720046), (1749, 0.02729262498885632), (2524, 0.027263827691568588), (1687, 0.02725845155710556), (1467, 0.027238706519377664), (1853, 0.0272126645517813), (2563, 0.027199923598961513), (1302, 0.027182447556636402), (369, 0.027164835724361788), (2501, 0.027139861467813844), (3000, 0.027133088550249214), (3731, 0.027095705181653863), (551, 0.027090424647634212), (1185, 0.027085691767937507), (2884, 0.02707471052925736), (1993, 0.02707134595896074), (3407, 0.027068500076585456), (2511, 0.027037848848932827), (3102, 0.027009091494868027), (3689, 0.026980955777569524), (2948, 0.02696659521042553), (2726, 0.026934892037972818), (1361, 0.0269191422874693), (2440, 0.026913075467995994), (39, 0.026910818244532314), (2932, 0.026895135057289576), (725, 0.0268893282323536), (232, 0.026883987337095693), (3862, 0.026850392595542803), (3290, 0.02684428871952905), (928, 0.026828716634988353), (1129, 0.02681093069922421), (1339, 0.02678516924704428), (1432, 0.02677984058209261), (135, 0.026777762223456757), (1024, 0.02677678417366122), (4583, 0.026775130465017824), (305, 0.026774801928732765), (191, 0.02674075436834219), (1651, 0.026737802451826033), (1202, 0.02672071512308154), (1355, 0.026712393162375225), (2028, 0.02669367666173591), (570, 0.02666789737236587), (1949, 0.026653081739925), (3507, 0.026651156479081214), (2629, 0.02662396740720302), (2780, 0.02661966460109701), (2944, 0.026610557239356434), (918, 0.02660556362661549), (1296, 0.02659096647404747), (3330, 0.026576509242874816), (2681, 0.026550986994277635), (3826, 0.026550385333654513), (4194, 0.02653664368443043), (1442, 0.026533168930840158), (2883, 0.026526511093587737), (4440, 0.02648211098989723), (1614, 0.02644501241060972), (1308, 0.026438638694231992), (3584, 0.02642341627599159), (2104, 0.02640020525651586), (1910, 0.02639447470237403), (3206, 0.026375014720779657), (1430, 0.0263643346813365), (270, 0.02635476280238468), (4482, 0.026283804078513287), (930, 0.026238130721057563), (1740, 0.026225822065353413), (69, 0.02620005496079661), (2788, 0.026173396536907867), (4046, 0.026158718421194813), (3518, 0.026120245478125415), (4068, 0.026118500863239066), (2218, 0.026074338081097246), (948, 0.026073377806294838), (4195, 0.02606916959746088), (2154, 0.026055724145223967), (208, 0.026038436047163844), (2202, 0.02601761517464293), (1985, 0.025978243001112157), (1335, 0.025965021974795152), (3580, 0.025963713326434934), (3210, 0.02593241364891112), (4503, 0.025928304852724966), (4324, 0.025887796013083476), (2581, 0.025876621339381574), (1552, 0.025846361533057888), (2432, 0.025833216025866725), (731, 0.025813839866739848), (4701, 0.025794563268973603), (560, 0.025786784322236522), (4663, 0.025785724857078463), (215, 0.025780835943649976), (438, 0.025753138131343146), (1385, 0.025741366637504474), (2329, 0.025739625077358073), (535, 0.025738214177422815), (3828, 0.025726239861235622), (4122, 0.025717332106854812), (4726, 0.02571157345250593), (986, 0.025689408628831456), (3416, 0.025684973638075526), (1455, 0.025677793131196554), (3550, 0.025653391226876824), (1110, 0.02563990258331704), (898, 0.025633659336833488), (317, 0.025618203421699598), (1207, 0.025604026591558086), (2392, 0.02559422998519198), (2363, 0.025590305037203793), (1678, 0.025562149496835305), (3782, 0.02555927330272928), (1514, 0.02555873710387342), (3341, 0.025556789055255616), (2622, 0.025526417295162016), (3374, 0.02551419194114452), (2991, 0.025490601898630158), (1978, 0.025481651482096253), (4432, 0.025469821241123215), (2820, 0.025452163317197154), (356, 0.025436791471169316), (260, 0.02542033066779476), (3360, 0.025395625093810298), (534, 0.025391869269031336), (3179, 0.025383358043549995), (1375, 0.025345834623212698), (2939, 0.02533518170665354), (4441, 0.025332161400590057), (3889, 0.025325791960659035), (5, 0.025274619987682004), (3332, 0.025268462401719642), (2077, 0.025254141892656165), (4459, 0.02524581426072924), (348, 0.02522841097847704), (3184, 0.025191084514026296), (953, 0.025155851727686956), (3591, 0.025150644333288535), (1901, 0.025135834503986213), (1406, 0.025126422705017824), (2067, 0.02511957197125121), (862, 0.025118929892614175), (46, 0.02510430928171741), (3833, 0.02510422497560302), (1409, 0.02509145134459429), (4724, 0.025075463212179284), (1839, 0.025060331529895515), (963, 0.025052226095733057), (1565, 0.02500787752524706), (2178, 0.02500662531685538), (1017, 0.024988671584163333), (3005, 0.024985005226970062), (1035, 0.024975689017676606), (149, 0.024939643057209006), (825, 0.024934332950034648), (1058, 0.02493279850383948), (4673, 0.024900399945384434), (3084, 0.024875387914923077), (1063, 0.02484008336240913), (3520, 0.02482837539536293), (297, 0.02481300147651725), (1433, 0.024809695558761186), (3660, 0.02479211379510106), (3654, 0.024784935232310935), (4653, 0.024731383509410027), (306, 0.024693105323489915), (1519, 0.02466008097535967), (1064, 0.024644784151401887), (2024, 0.024618847513547107), (2749, 0.024602804785640687), (2029, 0.024602272195027607), (1233, 0.024574206645330207), (2480, 0.024507555999597582), (4731, 0.024504121033607374), (298, 0.02450010578167981), (901, 0.02449862033265355), (2727, 0.024466451253802573), (4376, 0.024464041591099536), (3839, 0.024443273136492645), (15, 0.02444322256539024), (144, 0.024431681882828495), (1034, 0.02440625959257202), (769, 0.02439641021991352), (2224, 0.024395491034391138), (827, 0.024389444980148223), (852, 0.02437873207707703), (2347, 0.02436113890206784), (3794, 0.024350520853227794), (3315, 0.02434576169504874), (671, 0.024334486712108836), (2398, 0.024328651118566906), (230, 0.024316474966343867), (848, 0.024302716222801238), (1012, 0.024296374445812577), (3027, 0.024283399978512903), (878, 0.024282513204422478), (1156, 0.024280967071593426), (1054, 0.02427615690822353), (3766, 0.024258239793870977), (4125, 0.02425407515662239), (3675, 0.024248304089134358), (4498, 0.024239767797237757), (4610, 0.024198793835452467), (1582, 0.024192705177092346), (4477, 0.024192383141510447), (1540, 0.02418999302288808), (3389, 0.024180424291237963), (4637, 0.024137588313692428), (697, 0.0241170900321142), (815, 0.024108924999045264), (4154, 0.02409693911223192), (4577, 0.024094888545650044), (3535, 0.02408737482746734), (1665, 0.02407159302480661), (4735, 0.02407109904873638), (1279, 0.02405250527440222), (327, 0.0240418655471306), (1688, 0.024031098779413982), (326, 0.024005888111693432), (2443, 0.023988622276161727), (417, 0.023880360506553615), (1251, 0.02387956845947981), (831, 0.02387452104126709), (532, 0.023872967825667262), (3812, 0.023871865728906715), (1183, 0.023863106077128986), (519, 0.02384835873485853), (2429, 0.023831588312147912), (854, 0.023829676383771654), (3750, 0.0237781844162677), (2335, 0.023774809083043545), (2753, 0.02377344303972626), (937, 0.02376584835813402), (229, 0.0237598880512667), (7, 0.023758687504927684), (619, 0.02375096732580015), (1831, 0.02374650758907359), (3885, 0.023729609745648556), (1485, 0.023720410670651157), (3700, 0.023717348271168646), (352, 0.023708166254365136), (3019, 0.023680404473501573), (1919, 0.023677260740919297), (38, 0.023664784763524075), (669, 0.023655205084185348), (2492, 0.02360063235088194), (860, 0.023568807516288415), (200, 0.023563415976134455), (3492, 0.02353758398192832), (1743, 0.023535637823085834), (467, 0.02352168142889204), (1259, 0.023498099115287115), (1275, 0.02347144877852342), (1196, 0.023412751519465782), (788, 0.023399789383920077), (1696, 0.023398612022648035), (4047, 0.023375736173413625), (760, 0.023335711955469584), (148, 0.02333002745123276), (3565, 0.02332319649647867), (3373, 0.02330682005078337), (4362, 0.023237327835482942), (139, 0.023233441597523108), (40, 0.02322878927697612), (934, 0.02322688302867663), (2486, 0.023224955261411082), (1184, 0.023206531009925358), (3883, 0.02318729350122641), (2805, 0.02317355175470638), (2964, 0.02315209635285754), (334, 0.023133590635989958), (2408, 0.023123809231942793), (1000, 0.023123723239738353), (2774, 0.023120444666481065), (2638, 0.023112416273968654), (3429, 0.023072666975254633), (3745, 0.023058910274900493), (1842, 0.02305809808749534), (3236, 0.023043284161079158), (3043, 0.02302774948108343), (2338, 0.023025624021186276), (740, 0.02301759950023377), (1395, 0.022995660776534962), (2062, 0.022979442727425373), (1148, 0.022967239281301916), (1748, 0.022950163771355555), (3842, 0.02293622536981136), (89, 0.022935763897286496), (4406, 0.0229168968748128), (3066, 0.022914816604385067), (656, 0.022902103871606266), (2059, 0.02288660244990426), (2269, 0.02288565525078723), (3110, 0.022883334359472794), (3668, 0.022881390669519087), (4234, 0.0228799703230501), (1421, 0.022878502715295474), (3192, 0.022876322105314397), (3412, 0.0228741851309131), (404, 0.022870205096790174), (333, 0.022867686033266735), (3099, 0.022867548856194776), (4153, 0.022860216144455634), (1399, 0.022859695912747943), (4619, 0.02284739648577424), (929, 0.022837434043574086), (3012, 0.022806230916758423), (4512, 0.02279256753892054), (1365, 0.022787922738419446), (3286, 0.022770863508340924), (1492, 0.022752343918422), (162, 0.022743916093921457), (3897, 0.022724884904650196), (701, 0.02270707751759772), (386, 0.022699269187928726), (3970, 0.02269790750337105), (2167, 0.02264573950176103), (2299, 0.022639220923915505), (3193, 0.022636902698834654), (1965, 0.022630421155182417), (2520, 0.022612632583803756), (3361, 0.02258786503315556), (3336, 0.022579195221523404), (888, 0.022544852505732644), (2259, 0.022523262113145776), (4267, 0.022508646009275043), (531, 0.02248871393341632), (3232, 0.022477910071162534), (3652, 0.02247655231803238), (4339, 0.022474595710870793), (2082, 0.02246474167380903), (1912, 0.02245494897670035), (2112, 0.0224516713143454), (3133, 0.022428342045297277), (2305, 0.022419359961893075), (688, 0.022407938257553293), (1348, 0.0223938167279268), (2996, 0.022386062138985155), (659, 0.02237134724082598), (4733, 0.022362259503438675), (1861, 0.022359038256830728), (2513, 0.022349678257531865), (3169, 0.02234784710920135), (4656, 0.022329533757468427), (2342, 0.02232799466105522), (2412, 0.022323254388618506), (450, 0.022320821621045345), (3684, 0.022311815632531467), (1111, 0.02227644740815728), (3855, 0.022266675378198184), (2484, 0.0222505210122366), (4727, 0.02224539912461139), (2229, 0.02223018638964594), (896, 0.02222193192750015), (1454, 0.02221778196324167), (106, 0.022195388113350957), (4591, 0.02219254388353845), (675, 0.02218346733776433), (2316, 0.022180319631534662), (1742, 0.022176322421707858), (678, 0.022175973148255146), (1705, 0.022174404137374558), (2037, 0.022168425898990873), (4669, 0.022154945183534322), (1512, 0.022151865653753017), (3802, 0.02214923131554769), (1342, 0.02212931156781638), (1003, 0.022122009197329713), (3587, 0.022081311603171293), (4524, 0.02206987900175949), (1325, 0.022048099434507192), (3086, 0.02197458108109635), (3464, 0.021946375139865804), (4233, 0.02193260030475536), (2252, 0.02191717129978845), (1435, 0.021912945752134417), (94, 0.021912635304605674), (1752, 0.02191025260324902), (3739, 0.02190407222980074), (2852, 0.0218904211581951), (2611, 0.021864203558655256), (80, 0.021863622391640775), (3768, 0.021858346250576394), (4033, 0.021845889528069685), (2254, 0.02182869941710858), (1009, 0.02182655548304258), (3877, 0.021824969829391944), (4007, 0.021812765350282377), (736, 0.021811152403266226), (3543, 0.02180249848574967), (1269, 0.02176421106490346), (621, 0.021752076854172415), (3491, 0.021750937540803525), (1477, 0.021736850963986008), (143, 0.02172266138662279), (1119, 0.02171825886756003), (2298, 0.021717918928286308), (3572, 0.02170236860710031), (4231, 0.02169927317878591), (2096, 0.021681717786927488), (1736, 0.02167793099387392), (259, 0.021674545729231963), (121, 0.02165967929091109), (1758, 0.021659238168258776), (622, 0.02161489305958656), (672, 0.02160354729574194), (4510, 0.021590791646982778), (1513, 0.021571150178851747), (715, 0.021545279765630074), (3483, 0.02153764920893437), (1536, 0.021533377011395335), (1727, 0.021530225418553456), (4390, 0.021518362576746393), (22, 0.02151248957796381), (3831, 0.021495660163227282), (3111, 0.021495390562270546), (3777, 0.021492479133752424), (4123, 0.021478320881569264), (4486, 0.02146373088303282), (3695, 0.02144084989452152), (1092, 0.021428563455879013), (4061, 0.021411398506625906), (1104, 0.0214106964217487), (3334, 0.021402401422758042), (51, 0.0214019627860122), (667, 0.02138645768506449), (1847, 0.021379894565516665), (3747, 0.021364487808418882), (1735, 0.02135503602704724), (786, 0.021345414019513443), (192, 0.021327005108586386), (1927, 0.021321234808888187), (4224, 0.021319397180219652), (429, 0.021318755243898528), (3108, 0.021300051920719522), (869, 0.021231373630128485), (2481, 0.021223389177712708), (2979, 0.021212346338888487), (1096, 0.021207791808732293), (1047, 0.0211938170108474), (2860, 0.021183452558253036), (4093, 0.021182292428645874), (1246, 0.021176308842647026), (908, 0.02115466389546567), (618, 0.021151298759251286), (202, 0.021144159460617477), (2444, 0.02112251273163421), (1137, 0.021107933275279194), (4132, 0.021099590920403498), (3949, 0.021087241796471166), (371, 0.021082205581246585), (1542, 0.021060880376963444), (3593, 0.02105355803385124), (584, 0.021048109852669472), (2697, 0.021046947139781516), (2661, 0.0210430270688494), (1369, 0.021042079792761334), (2163, 0.02102810838480784), (1440, 0.021027263776155453), (1731, 0.021015846211885587), (2919, 0.021014147866007728), (4495, 0.020996167241463526), (3344, 0.020993786268795722), (1646, 0.02098821974867607), (4617, 0.02098078127367303), (2074, 0.020950986526545465), (189, 0.020946892406507815), (3485, 0.0209415930524368), (12, 0.020932838747142985), (413, 0.020931749733998424), (3933, 0.020906001091059383), (2235, 0.020902504319826383), (4581, 0.020900464223787243), (4133, 0.020890597988266778), (2541, 0.020878733919876623), (3987, 0.020877742660279464), (1945, 0.02086477843755752), (435, 0.020846738179154688), (2047, 0.02082495928772314), (652, 0.02080654006853568), (4435, 0.02080637614475854), (763, 0.020777480852241115), (1832, 0.020775297165527083), (1958, 0.02076330759770794), (4575, 0.020740504904068917), (2367, 0.0207391697541294), (1377, 0.02073869036338869), (2592, 0.020735979103940625), (1895, 0.0207324307334424), (4468, 0.02072088135916088), (1013, 0.02071237756659612), (940, 0.02070026222846566), (1942, 0.020695639620220252), (4, 0.02068262102924978), (4614, 0.02067264565535934), (2295, 0.02066521471874954), (3519, 0.020621704598580277), (780, 0.0206134526042639), (1089, 0.020593005052535956), (3180, 0.020575645080396318), (45, 0.02056250305744379), (2020, 0.020555295538192835), (1007, 0.02055458731780758), (3670, 0.020515705513722175), (3655, 0.02050936021416022), (3968, 0.020503373612789328), (1785, 0.02050123336645156), (1579, 0.020490725646243622), (1603, 0.020489609461686428), (1803, 0.02045554481384738), (3014, 0.020453195920788984), (2284, 0.02045155470876725), (4690, 0.02044348812027098), (55, 0.020401172821116285), (2695, 0.020366894325232338), (1338, 0.020366860186444326), (2319, 0.020363639796541107), (4628, 0.02035262134969575), (1563, 0.02034949607106013), (708, 0.02034428554402775), (2862, 0.020315859291735773), (370, 0.02030885092368679), (4623, 0.020268347770957814), (1452, 0.020250673026496142), (2336, 0.02022762533298195), (3289, 0.020208122347912524), (988, 0.02020464590017459), (1400, 0.020195552709932625), (217, 0.020183380515918534), (4000, 0.02017692984186645), (2174, 0.020163113375866692), (3553, 0.020160582416541464), (1860, 0.020159203744544656), (639, 0.020149129354305375), (3496, 0.020105507259458505), (3846, 0.020098298667911713), (3076, 0.02007624225185024), (3835, 0.02004513292311669), (3980, 0.020031178982135932), (530, 0.020024020637383958), (2961, 0.02002281663583099), (989, 0.020007691483748955), (198, 0.020006828733283785), (1533, 0.020002173451490884), (375, 0.01999087729828853), (1076, 0.019960909411765492), (1814, 0.0199489169333353), (3109, 0.019948464913486667), (4127, 0.01994597456988875), (2216, 0.019936057192769377), (1108, 0.019921734034458318), (27, 0.019901719970944202), (37, 0.019900296197132746), (3814, 0.01989617362726261), (870, 0.019890589511788716), (3130, 0.019887162027208385), (1544, 0.01987811498891409), (4410, 0.01984799216875513), (637, 0.019839832102819466), (3326, 0.019838185396913312), (799, 0.019830154302507508), (84, 0.019805626936124886), (1801, 0.019791468562125065), (1734, 0.01976187342170779), (1967, 0.01976147430732335), (3422, 0.01975654648212917), (3563, 0.019746487932416512), (4282, 0.01972977629245624), (790, 0.019715927553170916), (2808, 0.019710829507947766), (1481, 0.01968807541143453), (87, 0.0196369086317363), (1142, 0.01962257314616257), (1431, 0.019618360243980924), (4678, 0.01958156031524865), (4320, 0.019552435101359067), (264, 0.019551510802281992), (238, 0.01954067655573688), (1374, 0.01953875147631169), (3212, 0.01953659126323377), (138, 0.01953166412066969), (1295, 0.019525281204613443), (18, 0.01950550731822594), (1049, 0.01948473679512852), (3504, 0.019483833364274256), (597, 0.01947593410677793), (2184, 0.019452007358777355), (538, 0.019439935515336997), (3940, 0.01942996469253443), (2935, 0.019360648193580122), (674, 0.019354324133586148), (1026, 0.01934932903121692), (3350, 0.01933850346342609), (2534, 0.01932986119492656), (1588, 0.01932408088496851), (360, 0.019301795960342694), (1630, 0.019301310656787835), (4124, 0.019247870253707236), (4398, 0.01922937433780802), (1097, 0.019224055007228187), (1459, 0.019218537493832018), (3819, 0.01920649187542097), (293, 0.019187600593951713), (276, 0.01918005620960199), (4469, 0.0191667882410926), (959, 0.019152728538299933), (3069, 0.01914254597615754), (2909, 0.01911770389944635), (1284, 0.019081805159340028), (773, 0.019075316185394032), (1471, 0.019064812979214633), (4743, 0.01905058225151456), (2551, 0.0190315763376747), (1987, 0.019008150425388823), (2465, 0.019004418344515477), (3630, 0.018995576738429054), (339, 0.018969309122204653), (2652, 0.018935974365505866), (974, 0.018935953545191564), (1706, 0.01890119337055493), (1764, 0.018895947548935987), (3999, 0.018888818460990046), (3775, 0.018877172270340983), (3118, 0.018876996526647614), (2119, 0.018870366736196548), (463, 0.01885219226944858), (916, 0.0188486547152782), (3854, 0.01881102872505973), (782, 0.018809929015018673), (3509, 0.018797328907311655), (3267, 0.018789538849100115), (2424, 0.01876941417786492), (2055, 0.018767824539321597), (4165, 0.01875886863096458), (1567, 0.01875796970551391), (610, 0.0187517408354346), (811, 0.018750029140315552), (1667, 0.018747154636761847), (695, 0.018736108457763988), (1532, 0.018717390252893762), (1472, 0.018709343664143653), (604, 0.018708171525124585), (1218, 0.01870012097607088), (4022, 0.018690505466714427), (2110, 0.01866386454777496), (1692, 0.018660673131138), (1021, 0.018657237389002077), (1647, 0.018639564028127716), (4235, 0.018638260442770428), (2000, 0.018609067375546698), (4164, 0.018577114069737083), (1988, 0.018575779250331128), (124, 0.018574361057816957), (347, 0.018556947880878562), (2271, 0.01855106156537448), (2518, 0.018550281074107004), (199, 0.018547965988835142), (1274, 0.01854223530018695), (812, 0.01853460247168749), (1418, 0.018523103217153496), (247, 0.018519880472033866), (1360, 0.018513473959402487), (2303, 0.018487522955707974), (4159, 0.0184801391860239), (1264, 0.018478606996460895), (3243, 0.018468333028119188), (3773, 0.018446164412612327), (1100, 0.01842060744710664), (1496, 0.018420070965921197), (655, 0.01841376217090045), (4193, 0.018395643596652564), (3301, 0.018366319420199055), (3609, 0.018358827074463367), (1811, 0.01834559870578253), (4665, 0.018342851223022386), (1353, 0.01833431606425302), (4475, 0.018292334306264826), (1739, 0.018290316248653432), (4366, 0.01829028747742383), (1052, 0.01825502707181906), (1408, 0.018242281828892835), (2108, 0.018238417199618367), (2607, 0.018233279565255372), (3801, 0.018224840919827623), (4144, 0.01821705208240774), (651, 0.018208518737624073), (2528, 0.01820366157177481), (1966, 0.018200325178108816), (524, 0.018089320296814808), (2871, 0.018087254310883), (2930, 0.01806679643559745), (1341, 0.018063365106426723), (3896, 0.018061291983586285), (1694, 0.01806073097124353), (47, 0.018055544510740346), (1053, 0.018043239039471203), (3024, 0.018033099822011622), (2971, 0.018017872037968258), (35, 0.01801590334672301), (1221, 0.0180124963246402), (3458, 0.018012379763697177), (2844, 0.018004311756893588), (4359, 0.018002468452505624), (1451, 0.017996166223448355), (1117, 0.01799364111272926), (2025, 0.017982606208927325), (338, 0.01788408129805286), (2245, 0.017863068149171886), (1002, 0.017846433526680954), (1827, 0.01783114705061652), (1327, 0.017811414091230104), (966, 0.0178072791253397), (2323, 0.0177945077881397), (505, 0.017793707223987897), (337, 0.017791344441310294), (437, 0.017772765282273457), (3886, 0.017761370711164938), (1609, 0.017758374051667646), (2859, 0.01775794612255502), (2995, 0.017751934016185467), (1080, 0.017751302978911324), (1018, 0.017738592936316872), (3757, 0.017725558139463863), (4447, 0.01771372955626225), (3954, 0.01767755625438935), (4245, 0.017654868781743993), (699, 0.017627984258069794), (4371, 0.01762105261382792), (274, 0.017613822762468055), (147, 0.01759895320408352), (4574, 0.0175942364708175), (154, 0.017581650061597225), (1507, 0.017567027890927196), (1971, 0.01755171218316839), (1868, 0.017542034000199675), (1211, 0.017524378276287778), (3380, 0.01750412502930059), (568, 0.017492194288754214), (1394, 0.0174702329106075), (687, 0.017458424069195955), (705, 0.017456866309891576), (2447, 0.01744663467240697), (4356, 0.01741962266933753), (4187, 0.01740612509563071), (2180, 0.017405362537194054), (3658, 0.01740073643728294), (2070, 0.017399280262734598), (1914, 0.017381397931677527), (2755, 0.017375545263344366), (1214, 0.01736369797934366), (3992, 0.017340385421907405), (586, 0.01733477700327536), (281, 0.017317699364092113), (899, 0.017266145174104162), (324, 0.017263684285072318), (4342, 0.017260119417427992), (1300, 0.017200489971670632), (3394, 0.01719655697188023), (443, 0.017188443546956853), (4707, 0.017181728409367127), (3674, 0.017171037579167475), (2225, 0.01715593015613147), (3333, 0.01715134077974315), (3803, 0.017150513833163607), (2090, 0.01714972625742104), (2304, 0.017139959367525243), (3459, 0.017137418213975467), (3224, 0.01710787687001059), (1371, 0.017040489255594354), (1923, 0.017036912676456645), (3117, 0.01703621495211497), (3578, 0.017030569253081416), (2724, 0.017024510825975125), (1197, 0.017004449997236187), (385, 0.01698187288966084), (2290, 0.0169817705122898), (4551, 0.016977065330035852), (3713, 0.01695992214067387), (1754, 0.016898788995532397), (1872, 0.01683132436979826), (2464, 0.016824274428171575), (4048, 0.016793676048257926), (1741, 0.016775917500263055), (3200, 0.016754247002445467), (1806, 0.016747544146924365), (1674, 0.01673415323584931), (4081, 0.01673338059152869), (342, 0.016711175358871157), (1539, 0.016701851557772804), (1906, 0.01669772942049749), (2798, 0.0166863225126659), (4416, 0.016664652299581674), (131, 0.01664804971428313), (951, 0.016646183442160425), (3068, 0.016643900600781476), (3756, 0.016639200817197865), (1830, 0.016596504594172213), (1874, 0.01657850426561003), (1112, 0.016574735209719495), (4118, 0.01654268657040191), (2957, 0.016507153194116976), (4337, 0.0165005744164765), (1414, 0.016499218063000275), (1131, 0.016486971931043048), (1367, 0.016466810100746996), (1170, 0.016450595632194046), (3495, 0.01644541808934123), (3797, 0.016444814037367778), (3662, 0.01642390572768791), (1303, 0.016400743577984628), (1944, 0.016377260846293117), (4349, 0.01636355514763169), (439, 0.01633542832221455), (2925, 0.016332352088741703), (792, 0.01631795890165806), (1167, 0.016280831250024073), (206, 0.016272784327803994), (562, 0.01626058487661008), (1324, 0.016242209933451112), (1867, 0.016228245294897612), (3619, 0.016226115741707382), (1880, 0.01622489190461915), (2849, 0.016217692061183415), (787, 0.016209622190336066), (483, 0.016196865553109615), (1829, 0.01617596436243294), (1497, 0.016157412336203752), (3984, 0.016133039099969153), (1245, 0.016130978889852023), (474, 0.016118871236233293), (3852, 0.016114560637944093), (364, 0.016114032010159724), (3938, 0.016112776785107898), (2051, 0.01608509049561664), (173, 0.016077482720961555), (2226, 0.016067732158328775), (4504, 0.016061329622922876), (555, 0.016059230140880208), (2477, 0.016055884651433122), (3018, 0.01602034207748843), (557, 0.016012703806636105), (3382, 0.016007119370650663), (2546, 0.015969554650274956), (177, 0.01596750089340322), (2461, 0.01593235017712891), (1140, 0.0159117509851386), (1575, 0.015911605635612915), (216, 0.015903901838928168), (3348, 0.015902354113928284), (3310, 0.015884484666575417), (4158, 0.015879771473740128), (2949, 0.01587835684364833), (2644, 0.015834482359761617), (806, 0.01583087962509842), (2519, 0.015823505065335534), (517, 0.015823462519456905), (3036, 0.015821559883354888), (2126, 0.01582031034203309), (1878, 0.015800745356878674), (2321, 0.0157607625727823), (203, 0.015745898187904478), (3185, 0.015733011534084525), (4605, 0.01572579713901383), (1759, 0.01572366498698786), (818, 0.01572111989987568), (926, 0.0157193173195403), (2141, 0.01570608900315623), (42, 0.01569110483675519), (3691, 0.015635937248373016), (3425, 0.01563412877357126), (2489, 0.015633321523945844), (964, 0.015614686591254109), (3362, 0.015614241734867747), (3645, 0.015608209371916013), (2631, 0.01560479352998473), (2662, 0.015603608169209042), (3225, 0.015603336969658394), (544, 0.015567252876875845), (1936, 0.015562156178967355), (3891, 0.01556110261561349), (3866, 0.015553130798571749), (2149, 0.015548724374618416), (700, 0.015532684202780473), (1256, 0.015514954931966729), (1461, 0.015512000290182812), (3245, 0.01549941460187523), (387, 0.015497438578232003), (1922, 0.015485705692770035), (209, 0.015479318082969366), (4598, 0.015469796987344074), (34, 0.015463618013587803), (2160, 0.015462432642927132), (3251, 0.01545473486071263), (2934, 0.015452120131802546), (3759, 0.015448041774627564), (3155, 0.015445291964886313), (2994, 0.015439808850139942), (1693, 0.015428374013744597), (1152, 0.015428133444370317), (4275, 0.015408292270121048), (1388, 0.01540715071430544), (4184, 0.015402954712031574), (1793, 0.01540126988297924), (172, 0.015388996646207428), (1780, 0.015373353435932054), (4261, 0.015363385775134051), (648, 0.01535676316186785), (2982, 0.015355392076787643), (606, 0.015345542437864668), (2988, 0.015327145481251386), (3313, 0.015292125386207294), (410, 0.015287495499632693), (4268, 0.015278399185785066), (1456, 0.015252116356276968), (3570, 0.015244377883350478), (2512, 0.015230277193109258), (105, 0.015214040674171217), (81, 0.0151991729501148), (894, 0.01519624863556355), (2263, 0.015194638679310573), (218, 0.01519271414450529), (465, 0.015192705017174946), (1986, 0.015171213453021111), (282, 0.015112650582426524), (3508, 0.015096770575739273), (1330, 0.015058874539100363), (4051, 0.015053309662958796), (2203, 0.015036080990375938), (1128, 0.01503148420213948), (2782, 0.015019792294978244), (3950, 0.01499886623929295), (3003, 0.014988867577177009), (4655, 0.014985319752285295), (4064, 0.01496817325253075), (4517, 0.014950623531760888), (2279, 0.014946819926326802), (4020, 0.01493790648387649), (503, 0.014922567253436629), (1725, 0.014916749601150171), (1503, 0.014898483119970416), (309, 0.014897800883179093), (2063, 0.01489722741597847), (3208, 0.014882393336942657), (2402, 0.014881304884320273), (1873, 0.014875441832192002), (2377, 0.01486868875969924), (2951, 0.014864858601235348), (4192, 0.014854955308699347), (1093, 0.01485178793672987), (2080, 0.014821538891362927), (214, 0.014817419205281958), (1592, 0.014767461357096268), (2366, 0.014758034755821284), (85, 0.01475760247485771), (3730, 0.014749834527771651), (363, 0.0147439968741328), (396, 0.014741558975655765), (1219, 0.014741337396706172), (1677, 0.014736086897118352), (3861, 0.014735433799829736), (3435, 0.014716293553359735), (588, 0.014711339283718929), (1155, 0.014683478014134737), (1124, 0.014677651804072388), (2752, 0.014672299027740447), (774, 0.014669147234647196), (2882, 0.01466219945548368), (2886, 0.014635555063727627), (996, 0.014631184340184546), (545, 0.014618761988362162), (1382, 0.014613053537968546), (2867, 0.014607256284573015), (1551, 0.014605717344070093), (1545, 0.014601246409899075), (2069, 0.014600920557582674), (3171, 0.014592396054418613), (927, 0.0145768071936765), (2048, 0.014571582467052252), (3895, 0.014567655646911822), (1738, 0.014563003562193247), (1160, 0.014560535107597706), (1946, 0.014548009624312104), (814, 0.014543068268054323), (3965, 0.014541973558955455), (2118, 0.01452350067130984), (3293, 0.014519574141267162), (820, 0.014515138170038043), (434, 0.014512748067517936), (2460, 0.014502649781290119), (828, 0.01449122662977533), (4067, 0.014479429371943957), (939, 0.014469225371363562), (2582, 0.014443085505203568), (1333, 0.014388686593492213), (1030, 0.014385056065813842), (3457, 0.014384740740417925), (1347, 0.014353974545731705), (283, 0.01434494591435891), (1493, 0.014327090995277977), (612, 0.014325744922865863), (1722, 0.01429647899033765), (4627, 0.014279298976830527), (2192, 0.014257272268510587), (111, 0.014250338538932055), (3376, 0.01421044975465848), (745, 0.014183366443328651), (4378, 0.014175689627085099), (2633, 0.014165318705336513), (4587, 0.014163421070600512), (3033, 0.014149382654488117), (558, 0.014145616120620392), (3238, 0.014141210027169006), (3629, 0.014112140246506446), (1638, 0.014102496309939302), (1428, 0.014087056886916343), (4411, 0.014077435477339112), (724, 0.014059780915052889), (4666, 0.014037437781331982), (3528, 0.014026300643650506), (3635, 0.014018538370313522), (4502, 0.014010775934328507), (4292, 0.01400147686392419), (1177, 0.013998853983725381), (2589, 0.013994700330366157), (174, 0.013983972855724284), (374, 0.013968068359922977), (1278, 0.013962648067442908), (3648, 0.013960812129806415), (4334, 0.013945600851579538), (1849, 0.013937289172190129), (2222, 0.013936872328327006), (3644, 0.013909634867825031), (561, 0.01390751922849702), (900, 0.013894559328159814), (285, 0.013893407906678682), (1807, 0.013886683791125667), (810, 0.013884235614801725), (3722, 0.013872908700092734), (3430, 0.013851666125901304), (3927, 0.013851344113393149), (1816, 0.01382826185165678), (4615, 0.01379107154660544), (110, 0.013790037207487987), (768, 0.013764737496712724), (1939, 0.01376042317366788), (240, 0.013755124427945124), (1166, 0.013753933383575013), (1448, 0.013731423495895848), (1495, 0.013727391821367748), (3060, 0.013715430489363674), (2095, 0.013672834970791714), (2586, 0.013670986519057628), (2056, 0.013642615882667821), (4728, 0.013639646270652315), (630, 0.013633372811960363), (2264, 0.013628531553417454), (2109, 0.013601196407419218), (4444, 0.013582398638409904), (772, 0.013581767556316125), (2793, 0.01353273659674262), (2583, 0.013529823697069903), (665, 0.013522997477573325), (1776, 0.013509969069222121), (3474, 0.013503462685488197), (785, 0.013500873992356603), (1784, 0.013494243779547896), (4738, 0.013486755350726996), (3733, 0.013483595810451143), (1213, 0.013475557246434157), (1345, 0.013462967513633245), (2068, 0.013452848006162688), (3715, 0.01337959656173517), (3477, 0.013379491910376809), (400, 0.013368994473877786), (2972, 0.013344741975790315), (2812, 0.013342237917874119), (4232, 0.013336296220634083), (1783, 0.013320910102348555), (1028, 0.013316754243959455), (510, 0.013302012067461587), (973, 0.013293381819587662), (3173, 0.01328798485052029), (3647, 0.013275257535374492), (3557, 0.013231475071390133), (1086, 0.013223179657386525), (4646, 0.013220066530591261), (944, 0.013190172274032345), (1457, 0.013184445077033846), (2842, 0.013164641648965327), (3829, 0.013160152029660014), (1771, 0.013154702808894345), (2322, 0.013143423931985363), (454, 0.013139366177444505), (349, 0.013086385886312541), (1050, 0.013068828465330576), (3910, 0.013046772450596518), (609, 0.01303782783706937), (409, 0.01303418844225859), (2612, 0.01303126589458059), (1157, 0.012989874754258317), (179, 0.01296937721632873), (2920, 0.01295349488130695), (2076, 0.012938041795786852), (1038, 0.012929925438473813), (1948, 0.01292330471024253), (168, 0.01291448086233987), (4279, 0.012902964250397575), (2654, 0.012902419176773938), (1526, 0.012893892770518882), (566, 0.01286995870448155), (2865, 0.012869312981335361), (1200, 0.0128681960818265), (2050, 0.012865813364901465), (1981, 0.012810892784000891), (1078, 0.012775183384710136), (2801, 0.012747910754021858), (3588, 0.012739410871117643), (3864, 0.012733121702634395), (4443, 0.01270186050642055), (4254, 0.012669183383895985), (2188, 0.012654135651182973), (2227, 0.012652453304150518), (1903, 0.012621908811666652), (2459, 0.01262037549104382), (3744, 0.012618844857123834), (3626, 0.012606859389849966), (1899, 0.012578670236377907), (1820, 0.012547766483603147), (2778, 0.01253754187134723), (3806, 0.012536874683248614), (3718, 0.01251164764567058), (4698, 0.012509810315091411), (1199, 0.01248888354461566), (3294, 0.012444914675948724), (1317, 0.012429154948379621), (1941, 0.012410054153818073), (359, 0.012382492213311636), (3244, 0.012360232227736481), (1672, 0.012351924033272363), (512, 0.012323750647858907), (957, 0.012320599042912604), (2954, 0.012320143651599922), (4035, 0.012318523703290545), (3983, 0.012310398388272484), (4490, 0.012296462490326787), (4405, 0.012262749901305695), (757, 0.012253646794633184), (2236, 0.012243835346657066), (4642, 0.01223635670776674), (1968, 0.012176642014569354), (4285, 0.012167846585558912), (2291, 0.012129154831202513), (3231, 0.012082753339414273), (3440, 0.01204712724992292), (2427, 0.012043944974382128), (3865, 0.012033084983676442), (2156, 0.01201471986997452), (2012, 0.011924204314796127), (1381, 0.011898663730261282), (125, 0.011870181500676483), (3471, 0.011815824137638105), (3914, 0.011810932862913109), (537, 0.01180253419943671), (2476, 0.011789962884131859), (1713, 0.011773924844018086), (424, 0.01177294712554771), (2181, 0.011769215471111382), (425, 0.011762732784518734), (2881, 0.011743199759690298), (224, 0.011736888640233055), (2576, 0.011730089567618965), (3056, 0.011728346258314851), (1465, 0.011698053114107586), (3168, 0.011675479337269193), (3308, 0.011672254949354399), (666, 0.011667684928540738), (843, 0.011642613677470768), (2021, 0.011619359646954285), (3524, 0.011599994569676456), (1976, 0.011582885615669402), (2, 0.011577522759963427), (2840, 0.011564362950995744), (729, 0.011562245710321294), (1833, 0.011553788573513203), (1332, 0.011552474060838064), (1037, 0.011516533522342304), (2854, 0.011515415694772794), (2124, 0.011504021019624906), (3916, 0.01149728447733817), (2428, 0.011442724842648938), (2924, 0.011434221204985242), (1554, 0.011415941993249704), (595, 0.011403383701757606), (4091, 0.011392892848256234), (3604, 0.011388488062961319), (2626, 0.011379660526212084), (1143, 0.011358043962641867), (1799, 0.01135622740716254), (3787, 0.011351504484971405), (4369, 0.01134290316312047), (1957, 0.011335564519589558), (102, 0.011327917527223737), (635, 0.011320293918410483), (3263, 0.011295775374968104), (350, 0.011287970162862353), (186, 0.011283625067074636), (513, 0.01127136750433462), (2359, 0.01126190126690852), (303, 0.011251453694736844), (739, 0.011250338151942428), (514, 0.011244389087362871), (2136, 0.0112374375920055), (3771, 0.01123057497577648), (3611, 0.011202363336642877), (4150, 0.011191704862629399), (728, 0.011183300529262726), (3468, 0.011174807384448033), (6, 0.01115592933006665), (3112, 0.011149552813780984), (4312, 0.011139958588746217), (4703, 0.011113035054017565), (1537, 0.01110102802132753), (3548, 0.011095843996056409), (3131, 0.011093119293026348), (992, 0.011092631321439375), (1732, 0.011081949677123311), (3850, 0.011080839926376583), (4005, 0.011079248122418717), (1812, 0.011076247649120755), (1040, 0.01105754183641829), (1659, 0.011051807752185432), (1280, 0.011041045232792947), (1594, 0.011038688966655915), (3997, 0.011038420317807754), (3710, 0.01102310133828838), (1099, 0.01099468538112224), (2208, 0.010989538607475846), (4384, 0.01098218440709391), (2585, 0.010975521076228656), (2714, 0.010973542439614195), (1904, 0.010965341848385334), (1502, 0.010949468143496052), (1225, 0.01093836286447064), (891, 0.010922049347926049), (1695, 0.010921133431542924), (4392, 0.010918198899439457), (2959, 0.010915356790840837), (3101, 0.010892548580724717), (2413, 0.01087616243397498), (716, 0.010872978853386821), (320, 0.010870050823116878), (3513, 0.010863535397772524), (2088, 0.010863332927197884), (1453, 0.010856374894044379), (4430, 0.010855924357728393), (982, 0.010845622976157978), (1881, 0.010845001198370386), (2015, 0.010826912954401477), (1229, 0.01082484735003543), (4519, 0.010824824786696951), (3134, 0.010821925922512802), (4629, 0.010816508951820087), (2410, 0.010815933141005485), (4586, 0.0107967953198622), (4226, 0.010778559365977517), (3234, 0.010776753295886437), (793, 0.010768243946130202), (3124, 0.01076499101632052), (2968, 0.01076162692140199), (3907, 0.010757450238546563), (3915, 0.010708869388314514), (2022, 0.010700792694362325), (4249, 0.010698313660037876), (3623, 0.010696165584547866), (3191, 0.01067455209538183), (95, 0.010665843537234994), (809, 0.010644816549553487), (902, 0.010636222256903295), (3510, 0.010628911429591678), (4098, 0.010628355956186383), (2947, 0.010627367406054276), (1174, 0.010599904667054943), (791, 0.010591557943458242), (3486, 0.010586714260773324), (1266, 0.010578312110923487), (2960, 0.010575317534403359), (4283, 0.010569251453706935), (3175, 0.010564904891424514), (1587, 0.01055442901342761), (2045, 0.010537470325156093), (919, 0.010536983329936005), (1413, 0.010522958683867597), (2091, 0.010512995979267949), (3679, 0.010511190235515938), (4255, 0.010510958837076149), (3908, 0.0105051094861373), (74, 0.010485710902017848), (2821, 0.010466695888890931), (3227, 0.0104546054121939), (2516, 0.010446531862025878), (1876, 0.0104282436384864), (3406, 0.010405041677489929), (2506, 0.010402346327319994), (315, 0.010400568576691808), (3367, 0.010384987911800392), (4310, 0.01037918334717296), (1179, 0.010367240936172823), (849, 0.010361839550891616), (1262, 0.010341041438156593), (1402, 0.01033855335274969), (3919, 0.01030651904014435), (3432, 0.010292724890515699), (4708, 0.01028948193134667), (1775, 0.010287677741921072), (1613, 0.010255197239356079), (82, 0.010239115992972843), (2847, 0.010237151394633225), (233, 0.010233523636106814), (3161, 0.010228876180743463), (3443, 0.01022709458628624), (4264, 0.010217773570535764), (1257, 0.010217386602027173), (3847, 0.010211325610290584), (322, 0.010210171101665997), (1127, 0.010205333891497088), (3602, 0.0101951138132601), (727, 0.010187029613668696), (1082, 0.010183332389956433), (4211, 0.010178162389548277), (377, 0.010158437904457527), (90, 0.010139226389994763), (871, 0.010130233934308628), (4329, 0.010123397784862175), (2894, 0.010117594060406082), (1653, 0.01011121660353884), (4039, 0.010107496721286132), (1846, 0.010100687466569676), (321, 0.010063918288912217), (969, 0.010063201559296284), (1709, 0.010063162265453696), (1085, 0.010051099481627732), (3555, 0.010049284581185623), (2746, 0.01002460423371046), (3720, 0.010006033349349422), (3650, 0.009990036094193862), (3386, 0.00998986568083492), (3156, 0.009986600441746356), (310, 0.009962036291113056), (3335, 0.009961595186879026), (689, 0.009948029834412467), (2680, 0.009938974149869852), (182, 0.009937904907701446), (93, 0.009931011850067947), (3126, 0.009929746873109076), (3605, 0.009912200728038065), (4683, 0.00989249040139773), (284, 0.009888397335117746), (2540, 0.009882152812018548), (1001, 0.00988214783956904), (2711, 0.009865987552590359), (644, 0.009849801179494777), (4427, 0.009848221209933233), (1133, 0.009838085699598867), (1720, 0.009819892255256446), (2853, 0.009809889007347366), (3742, 0.00980509884255135), (3723, 0.00978531141425941), (3734, 0.009779468995309296), (1059, 0.009759460453454789), (1788, 0.009750121999321633), (4542, 0.009747661942316164), (1913, 0.009729571748896108), (1329, 0.009729283809964946), (661, 0.009726757057789436), (1550, 0.009721911523469783), (3135, 0.009711456483640604), (468, 0.009702632536297849), (426, 0.009698228935255869), (4328, 0.009686307089391305), (3100, 0.009685449781387473), (1888, 0.009685084209314049), (2992, 0.009667835655463728), (2297, 0.009663993967334661), (4029, 0.009662030938492125), (690, 0.009647085288503368), (1900, 0.00963043683106516), (746, 0.00962786351740297), (868, 0.009626914873731567), (316, 0.009609643029804153), (4327, 0.009608447835039457), (1261, 0.009545755821940075), (2003, 0.009525016776700236), (3010, 0.009507312188730462), (3872, 0.00950064008210302), (3141, 0.009498748806171716), (3352, 0.009481249288729954), (2100, 0.00948053035785309), (1065, 0.009476925403227133), (1561, 0.009476636367503836), (427, 0.009456856498327912), (2803, 0.009435924045557362), (3868, 0.00943366380374973), (3985, 0.009425093279556871), (4155, 0.009418998959462304), (4044, 0.009407927034049732), (1067, 0.009403418148897886), (67, 0.009402238248767864), (2409, 0.00939020367973009), (3247, 0.009377653316733403), (1915, 0.009376275825771276), (1809, 0.009370675850155873), (3533, 0.00936591580709904), (1134, 0.009346252389576088), (981, 0.009334682961012319), (804, 0.009325817574581514), (997, 0.009325238866664774), (330, 0.009323033106516753), (800, 0.009319707425412771), (3077, 0.00931075878376944), (388, 0.009307358466634962), (4590, 0.009284553468251818), (323, 0.009274838395281678), (803, 0.00926723470900292), (886, 0.009243143113661688), (1154, 0.00924191355997088), (3071, 0.009234742482505035), (4664, 0.009232432861989633), (4059, 0.009220075839033238), (4661, 0.009190951248403585), (3147, 0.009178470521202376), (213, 0.009176256805977062), (2827, 0.009171459619821269), (2129, 0.009135676604482959), (248, 0.009120939319735927), (805, 0.009117139136989767), (335, 0.009114740761333305), (858, 0.00911036038196555), (2497, 0.009105769076927547), (4063, 0.009098831460689207), (1782, 0.009017413960847796), (3329, 0.009013420192361352), (958, 0.009011567948851953), (1772, 0.008997564840680651), (762, 0.008987352794591013), (3325, 0.008935851901090384), (3339, 0.008923099366294214), (1546, 0.008919942526759088), (1795, 0.008914842269582194), (4712, 0.008881625032972055), (4074, 0.008872665870807492), (779, 0.008863234981571176), (2256, 0.008858599055152242), (4304, 0.00884878920463519), (3167, 0.008829509172581653), (3405, 0.008812717562357311), (3065, 0.008807104563831374), (288, 0.008805488062814814), (2213, 0.008792129539929703), (723, 0.008777573944973367), (2197, 0.008769643034089735), (1392, 0.008765885694844143), (78, 0.008715757096605908), (33, 0.008713095060047055), (314, 0.008691779300637983), (3830, 0.008686153213161392), (640, 0.008680185676799939), (605, 0.008675364044131509), (3215, 0.008671476972176571), (3, 0.008667381854764324), (647, 0.008650548550814504), (442, 0.008597428087171758), (924, 0.008587900324603817), (738, 0.008541705275613203), (1863, 0.008514902054015209), (1530, 0.008491361817174962), (290, 0.00846101285015815), (76, 0.008460281483665956), (445, 0.008440235605539132), (1164, 0.00843103006621459), (2352, 0.008426014101686079), (2152, 0.008384065754717842), (1340, 0.00837293398160014), (3115, 0.008355449858380305), (289, 0.008321899746910923), (2627, 0.008297131305377743), (195, 0.008287049051271355), (2013, 0.008261201841511096), (726, 0.008243891080955672), (3276, 0.008102052253873669), (3703, 0.008011152801642066), (266, 0.00797799647751616), (271, 0.007946341873013683), (2657, 0.007861877810062897), (807, 0.007827996615071383), (296, 0.0077711034727105666), (332, 0.007763721466224571), (2659, 0.007731205437310406), (2937, 0.007707123241129581), (4705, 0.007673750649079179), (1747, 0.007672756047942412), (2474, 0.007564212363687827), (1210, 0.0075396773142098), (4202, 0.00750492341842634), (2989, 0.007478771641517523), (2667, 0.007313610506748197), (2922, 0.00730292152462289), (4221, 0.0071759852948944285), (484, 0.007155025606843429), (2547, 0.0070678042739208205), (2559, 0.007055589372725274), (4134, 0.006863724966405432), (4142, 0.006862025872170997), (3421, 0.006820987433226329), (3472, 0.006799740566233192), (4606, 0.006794902341989563), (4691, 0.0067745138365821545), (4199, 0.006658411878072071), (3721, 0.006634840545363777), (2544, 0.006632375881442501), (2655, 0.006628035571050309), (4723, 0.006562339821359325), (4725, 0.006551957242838726), (3392, 0.006551005065513471), (3975, 0.006519081844402659), (4631, 0.006517754791099859), (2415, 0.006512760079941642), (4537, 0.006510436596038756), (3554, 0.006497161902494694), (1258, 0.006492923146569157), (4546, 0.006464890295297722), (2255, 0.006452706954800108), (4219, 0.0064296226821820655), (4464, 0.006359330298197498), (2772, 0.006357892651660749), (4710, 0.006321945220515298), (2378, 0.006316421999076036), (153, 0.006308197349963504), (2707, 0.006299295096803939), (2720, 0.006290521751067735), (4589, 0.006282122818388028), (491, 0.0062746364148318955), (3844, 0.006267410256716044), (4238, 0.00626311712801218), (4208, 0.006258197407836779), (1547, 0.006251168866838612), (3172, 0.006249619426870989), (4612, 0.006226328659233917), (4597, 0.006218691243173143), (1014, 0.006218285432558619), (4276, 0.0062168006106714715), (1398, 0.006213199503967766), (3049, 0.006209968012460291), (3419, 0.006193956420499629), (3532, 0.0061795789427395754), (1321, 0.006177120161035642), (4660, 0.0061673932274916325), (3165, 0.006164676787258256), (3521, 0.006161545475843972), (2676, 0.006154545813673285), (3972, 0.006147466896507665), (2328, 0.00613861165916484), (4741, 0.006116104498130245), (3253, 0.006103517260467839), (3942, 0.006100931350553401), (2864, 0.00610091903898814), (3123, 0.0061005370001676815), (2879, 0.006090985180938447), (1437, 0.0060818028132381486), (3383, 0.006077374626860877), (681, 0.006076516277488804), (4518, 0.006071464169297356), (3228, 0.006069623796892808), (2470, 0.006061874649313514), (1011, 0.006061463845170205), (4393, 0.006054703804386056), (3502, 0.006053685682127026), (4514, 0.00604960068258008), (1560, 0.006048216345999677), (3901, 0.006031746749125791), (3560, 0.0060305822537105765), (4185, 0.006018776738198393), (2810, 0.006015289535631736), (1429, 0.006012619122516666), (3469, 0.006010628616420898), (2164, 0.006007516012021552), (3221, 0.006003025988163947), (2356, 0.005999967217563479), (2479, 0.005993437377330726), (4453, 0.005992731289054914), (2381, 0.005984102985383711), (4742, 0.00595858414144095), (4549, 0.005954054802437619), (3062, 0.0059504418590291125), (1240, 0.005948366884547251), (1460, 0.005941810846611405), (2493, 0.005923594360692153), (3697, 0.0059129069554256135), (1486, 0.005910863669259929), (2273, 0.005903188580284913), (990, 0.005896004565008173), (591, 0.005894260096752064), (2233, 0.00589002448468869), (3869, 0.005883608727047021), (3424, 0.005880475561069774), (956, 0.005880459488488586), (2089, 0.005876921278385834), (1091, 0.005875916017081421), (3628, 0.005869251521227257), (4130, 0.005866350948269284), (4412, 0.005858777044995984), (3044, 0.005850524724551835), (2898, 0.005848937510404339), (3181, 0.005848658285976894), (1940, 0.005845484618612319), (3064, 0.005840193571254646), (4491, 0.005839993166191643), (1056, 0.005839614636335414), (3202, 0.005835567940028087), (1265, 0.005833378105321517), (4676, 0.005825809972658054), (1894, 0.005816133054834502), (2888, 0.005813974508485607), (4493, 0.005812651988909697), (4163, 0.005798592693072966), (4659, 0.00579187598274367), (1770, 0.00577120456208731), (1708, 0.005764674040458664), (4331, 0.0057611307144547035), (1057, 0.005759074216180234), (2243, 0.005757019987772695), (4162, 0.005756608724345651), (4527, 0.005750788948697357), (3059, 0.005749901830835382), (872, 0.005745930835131066), (380, 0.005745684575638378), (2670, 0.005744957293932565), (4131, 0.005743622745668265), (3834, 0.005742741060186527), (2940, 0.005736713208437538), (2729, 0.005726084494098028), (826, 0.005724106203548909), (1924, 0.0057138652291281915), (855, 0.005710738501943073), (603, 0.0057087066716549695), (2499, 0.005706596292643351), (1031, 0.005706561875562367), (3661, 0.005704127683664216), (17, 0.005701413541450095), (913, 0.0056931926033427106), (2361, 0.0056930248080379236), (3724, 0.0056910264733390096), (3132, 0.00569043982586074), (4746, 0.005672726324719701), (107, 0.005672460158516564), (3960, 0.005670086385384153), (4389, 0.005666720160757561), (1822, 0.005665764453300783), (1328, 0.005659948563771085), (4092, 0.005659944931958819), (600, 0.005647619888969738), (599, 0.0056465495225950825), (1383, 0.005645775543100178), (1570, 0.005644570169697953), (2754, 0.005627004349954037), (1489, 0.005619947809622035), (2217, 0.005618842015264354), (2700, 0.00561861254110105), (2083, 0.005616888174355933), (2640, 0.005615792171430588), (4307, 0.00561524619659219), (3470, 0.005613865151603452), (3870, 0.005611126301529086), (3196, 0.005608377303594268), (4100, 0.005606589813073353), (3158, 0.005605649796353644), (3385, 0.005605509270838334), (2683, 0.005602169469700036), (3241, 0.005599410682999102), (3032, 0.005598247011798926), (250, 0.005596577584009017), (436, 0.005595760425501829), (4419, 0.005595345943055743), (516, 0.005594604380322178), (1158, 0.005587829184310456), (1841, 0.005582330326368388), (2241, 0.0055812426755843785), (1391, 0.0055798240001460955), (4043, 0.005574689650197508), (1962, 0.005571713085609116), (3798, 0.005567281323232249), (4593, 0.005561451727271279), (1498, 0.005560358519811933), (615, 0.005559827057887175), (2238, 0.005558368919132073), (2733, 0.005555772499253063), (1470, 0.005555499247157774), (3743, 0.005553489656921874), (151, 0.005544344835203722), (1960, 0.005537559000325281), (1244, 0.005536200425235405), (59, 0.005529818107083253), (1516, 0.005527508898251654), (4456, 0.005527407729282297), (2231, 0.0055269266165464265), (631, 0.005518528307911986), (3840, 0.005502114614394495), (2314, 0.005501932421334947), (4294, 0.005497094179449432), (1564, 0.005496944782977475), (3445, 0.005496734193718951), (3522, 0.005493136371550444), (3690, 0.005485045918664753), (2955, 0.005480890851483655), (4601, 0.00547430597346101), (802, 0.00547251448855577), (3603, 0.005469666129957413), (528, 0.005465038908915364), (56, 0.005464600765430254), (1122, 0.005464325324340369), (1866, 0.005461194492074412), (1386, 0.00545664343501501), (592, 0.005451329976143394), (353, 0.005451101655841118), (54, 0.0054506734846478935), (4522, 0.0054504509536238465), (4013, 0.00544523442443198), (2277, 0.0054406964871517045), (2549, 0.005436062479832826), (3467, 0.005435840244755822), (945, 0.005434656059074899), (1599, 0.005434208075621356), (714, 0.005430720344070471), (4041, 0.005428661892368156), (3002, 0.005423997217193461), (3676, 0.005423876314852335), (1897, 0.00542278841122357), (1522, 0.005419883435043126), (2554, 0.005414505894497809), (1577, 0.005414086270374861), (4595, 0.005411863853284154), (952, 0.005406505462266695), (2599, 0.00540562866410294), (3704, 0.005404829234373579), (4609, 0.0054041274568173946), (258, 0.005403853503759258), (1346, 0.005397894786132129), (2084, 0.005397626458553202), (2153, 0.005396568521591652), (2826, 0.005395891600944207), (4579, 0.005390934964680387), (4090, 0.005389380055743955), (1661, 0.005385869666638637), (1952, 0.005385701767491275), (1724, 0.005385193428098515), (1151, 0.005381819486146008), (4001, 0.005376267657645471), (1172, 0.0053737550219235125), (2081, 0.005372909553907365), (991, 0.0053686856523115405), (4070, 0.005368220103820048), (3982, 0.005365886531271665), (3343, 0.005361803507385077), (3955, 0.005356140177228785), (965, 0.005355495206134017), (3174, 0.0053529031273798254), (4431, 0.005348744741541824), (2943, 0.005347942266277117), (946, 0.00534107786021266), (1071, 0.00533731376430813), (3270, 0.005332333337662557), (2283, 0.005329916894691774), (3963, 0.005327055750456323), (1102, 0.005326870830631747), (2630, 0.005326850453043468), (3441, 0.005323148955106842), (1604, 0.005321475856502612), (3340, 0.005320409557233771), (4241, 0.005308154258501157), (239, 0.005305021369680468), (3618, 0.005301467504140234), (1426, 0.0052988584751719045), (3937, 0.005297069673802409), (1263, 0.0052928140802049346), (1358, 0.005289714291843617), (765, 0.005285836537474353), (1531, 0.005284500407341569), (1859, 0.005273800298376958), (4695, 0.0052709518008525035), (1975, 0.005268010653603051), (119, 0.005265741332252575), (1449, 0.005265311491942369), (2713, 0.005257987707024809), (523, 0.00525752247539937), (1902, 0.005257039272588467), (4757, 0.0052522500381236206), (3454, 0.005250190924048512), (1188, 0.005249527942331286), (2616, 0.005247825638471055), (4624, 0.005244593863176752), (1192, 0.00524014661864179), (3368, 0.005240129608047254), (4112, 0.005238921419983486), (255, 0.00523734442995371), (2239, 0.005235468851901715), (567, 0.005233911719124532), (1350, 0.005228152635974015), (4621, 0.0052263540330988074), (580, 0.005226309921443769), (2103, 0.005226218368181426), (660, 0.005224410877144535), (482, 0.0052203639935622164), (3488, 0.0052141419994011645), (328, 0.005212732347629571), (4682, 0.005207997538933474), (292, 0.005207371609652332), (554, 0.005206415464475972), (1083, 0.00520379712658174), (4550, 0.005203208053371397), (4573, 0.0052030808485692475), (2150, 0.005197533822777986), (3666, 0.005193063821929557), (3349, 0.00518890586676512), (4552, 0.005184146247304897), (313, 0.005183250032492079), (1368, 0.005178517922331086), (2642, 0.005171097028486006), (3998, 0.005170822711816444), (980, 0.005169124674682852), (390, 0.005165815752031857), (3917, 0.005163007822822551), (1293, 0.005158838043607614), (3398, 0.005158212326396918), (4470, 0.005156439279863899), (3786, 0.005149815311029788), (2117, 0.005148320760127892), (3568, 0.00514736627677367), (3233, 0.00514528422901312), (743, 0.0051394437785419805), (1285, 0.005138528888492469), (685, 0.005137773871314064), (3446, 0.0051364489363650125), (4377, 0.005132740670872292), (509, 0.005129082441903632), (4251, 0.0051276753056015804), (4533, 0.005118706725944243), (498, 0.005116831049697895), (3571, 0.005114272158955213), (1761, 0.005111066058889059), (1273, 0.005108092079163557), (406, 0.005102807503753142), (2706, 0.005102610204477126), (2950, 0.005100504692846777), (3815, 0.005099122426065121), (3653, 0.00509830685440971), (3810, 0.0050963935955549745), (2421, 0.0050958799945041), (750, 0.005095350725357296), (171, 0.005094764380895624), (4345, 0.005091058194903475), (3303, 0.005089661006427595), (832, 0.00508538856857016), (4037, 0.00508448075506647), (3501, 0.00508393105398353), (3576, 0.00507968368180417), (263, 0.0050791501419876145), (1991, 0.00507370152727769), (2374, 0.005068780443494505), (3783, 0.005062178845156769), (1998, 0.005061794820226938), (2130, 0.005055694085770888), (2166, 0.005054766273923379), (636, 0.005051063151958602), (628, 0.005042570765092467), (30, 0.005039873989855463), (696, 0.005034235330431973), (548, 0.0050330916939516305), (4360, 0.0050281286162357774), (3125, 0.005026150761174972), (2205, 0.005023962684076729), (1191, 0.005021171630606399), (1223, 0.00502079148565346), (4383, 0.005018915131347964), (1898, 0.005018669846095432), (4568, 0.005016699058462354), (2634, 0.005015051449631357), (4715, 0.0050143496820439695), (1488, 0.00501402155494335), (2344, 0.005011842533617896), (492, 0.0050110596065546355), (2052, 0.005005466605394784), (761, 0.0050021894305275405), (1649, 0.005002060024170602), (2958, 0.005000244769464129), (2246, 0.004992048715160619), (241, 0.0049891599520763726), (1420, 0.004981088147850679), (1135, 0.004980628449682043), (389, 0.00497922482944272), (9, 0.00496686048000844), (1823, 0.004965894516342122), (3114, 0.004961766491127644), (3727, 0.004958889605256051), (2399, 0.004954374388256713), (1354, 0.004951220770626856), (2584, 0.004948909195980551), (1357, 0.004946157665194932), (1066, 0.004943237392939495), (379, 0.00494282786486231), (2674, 0.004940672208579785), (2274, 0.004938500143454244), (382, 0.00493660080654419), (4439, 0.00493295982065934), (1852, 0.004932079600449481), (3923, 0.004931640599354407), (880, 0.004929626995426392), (4649, 0.004929053544727085), (1573, 0.004927206884209379), (411, 0.004926410156665293), (1857, 0.004923729888574836), (569, 0.004917824172122677), (1622, 0.004916425788976281), (1982, 0.004916096877817575), (821, 0.004915509835610527), (3499, 0.0049133590234044225), (634, 0.004913229329151405), (4186, 0.004913138338903234), (4600, 0.0049117740497455495), (2125, 0.0049087998592224355), (4284, 0.004907350107029082), (1714, 0.004907135236245925), (1635, 0.004904986120196243), (36, 0.004904779937068586), (1773, 0.004900220597275876), (633, 0.004899733478954876), (2632, 0.004883884970667701), (3953, 0.004883424384430788), (2033, 0.004882083894312431), (130, 0.004872578840305253), (2008, 0.00486387858548289), (3583, 0.004856352426275681), (3311, 0.004855109273435434), (4647, 0.004853374178479906), (329, 0.004851791700375294), (1657, 0.004847447789635771), (1310, 0.004844199384098488), (1366, 0.004841479033587662), (4055, 0.004841027004366473), (2426, 0.004837704178232757), (1146, 0.0048359054279445415), (3696, 0.00482327860068242), (2716, 0.00481749503328539), (923, 0.00481650459403483), (1864, 0.004810487382046648), (3487, 0.004808726365564978), (2185, 0.004808242086876329), (3664, 0.004807455302278133), (1996, 0.004805658184288467), (3795, 0.004801139525623843), (954, 0.004796918932274468), (4438, 0.004794988779675231), (4670, 0.00479089959105926), (2389, 0.004787560819207456), (4523, 0.004784421514951553), (1633, 0.004778973034362035), (1977, 0.004778724163498331), (3824, 0.004773579951529409), (3122, 0.004771228903769757), (4608, 0.0047629048268782535), (2121, 0.004761454381445514), (3035, 0.004761337840580604), (1468, 0.004757449653829729), (1123, 0.004753327521289503), (1631, 0.004745145451585863), (4071, 0.0047322505723880835), (116, 0.004720385045473625), (1283, 0.004720020262660091), (2348, 0.004710953804879614), (2237, 0.004709661362283202), (1181, 0.004708799806499334), (3823, 0.0047024934337015645), (2433, 0.004700131709926661), (1723, 0.0046951437306201865), (1041, 0.004694731906099579), (4548, 0.00468837772268651), (2718, 0.004683830808038196), (4585, 0.004679935920740924), (2496, 0.004677227479011775), (3525, 0.004666142313826393), (3966, 0.004664536302007115), (4353, 0.004661054605401564), (4429, 0.0046601483699137206), (1819, 0.004659545520231977), (4114, 0.004658153268892793), (1555, 0.004655980890721659), (3426, 0.0046525478211032235), (1379, 0.004652073409605006), (4697, 0.00464903311468381), (3342, 0.00464425838908791), (165, 0.0046397651236348), (2294, 0.004636752849198455), (2822, 0.0046320611147917055), (1623, 0.004631348137919938), (1212, 0.004630253254783754), (744, 0.004625266299687801), (4402, 0.00462468191588151), (590, 0.004609651434963277), (3079, 0.004609354057254157), (2984, 0.0045917928522647014), (3876, 0.004591000407901927), (394, 0.004586848215375219), (1270, 0.004585139261881092), (496, 0.004582273118701329), (3284, 0.00458065418769867), (3693, 0.0045794163365621005), (4322, 0.004579367095486867), (601, 0.004578686315466497), (910, 0.0045783112848533005), (354, 0.004576972331675593), (863, 0.004571738183695985), (1568, 0.004564114989750899), (4689, 0.004563731078419794), (1352, 0.004559130662280112), (1990, 0.004556602870257014), (511, 0.004555007312813194), (1892, 0.004541542453354233), (1010, 0.004539554239208059), (608, 0.00453367104776119), (968, 0.0045305688664624665), (3705, 0.00452572878603664), (1220, 0.004514135012983176), (4290, 0.004514067411038788), (2031, 0.004513213967996991), (1535, 0.004513205201526911), (893, 0.004509932045415697), (563, 0.004509909568153437), (2296, 0.004508650852820778), (581, 0.004507104269407722), (2127, 0.004505758418532777), (3974, 0.004501595481576113), (936, 0.004500145825123975), (1817, 0.004488414204251246), (3841, 0.0044852177044838485), (4106, 0.004477731889858157), (932, 0.0044709257050802404), (559, 0.004455808050742009), (2969, 0.004451521118300281), (2034, 0.004421918165927514), (1608, 0.004414692841574371), (1241, 0.004412280870725577), (808, 0.004409186057846399), (2439, 0.00440657110480302), (222, 0.004402074781001444), (319, 0.004397738501222652), (3160, 0.004393229464139837), (602, 0.004382162382609372), (1326, 0.004381447962624492), (1925, 0.004366071327107136), (1590, 0.004360635246097068), (4488, 0.004336070107128514), (4426, 0.004315462892388523), (861, 0.0043068716885660795), (625, 0.004304037108947539), (1753, 0.004299085196375537), (477, 0.004281302700140459), (1215, 0.0042810552129771634), (4344, 0.004275311589455999), (63, 0.004271601268710008), (1886, 0.004265992398133485), (1120, 0.004264066712570029), (2010, 0.00423858084162809), (1356, 0.004233165267554483), (970, 0.004225664167633099), (617, 0.004222672798773989), (159, 0.004200665002843838), (2113, 0.004200039808317356), (2767, 0.004187367629028349), (2355, 0.004169683501178308), (3331, 0.00416915948039579), (3484, 0.004159342451475296), (2789, 0.004157283235105062), (3957, 0.004122436630594638), (452, 0.004042429957230134), (4373, 0.004040390094689507), (3944, 0.00403161905005388), (4445, 0.004029232677833524), (3989, 0.004029186569455041), (4674, 0.004017006321394657), (877, 0.003999673327608678), (2917, 0.003939426087379117), (2326, 0.003927284685657847), (571, 0.003856193149597228), (4752, 0.003844584449467734), (775, 0.003826280469772163), (243, 0.0035211709276302284), (3456, 0.00341583393237483), (8, 0.0), (14, 0.0), (20, 0.0), (23, 0.0), (24, 0.0), (28, 0.0), (53, 0.0), (57, 0.0), (58, 0.0), (60, 0.0), (62, 0.0), (64, 0.0), (65, 0.0), (66, 0.0), (71, 0.0), (73, 0.0), (79, 0.0), (97, 0.0), (98, 0.0), (103, 0.0), (104, 0.0), (113, 0.0), (114, 0.0), (117, 0.0), (132, 0.0), (133, 0.0), (134, 0.0), (136, 0.0), (140, 0.0), (146, 0.0), (155, 0.0), (156, 0.0), (157, 0.0), (158, 0.0), (161, 0.0), (163, 0.0), (164, 0.0), (167, 0.0), (169, 0.0), (175, 0.0), (176, 0.0), (178, 0.0), (183, 0.0), (184, 0.0), (185, 0.0), (188, 0.0), (196, 0.0), (197, 0.0), (205, 0.0), (211, 0.0), (219, 0.0), (221, 0.0), (225, 0.0), (242, 0.0), (245, 0.0), (246, 0.0), (249, 0.0), (252, 0.0), (257, 0.0), (262, 0.0), (265, 0.0), (267, 0.0), (268, 0.0), (272, 0.0), (275, 0.0), (277, 0.0), (278, 0.0), (299, 0.0), (300, 0.0), (301, 0.0), (302, 0.0), (308, 0.0), (312, 0.0), (318, 0.0), (325, 0.0), (331, 0.0), (336, 0.0), (340, 0.0), (343, 0.0), (344, 0.0), (346, 0.0), (351, 0.0), (355, 0.0), (357, 0.0), (358, 0.0), (361, 0.0), (362, 0.0), (365, 0.0), (366, 0.0), (372, 0.0), (373, 0.0), (376, 0.0), (378, 0.0), (381, 0.0), (383, 0.0), (391, 0.0), (392, 0.0), (393, 0.0), (398, 0.0), (399, 0.0), (401, 0.0), (402, 0.0), (403, 0.0), (405, 0.0), (407, 0.0), (414, 0.0), (416, 0.0), (419, 0.0), (421, 0.0), (423, 0.0), (428, 0.0), (430, 0.0), (431, 0.0), (432, 0.0), (441, 0.0), (446, 0.0), (449, 0.0), (453, 0.0), (455, 0.0), (456, 0.0), (457, 0.0), (459, 0.0), (462, 0.0), (464, 0.0), (466, 0.0), (472, 0.0), (473, 0.0), (475, 0.0), (476, 0.0), (478, 0.0), (480, 0.0), (486, 0.0), (487, 0.0), (488, 0.0), (489, 0.0), (490, 0.0), (499, 0.0), (504, 0.0), (506, 0.0), (507, 0.0), (508, 0.0), (518, 0.0), (520, 0.0), (521, 0.0), (522, 0.0), (525, 0.0), (527, 0.0), (529, 0.0), (536, 0.0), (546, 0.0), (549, 0.0), (552, 0.0), (556, 0.0), (564, 0.0), (573, 0.0), (574, 0.0), (576, 0.0), (577, 0.0), (578, 0.0), (579, 0.0), (582, 0.0), (583, 0.0), (585, 0.0), (587, 0.0), (589, 0.0), (593, 0.0), (594, 0.0), (598, 0.0), (607, 0.0), (611, 0.0), (616, 0.0), (620, 0.0), (623, 0.0), (624, 0.0), (627, 0.0), (641, 0.0), (645, 0.0), (646, 0.0), (650, 0.0), (657, 0.0), (658, 0.0), (662, 0.0), (663, 0.0), (679, 0.0), (680, 0.0), (686, 0.0), (691, 0.0), (693, 0.0), (704, 0.0), (706, 0.0), (707, 0.0), (709, 0.0), (710, 0.0), (711, 0.0), (712, 0.0), (713, 0.0), (717, 0.0), (718, 0.0), (720, 0.0), (721, 0.0), (722, 0.0), (730, 0.0), (734, 0.0), (735, 0.0), (737, 0.0), (747, 0.0), (748, 0.0), (752, 0.0), (754, 0.0), (755, 0.0), (758, 0.0), (759, 0.0), (764, 0.0), (766, 0.0), (767, 0.0), (770, 0.0), (771, 0.0), (776, 0.0), (777, 0.0), (778, 0.0), (781, 0.0), (783, 0.0), (784, 0.0), (789, 0.0), (794, 0.0), (796, 0.0), (797, 0.0), (798, 0.0), (813, 0.0), (817, 0.0), (819, 0.0), (822, 0.0), (823, 0.0), (836, 0.0), (837, 0.0), (838, 0.0), (839, 0.0), (840, 0.0), (841, 0.0), (844, 0.0), (846, 0.0), (847, 0.0), (857, 0.0), (859, 0.0), (865, 0.0), (882, 0.0), (883, 0.0), (884, 0.0), (887, 0.0), (890, 0.0), (895, 0.0), (897, 0.0), (903, 0.0), (907, 0.0), (912, 0.0), (914, 0.0), (917, 0.0), (920, 0.0), (921, 0.0), (925, 0.0), (933, 0.0), (935, 0.0), (941, 0.0), (943, 0.0), (949, 0.0), (950, 0.0), (960, 0.0), (961, 0.0), (962, 0.0), (972, 0.0), (977, 0.0), (983, 0.0), (985, 0.0), (987, 0.0), (993, 0.0), (995, 0.0), (998, 0.0), (999, 0.0), (1004, 0.0), (1006, 0.0), (1008, 0.0), (1016, 0.0), (1019, 0.0), (1020, 0.0), (1022, 0.0), (1025, 0.0), (1027, 0.0), (1029, 0.0), (1032, 0.0), (1033, 0.0), (1036, 0.0), (1042, 0.0), (1043, 0.0), (1051, 0.0), (1055, 0.0), (1062, 0.0), (1070, 0.0), (1072, 0.0), (1073, 0.0), (1075, 0.0), (1077, 0.0), (1079, 0.0), (1081, 0.0), (1087, 0.0), (1088, 0.0), (1095, 0.0), (1098, 0.0), (1105, 0.0), (1106, 0.0), (1114, 0.0), (1118, 0.0), (1126, 0.0), (1136, 0.0), (1139, 0.0), (1144, 0.0), (1145, 0.0), (1147, 0.0), (1159, 0.0), (1161, 0.0), (1163, 0.0), (1165, 0.0), (1168, 0.0), (1169, 0.0), (1171, 0.0), (1176, 0.0), (1182, 0.0), (1186, 0.0), (1187, 0.0), (1189, 0.0), (1190, 0.0), (1193, 0.0), (1195, 0.0), (1198, 0.0), (1203, 0.0), (1204, 0.0), (1206, 0.0), (1208, 0.0), (1209, 0.0), (1217, 0.0), (1228, 0.0), (1235, 0.0), (1238, 0.0), (1247, 0.0), (1250, 0.0), (1267, 0.0), (1268, 0.0), (1271, 0.0), (1277, 0.0), (1286, 0.0), (1287, 0.0), (1289, 0.0), (1291, 0.0), (1294, 0.0), (1297, 0.0), (1298, 0.0), (1299, 0.0), (1304, 0.0), (1306, 0.0), (1307, 0.0), (1311, 0.0), (1312, 0.0), (1313, 0.0), (1316, 0.0), (1318, 0.0), (1319, 0.0), (1322, 0.0), (1323, 0.0), (1336, 0.0), (1359, 0.0), (1363, 0.0), (1364, 0.0), (1370, 0.0), (1372, 0.0), (1373, 0.0), (1376, 0.0), (1378, 0.0), (1389, 0.0), (1390, 0.0), (1397, 0.0), (1403, 0.0), (1404, 0.0), (1405, 0.0), (1411, 0.0), (1415, 0.0), (1416, 0.0), (1422, 0.0), (1423, 0.0), (1427, 0.0), (1434, 0.0), (1439, 0.0), (1441, 0.0), (1444, 0.0), (1446, 0.0), (1450, 0.0), (1464, 0.0), (1473, 0.0), (1474, 0.0), (1475, 0.0), (1476, 0.0), (1482, 0.0), (1487, 0.0), (1490, 0.0), (1491, 0.0), (1494, 0.0), (1499, 0.0), (1500, 0.0), (1508, 0.0), (1517, 0.0), (1518, 0.0), (1520, 0.0), (1521, 0.0), (1524, 0.0), (1525, 0.0), (1528, 0.0), (1529, 0.0), (1534, 0.0), (1538, 0.0), (1543, 0.0), (1549, 0.0), (1556, 0.0), (1557, 0.0), (1558, 0.0), (1571, 0.0), (1574, 0.0), (1578, 0.0), (1580, 0.0), (1581, 0.0), (1583, 0.0), (1584, 0.0), (1586, 0.0), (1593, 0.0), (1596, 0.0), (1597, 0.0), (1598, 0.0), (1600, 0.0), (1601, 0.0), (1602, 0.0), (1605, 0.0), (1606, 0.0), (1607, 0.0), (1610, 0.0), (1612, 0.0), (1616, 0.0), (1618, 0.0), (1619, 0.0), (1624, 0.0), (1625, 0.0), (1628, 0.0), (1634, 0.0), (1636, 0.0), (1637, 0.0), (1639, 0.0), (1640, 0.0), (1641, 0.0), (1642, 0.0), (1644, 0.0), (1648, 0.0), (1650, 0.0), (1652, 0.0), (1655, 0.0), (1656, 0.0), (1658, 0.0), (1660, 0.0), (1663, 0.0), (1664, 0.0), (1668, 0.0), (1669, 0.0), (1670, 0.0), (1673, 0.0), (1679, 0.0), (1684, 0.0), (1685, 0.0), (1686, 0.0), (1689, 0.0), (1691, 0.0), (1697, 0.0), (1698, 0.0), (1702, 0.0), (1704, 0.0), (1710, 0.0), (1711, 0.0), (1712, 0.0), (1715, 0.0), (1718, 0.0), (1719, 0.0), (1726, 0.0), (1729, 0.0), (1730, 0.0), (1733, 0.0), (1737, 0.0), (1744, 0.0), (1755, 0.0), (1756, 0.0), (1757, 0.0), (1762, 0.0), (1763, 0.0), (1765, 0.0), (1766, 0.0), (1767, 0.0), (1768, 0.0), (1777, 0.0), (1778, 0.0), (1786, 0.0), (1787, 0.0), (1790, 0.0), (1792, 0.0), (1794, 0.0), (1800, 0.0), (1804, 0.0), (1805, 0.0), (1810, 0.0), (1824, 0.0), (1825, 0.0), (1826, 0.0), (1834, 0.0), (1835, 0.0), (1836, 0.0), (1837, 0.0), (1843, 0.0), (1844, 0.0), (1848, 0.0), (1851, 0.0), (1855, 0.0), (1856, 0.0), (1862, 0.0), (1869, 0.0), (1875, 0.0), (1877, 0.0), (1879, 0.0), (1882, 0.0), (1884, 0.0), (1885, 0.0), (1887, 0.0), (1889, 0.0), (1890, 0.0), (1891, 0.0), (1893, 0.0), (1896, 0.0), (1905, 0.0), (1907, 0.0), (1908, 0.0), (1909, 0.0), (1916, 0.0), (1917, 0.0), (1920, 0.0), (1921, 0.0), (1926, 0.0), (1929, 0.0), (1932, 0.0), (1938, 0.0), (1943, 0.0), (1947, 0.0), (1950, 0.0), (1951, 0.0), (1954, 0.0), (1955, 0.0), (1956, 0.0), (1959, 0.0), (1961, 0.0), (1963, 0.0), (1972, 0.0), (1979, 0.0), (1980, 0.0), (1984, 0.0), (1994, 0.0), (1995, 0.0), (1999, 0.0), (2001, 0.0), (2002, 0.0), (2004, 0.0), (2005, 0.0), (2006, 0.0), (2007, 0.0), (2011, 0.0), (2017, 0.0), (2018, 0.0), (2019, 0.0), (2027, 0.0), (2030, 0.0), (2032, 0.0), (2035, 0.0), (2038, 0.0), (2039, 0.0), (2041, 0.0), (2042, 0.0), (2046, 0.0), (2049, 0.0), (2054, 0.0), (2064, 0.0), (2071, 0.0), (2072, 0.0), (2073, 0.0), (2079, 0.0), (2086, 0.0), (2087, 0.0), (2098, 0.0), (2099, 0.0), (2101, 0.0), (2102, 0.0), (2105, 0.0), (2106, 0.0), (2107, 0.0), (2111, 0.0), (2115, 0.0), (2116, 0.0), (2120, 0.0), (2122, 0.0), (2128, 0.0), (2132, 0.0), (2134, 0.0), (2135, 0.0), (2137, 0.0), (2138, 0.0), (2140, 0.0), (2142, 0.0), (2143, 0.0), (2145, 0.0), (2146, 0.0), (2148, 0.0), (2151, 0.0), (2155, 0.0), (2157, 0.0), (2165, 0.0), (2169, 0.0), (2170, 0.0), (2171, 0.0), (2172, 0.0), (2173, 0.0), (2175, 0.0), (2176, 0.0), (2179, 0.0), (2183, 0.0), (2186, 0.0), (2187, 0.0), (2189, 0.0), (2190, 0.0), (2193, 0.0), (2194, 0.0), (2195, 0.0), (2199, 0.0), (2200, 0.0), (2201, 0.0), (2204, 0.0), (2207, 0.0), (2209, 0.0), (2211, 0.0), (2215, 0.0), (2219, 0.0), (2220, 0.0), (2221, 0.0), (2223, 0.0), (2230, 0.0), (2240, 0.0), (2242, 0.0), (2244, 0.0), (2247, 0.0), (2248, 0.0), (2249, 0.0), (2251, 0.0), (2253, 0.0), (2257, 0.0), (2260, 0.0), (2262, 0.0), (2265, 0.0), (2266, 0.0), (2267, 0.0), (2268, 0.0), (2270, 0.0), (2272, 0.0), (2281, 0.0), (2282, 0.0), (2285, 0.0), (2286, 0.0), (2287, 0.0), (2288, 0.0), (2289, 0.0), (2300, 0.0), (2301, 0.0), (2302, 0.0), (2306, 0.0), (2309, 0.0), (2310, 0.0), (2311, 0.0), (2312, 0.0), (2313, 0.0), (2317, 0.0), (2320, 0.0), (2324, 0.0), (2325, 0.0), (2327, 0.0), (2332, 0.0), (2333, 0.0), (2337, 0.0), (2339, 0.0), (2341, 0.0), (2343, 0.0), (2345, 0.0), (2349, 0.0), (2350, 0.0), (2351, 0.0), (2354, 0.0), (2357, 0.0), (2358, 0.0), (2360, 0.0), (2362, 0.0), (2364, 0.0), (2365, 0.0), (2369, 0.0), (2370, 0.0), (2371, 0.0), (2372, 0.0), (2373, 0.0), (2375, 0.0), (2376, 0.0), (2379, 0.0), (2380, 0.0), (2382, 0.0), (2384, 0.0), (2385, 0.0), (2386, 0.0), (2387, 0.0), (2388, 0.0), (2390, 0.0), (2391, 0.0), (2393, 0.0), (2394, 0.0), (2395, 0.0), (2396, 0.0), (2397, 0.0), (2400, 0.0), (2401, 0.0), (2403, 0.0), (2404, 0.0), (2405, 0.0), (2407, 0.0), (2411, 0.0), (2414, 0.0), (2416, 0.0), (2417, 0.0), (2418, 0.0), (2419, 0.0), (2420, 0.0), (2422, 0.0), (2423, 0.0), (2425, 0.0), (2430, 0.0), (2434, 0.0), (2435, 0.0), (2436, 0.0), (2437, 0.0), (2438, 0.0), (2448, 0.0), (2449, 0.0), (2450, 0.0), (2451, 0.0), (2452, 0.0), (2453, 0.0), (2454, 0.0), (2455, 0.0), (2456, 0.0), (2457, 0.0), (2458, 0.0), (2462, 0.0), (2463, 0.0), (2466, 0.0), (2467, 0.0), (2471, 0.0), (2473, 0.0), (2475, 0.0), (2478, 0.0), (2482, 0.0), (2483, 0.0), (2485, 0.0), (2488, 0.0), (2490, 0.0), (2491, 0.0), (2494, 0.0), (2495, 0.0), (2498, 0.0), (2500, 0.0), (2502, 0.0), (2503, 0.0), (2504, 0.0), (2505, 0.0), (2507, 0.0), (2508, 0.0), (2510, 0.0), (2514, 0.0), (2515, 0.0), (2517, 0.0), (2523, 0.0), (2525, 0.0), (2527, 0.0), (2531, 0.0), (2532, 0.0), (2533, 0.0), (2535, 0.0), (2536, 0.0), (2537, 0.0), (2538, 0.0), (2539, 0.0), (2542, 0.0), (2543, 0.0), (2550, 0.0), (2552, 0.0), (2556, 0.0), (2557, 0.0), (2561, 0.0), (2562, 0.0), (2564, 0.0), (2566, 0.0), (2568, 0.0), (2569, 0.0), (2570, 0.0), (2572, 0.0), (2575, 0.0), (2577, 0.0), (2579, 0.0), (2587, 0.0), (2588, 0.0), (2590, 0.0), (2593, 0.0), (2594, 0.0), (2595, 0.0), (2596, 0.0), (2597, 0.0), (2601, 0.0), (2603, 0.0), (2604, 0.0), (2605, 0.0), (2608, 0.0), (2609, 0.0), (2610, 0.0), (2613, 0.0), (2614, 0.0), (2615, 0.0), (2619, 0.0), (2623, 0.0), (2628, 0.0), (2636, 0.0), (2643, 0.0), (2648, 0.0), (2651, 0.0), (2653, 0.0), (2656, 0.0), (2658, 0.0), (2660, 0.0), (2663, 0.0), (2664, 0.0), (2665, 0.0), (2666, 0.0), (2671, 0.0), (2673, 0.0), (2675, 0.0), (2677, 0.0), (2678, 0.0), (2679, 0.0), (2684, 0.0), (2686, 0.0), (2687, 0.0), (2688, 0.0), (2690, 0.0), (2693, 0.0), (2694, 0.0), (2698, 0.0), (2699, 0.0), (2701, 0.0), (2702, 0.0), (2703, 0.0), (2704, 0.0), (2705, 0.0), (2708, 0.0), (2709, 0.0), (2712, 0.0), (2715, 0.0), (2717, 0.0), (2719, 0.0), (2721, 0.0), (2722, 0.0), (2723, 0.0), (2725, 0.0), (2728, 0.0), (2730, 0.0), (2731, 0.0), (2732, 0.0), (2734, 0.0), (2735, 0.0), (2737, 0.0), (2738, 0.0), (2740, 0.0), (2741, 0.0), (2743, 0.0), (2744, 0.0), (2747, 0.0), (2748, 0.0), (2750, 0.0), (2756, 0.0), (2757, 0.0), (2758, 0.0), (2760, 0.0), (2761, 0.0), (2763, 0.0), (2764, 0.0), (2765, 0.0), (2769, 0.0), (2773, 0.0), (2775, 0.0), (2776, 0.0), (2779, 0.0), (2781, 0.0), (2783, 0.0), (2786, 0.0), (2792, 0.0), (2796, 0.0), (2797, 0.0), (2799, 0.0), (2800, 0.0), (2802, 0.0), (2804, 0.0), (2806, 0.0), (2813, 0.0), (2816, 0.0), (2817, 0.0), (2818, 0.0), (2823, 0.0), (2824, 0.0), (2828, 0.0), (2829, 0.0), (2830, 0.0), (2831, 0.0), (2832, 0.0), (2834, 0.0), (2835, 0.0), (2836, 0.0), (2837, 0.0), (2838, 0.0), (2839, 0.0), (2841, 0.0), (2846, 0.0), (2848, 0.0), (2851, 0.0), (2855, 0.0), (2856, 0.0), (2857, 0.0), (2858, 0.0), (2861, 0.0), (2863, 0.0), (2866, 0.0), (2868, 0.0), (2869, 0.0), (2870, 0.0), (2872, 0.0), (2875, 0.0), (2877, 0.0), (2878, 0.0), (2885, 0.0), (2887, 0.0), (2890, 0.0), (2891, 0.0), (2892, 0.0), (2893, 0.0), (2896, 0.0), (2900, 0.0), (2901, 0.0), (2902, 0.0), (2905, 0.0), (2906, 0.0), (2907, 0.0), (2912, 0.0), (2914, 0.0), (2915, 0.0), (2916, 0.0), (2921, 0.0), (2923, 0.0), (2926, 0.0), (2927, 0.0), (2928, 0.0), (2933, 0.0), (2936, 0.0), (2938, 0.0), (2941, 0.0), (2942, 0.0), (2945, 0.0), (2946, 0.0), (2952, 0.0), (2956, 0.0), (2965, 0.0), (2966, 0.0), (2967, 0.0), (2970, 0.0), (2973, 0.0), (2974, 0.0), (2975, 0.0), (2976, 0.0), (2977, 0.0), (2980, 0.0), (2983, 0.0), (2985, 0.0), (2986, 0.0), (2987, 0.0), (2993, 0.0), (2997, 0.0), (2999, 0.0), (3001, 0.0), (3004, 0.0), (3006, 0.0), (3007, 0.0), (3009, 0.0), (3016, 0.0), (3017, 0.0), (3020, 0.0), (3021, 0.0), (3025, 0.0), (3026, 0.0), (3029, 0.0), (3030, 0.0), (3031, 0.0), (3034, 0.0), (3037, 0.0), (3038, 0.0), (3039, 0.0), (3040, 0.0), (3041, 0.0), (3042, 0.0), (3046, 0.0), (3047, 0.0), (3048, 0.0), (3050, 0.0), (3051, 0.0), (3052, 0.0), (3053, 0.0), (3054, 0.0), (3055, 0.0), (3057, 0.0), (3058, 0.0), (3061, 0.0), (3063, 0.0), (3067, 0.0), (3072, 0.0), (3073, 0.0), (3074, 0.0), (3075, 0.0), (3078, 0.0), (3080, 0.0), (3081, 0.0), (3082, 0.0), (3087, 0.0), (3088, 0.0), (3089, 0.0), (3090, 0.0), (3091, 0.0), (3093, 0.0), (3094, 0.0), (3098, 0.0), (3103, 0.0), (3104, 0.0), (3105, 0.0), (3106, 0.0), (3107, 0.0), (3113, 0.0), (3128, 0.0), (3137, 0.0), (3138, 0.0), (3139, 0.0), (3140, 0.0), (3144, 0.0), (3145, 0.0), (3146, 0.0), (3148, 0.0), (3152, 0.0), (3157, 0.0), (3159, 0.0), (3162, 0.0), (3164, 0.0), (3166, 0.0), (3170, 0.0), (3176, 0.0), (3177, 0.0), (3178, 0.0), (3182, 0.0), (3183, 0.0), (3186, 0.0), (3187, 0.0), (3189, 0.0), (3190, 0.0), (3194, 0.0), (3197, 0.0), (3198, 0.0), (3199, 0.0), (3201, 0.0), (3203, 0.0), (3204, 0.0), (3207, 0.0), (3209, 0.0), (3211, 0.0), (3214, 0.0), (3216, 0.0), (3217, 0.0), (3218, 0.0), (3219, 0.0), (3220, 0.0), (3226, 0.0), (3229, 0.0), (3230, 0.0), (3235, 0.0), (3237, 0.0), (3239, 0.0), (3240, 0.0), (3242, 0.0), (3246, 0.0), (3248, 0.0), (3250, 0.0), (3252, 0.0), (3254, 0.0), (3255, 0.0), (3256, 0.0), (3257, 0.0), (3258, 0.0), (3260, 0.0), (3261, 0.0), (3262, 0.0), (3264, 0.0), (3265, 0.0), (3266, 0.0), (3268, 0.0), (3269, 0.0), (3271, 0.0), (3272, 0.0), (3273, 0.0), (3274, 0.0), (3277, 0.0), (3278, 0.0), (3282, 0.0), (3283, 0.0), (3287, 0.0), (3288, 0.0), (3291, 0.0), (3292, 0.0), (3296, 0.0), (3298, 0.0), (3299, 0.0), (3300, 0.0), (3302, 0.0), (3304, 0.0), (3305, 0.0), (3307, 0.0), (3309, 0.0), (3314, 0.0), (3316, 0.0), (3319, 0.0), (3320, 0.0), (3321, 0.0), (3322, 0.0), (3324, 0.0), (3327, 0.0), (3337, 0.0), (3345, 0.0), (3346, 0.0), (3347, 0.0), (3351, 0.0), (3353, 0.0), (3354, 0.0), (3355, 0.0), (3356, 0.0), (3357, 0.0), (3359, 0.0), (3363, 0.0), (3364, 0.0), (3366, 0.0), (3369, 0.0), (3371, 0.0), (3372, 0.0), (3379, 0.0), (3381, 0.0), (3388, 0.0), (3390, 0.0), (3391, 0.0), (3395, 0.0), (3396, 0.0), (3397, 0.0), (3399, 0.0), (3400, 0.0), (3401, 0.0), (3409, 0.0), (3410, 0.0), (3411, 0.0), (3413, 0.0), (3414, 0.0), (3415, 0.0), (3417, 0.0), (3420, 0.0), (3423, 0.0), (3431, 0.0), (3434, 0.0), (3439, 0.0), (3442, 0.0), (3444, 0.0), (3447, 0.0), (3455, 0.0), (3461, 0.0), (3473, 0.0), (3475, 0.0), (3476, 0.0), (3478, 0.0), (3479, 0.0), (3480, 0.0), (3481, 0.0), (3482, 0.0), (3489, 0.0), (3490, 0.0), (3493, 0.0), (3494, 0.0), (3497, 0.0), (3500, 0.0), (3503, 0.0), (3505, 0.0), (3511, 0.0), (3512, 0.0), (3517, 0.0), (3523, 0.0), (3526, 0.0), (3527, 0.0), (3529, 0.0), (3530, 0.0), (3534, 0.0), (3536, 0.0), (3537, 0.0), (3538, 0.0), (3539, 0.0), (3540, 0.0), (3541, 0.0), (3542, 0.0), (3544, 0.0), (3545, 0.0), (3546, 0.0), (3547, 0.0), (3549, 0.0), (3551, 0.0), (3552, 0.0), (3558, 0.0), (3559, 0.0), (3561, 0.0), (3562, 0.0), (3564, 0.0), (3566, 0.0), (3569, 0.0), (3573, 0.0), (3574, 0.0), (3575, 0.0), (3577, 0.0), (3579, 0.0), (3581, 0.0), (3585, 0.0), (3590, 0.0), (3592, 0.0), (3594, 0.0), (3596, 0.0), (3598, 0.0), (3599, 0.0), (3607, 0.0), (3608, 0.0), (3613, 0.0), (3615, 0.0), (3617, 0.0), (3620, 0.0), (3621, 0.0), (3622, 0.0), (3625, 0.0), (3627, 0.0), (3631, 0.0), (3632, 0.0), (3633, 0.0), (3634, 0.0), (3636, 0.0), (3639, 0.0), (3641, 0.0), (3643, 0.0), (3646, 0.0), (3649, 0.0), (3651, 0.0), (3656, 0.0), (3663, 0.0), (3665, 0.0), (3667, 0.0), (3669, 0.0), (3671, 0.0), (3672, 0.0), (3673, 0.0), (3677, 0.0), (3678, 0.0), (3681, 0.0), (3682, 0.0), (3683, 0.0), (3685, 0.0), (3686, 0.0), (3687, 0.0), (3688, 0.0), (3698, 0.0), (3701, 0.0), (3702, 0.0), (3712, 0.0), (3714, 0.0), (3716, 0.0), (3717, 0.0), (3719, 0.0), (3725, 0.0), (3726, 0.0), (3728, 0.0), (3729, 0.0), (3732, 0.0), (3735, 0.0), (3736, 0.0), (3737, 0.0), (3740, 0.0), (3746, 0.0), (3749, 0.0), (3751, 0.0), (3753, 0.0), (3754, 0.0), (3755, 0.0), (3758, 0.0), (3760, 0.0), (3761, 0.0), (3762, 0.0), (3764, 0.0), (3765, 0.0), (3767, 0.0), (3770, 0.0), (3772, 0.0), (3778, 0.0), (3779, 0.0), (3784, 0.0), (3785, 0.0), (3789, 0.0), (3790, 0.0), (3791, 0.0), (3796, 0.0), (3799, 0.0), (3800, 0.0), (3804, 0.0), (3805, 0.0), (3808, 0.0), (3809, 0.0), (3811, 0.0), (3813, 0.0), (3816, 0.0), (3817, 0.0), (3818, 0.0), (3820, 0.0), (3822, 0.0), (3825, 0.0), (3827, 0.0), (3832, 0.0), (3836, 0.0), (3837, 0.0), (3838, 0.0), (3843, 0.0), (3845, 0.0), (3851, 0.0), (3859, 0.0), (3863, 0.0), (3867, 0.0), (3871, 0.0), (3873, 0.0), (3874, 0.0), (3878, 0.0), (3879, 0.0), (3880, 0.0), (3882, 0.0), (3884, 0.0), (3887, 0.0), (3890, 0.0), (3892, 0.0), (3893, 0.0), (3894, 0.0), (3898, 0.0), (3899, 0.0), (3900, 0.0), (3903, 0.0), (3904, 0.0), (3906, 0.0), (3909, 0.0), (3911, 0.0), (3912, 0.0), (3918, 0.0), (3920, 0.0), (3921, 0.0), (3922, 0.0), (3926, 0.0), (3928, 0.0), (3929, 0.0), (3931, 0.0), (3932, 0.0), (3934, 0.0), (3935, 0.0), (3936, 0.0), (3943, 0.0), (3945, 0.0), (3948, 0.0), (3951, 0.0), (3952, 0.0), (3962, 0.0), (3964, 0.0), (3967, 0.0), (3969, 0.0), (3971, 0.0), (3981, 0.0), (3986, 0.0), (3988, 0.0), (3990, 0.0), (3991, 0.0), (3994, 0.0), (3996, 0.0), (4002, 0.0), (4003, 0.0), (4008, 0.0), (4010, 0.0), (4011, 0.0), (4014, 0.0), (4016, 0.0), (4017, 0.0), (4019, 0.0), (4024, 0.0), (4025, 0.0), (4026, 0.0), (4027, 0.0), (4030, 0.0), (4031, 0.0), (4032, 0.0), (4034, 0.0), (4036, 0.0), (4040, 0.0), (4042, 0.0), (4049, 0.0), (4052, 0.0), (4054, 0.0), (4057, 0.0), (4058, 0.0), (4062, 0.0), (4065, 0.0), (4066, 0.0), (4069, 0.0), (4072, 0.0), (4073, 0.0), (4075, 0.0), (4078, 0.0), (4079, 0.0), (4080, 0.0), (4082, 0.0), (4083, 0.0), (4084, 0.0), (4085, 0.0), (4086, 0.0), (4087, 0.0), (4097, 0.0), (4101, 0.0), (4102, 0.0), (4104, 0.0), (4107, 0.0), (4108, 0.0), (4109, 0.0), (4110, 0.0), (4111, 0.0), (4113, 0.0), (4115, 0.0), (4117, 0.0), (4126, 0.0), (4129, 0.0), (4135, 0.0), (4136, 0.0), (4137, 0.0), (4139, 0.0), (4140, 0.0), (4147, 0.0), (4149, 0.0), (4151, 0.0), (4152, 0.0), (4156, 0.0), (4157, 0.0), (4160, 0.0), (4161, 0.0), (4166, 0.0), (4167, 0.0), (4168, 0.0), (4170, 0.0), (4172, 0.0), (4173, 0.0), (4175, 0.0), (4179, 0.0), (4180, 0.0), (4182, 0.0), (4183, 0.0), (4190, 0.0), (4191, 0.0), (4196, 0.0), (4197, 0.0), (4198, 0.0), (4200, 0.0), (4201, 0.0), (4204, 0.0), (4205, 0.0), (4206, 0.0), (4207, 0.0), (4209, 0.0), (4212, 0.0), (4213, 0.0), (4214, 0.0), (4215, 0.0), (4218, 0.0), (4220, 0.0), (4222, 0.0), (4223, 0.0), (4225, 0.0), (4228, 0.0), (4229, 0.0), (4230, 0.0), (4237, 0.0), (4239, 0.0), (4243, 0.0), (4250, 0.0), (4252, 0.0), (4253, 0.0), (4256, 0.0), (4258, 0.0), (4260, 0.0), (4266, 0.0), (4269, 0.0), (4270, 0.0), (4271, 0.0), (4273, 0.0), (4277, 0.0), (4278, 0.0), (4280, 0.0), (4287, 0.0), (4291, 0.0), (4295, 0.0), (4296, 0.0), (4297, 0.0), (4298, 0.0), (4300, 0.0), (4301, 0.0), (4302, 0.0), (4303, 0.0), (4305, 0.0), (4306, 0.0), (4308, 0.0), (4311, 0.0), (4315, 0.0), (4316, 0.0), (4317, 0.0), (4318, 0.0), (4319, 0.0), (4323, 0.0), (4326, 0.0), (4330, 0.0), (4332, 0.0), (4333, 0.0), (4336, 0.0), (4340, 0.0), (4341, 0.0), (4343, 0.0), (4346, 0.0), (4347, 0.0), (4348, 0.0), (4350, 0.0), (4351, 0.0), (4352, 0.0), (4354, 0.0), (4355, 0.0), (4357, 0.0), (4358, 0.0), (4361, 0.0), (4363, 0.0), (4364, 0.0), (4367, 0.0), (4368, 0.0), (4370, 0.0), (4372, 0.0), (4381, 0.0), (4382, 0.0), (4385, 0.0), (4386, 0.0), (4388, 0.0), (4391, 0.0), (4394, 0.0), (4395, 0.0), (4397, 0.0), (4400, 0.0), (4401, 0.0), (4407, 0.0), (4408, 0.0), (4413, 0.0), (4414, 0.0), (4415, 0.0), (4417, 0.0), (4418, 0.0), (4420, 0.0), (4421, 0.0), (4422, 0.0), (4423, 0.0), (4434, 0.0), (4437, 0.0), (4446, 0.0), (4448, 0.0), (4449, 0.0), (4452, 0.0), (4455, 0.0), (4457, 0.0), (4458, 0.0), (4461, 0.0), (4463, 0.0), (4467, 0.0), (4471, 0.0), (4472, 0.0), (4473, 0.0), (4476, 0.0), (4478, 0.0), (4479, 0.0), (4480, 0.0), (4483, 0.0), (4484, 0.0), (4485, 0.0), (4487, 0.0), (4489, 0.0), (4492, 0.0), (4496, 0.0), (4497, 0.0), (4499, 0.0), (4500, 0.0), (4501, 0.0), (4505, 0.0), (4506, 0.0), (4507, 0.0), (4508, 0.0), (4511, 0.0), (4516, 0.0), (4520, 0.0), (4521, 0.0), (4525, 0.0), (4528, 0.0), (4529, 0.0), (4530, 0.0), (4532, 0.0), (4535, 0.0), (4536, 0.0), (4538, 0.0), (4539, 0.0), (4540, 0.0), (4541, 0.0), (4544, 0.0), (4545, 0.0), (4547, 0.0), (4555, 0.0), (4556, 0.0), (4558, 0.0), (4560, 0.0), (4561, 0.0), (4565, 0.0), (4566, 0.0), (4567, 0.0), (4569, 0.0), (4570, 0.0), (4571, 0.0), (4572, 0.0), (4578, 0.0), (4580, 0.0), (4584, 0.0), (4588, 0.0), (4592, 0.0), (4594, 0.0), (4596, 0.0), (4599, 0.0), (4602, 0.0), (4603, 0.0), (4604, 0.0), (4607, 0.0), (4611, 0.0), (4613, 0.0), (4616, 0.0), (4620, 0.0), (4622, 0.0), (4625, 0.0), (4632, 0.0), (4633, 0.0), (4634, 0.0), (4635, 0.0), (4636, 0.0), (4638, 0.0), (4641, 0.0), (4643, 0.0), (4644, 0.0), (4645, 0.0), (4650, 0.0), (4651, 0.0), (4652, 0.0), (4654, 0.0), (4657, 0.0), (4667, 0.0), (4668, 0.0), (4671, 0.0), (4672, 0.0), (4675, 0.0), (4680, 0.0), (4681, 0.0), (4685, 0.0), (4686, 0.0), (4687, 0.0), (4693, 0.0), (4694, 0.0), (4696, 0.0), (4700, 0.0), (4702, 0.0), (4704, 0.0), (4706, 0.0), (4711, 0.0), (4713, 0.0), (4714, 0.0), (4717, 0.0), (4718, 0.0), (4719, 0.0), (4720, 0.0), (4729, 0.0), (4730, 0.0), (4732, 0.0), (4734, 0.0), (4736, 0.0), (4744, 0.0), (4745, 0.0), (4748, 0.0), (4749, 0.0), (4750, 0.0), (4751, 0.0), (4753, 0.0), (4755, 0.0), (4756, 0.0), (4758, 0.0)]\n"
          ]
        }
      ]
    },
    {
      "cell_type": "code",
      "source": [
        "print('Top 30 Movies Suggested for you: \\n')\n",
        "\n",
        "i=1\n",
        "\n",
        "for movie in Sorted_Similar_Movies:\n",
        "  index = movie[0]\n",
        "  title_from_index = df[df.index==index]['Movie_Title'].values[0]\n",
        "  if (i<31):\n",
        "    print(i, '.',title_from_index)\n",
        "    i+=1"
      ],
      "metadata": {
        "colab": {
          "base_uri": "https://localhost:8080/"
        },
        "id": "6eUg2aQz7ixf",
        "outputId": "2c9604c8-98e6-4411-f247-714c1eb7f505"
      },
      "execution_count": null,
      "outputs": [
        {
          "output_type": "stream",
          "name": "stdout",
          "text": [
            "Top 30 Movies Suggested for you: \n",
            "\n",
            "1 . Man on a Ledge\n",
            "2 . Purple Violets\n",
            "3 . 15 Minutes\n",
            "4 . Meet Dave\n",
            "5 . Home Alone 2: Lost in New York\n",
            "6 . Appaloosa\n",
            "7 . Pocketful of Miracles\n",
            "8 . The Taking of Pelham 1 2 3\n",
            "9 . One for the Money\n",
            "10 . She's the One\n",
            "11 . The Brothers McMullen\n",
            "12 . Money Train\n",
            "13 . Nowhere to Run\n",
            "14 . Newlyweds\n",
            "15 . The Score\n",
            "16 . Sea of Love\n",
            "17 . Courage Under Fire\n",
            "18 . The Bourne Legacy\n",
            "19 . The Talented Mr. Ripley\n",
            "20 . Sabotage\n",
            "21 . The Next Three Days\n",
            "22 . Pollock\n",
            "23 . Ask Me Anything\n",
            "24 . Dead Man Down\n",
            "25 . Plastic\n",
            "26 . Starsky & Hutch\n",
            "27 . Buffalo Soldiers\n",
            "28 . The Pursuit of D.B. Cooper\n",
            "29 . Heist\n",
            "30 . Congo\n"
          ]
        }
      ]
    },
    {
      "cell_type": "markdown",
      "source": [
        "# **Top 10 Movie Recommendation System**"
      ],
      "metadata": {
        "id": "o-2Dloiz7q7n"
      }
    },
    {
      "cell_type": "code",
      "source": [
        "Movie_Name = input('Enter your favorite movie name:')\n",
        "\n",
        "list_of_all_titles = df['Movie_Title'].tolist()\n",
        "\n",
        "Find_Close_Match = difflib.get_close_matches(Movie_Name, list_of_all_titles)\n",
        "\n",
        "Close_Match = Find_Close_Match[0]\n",
        "\n",
        "Index_of_Movie = df[df.Movie_Title == Close_Match]['Movie_ID'].values[0]\n",
        "\n",
        "Recommendation_Score = list(enumerate(Similarity_Score[Index_of_Movie]))\n",
        "\n",
        "Sorted_Similar_Movies = sorted(Recommendation_Score, key = lambda x:x[1],reverse = True)\n",
        "\n",
        "print('Top 10 Movies Suggested for you :\\n')\n",
        "\n",
        "i = 1\n",
        "\n",
        "for movie in Sorted_Similar_Movies:\n",
        "  index = movie[0]\n",
        "  title_from_index = df[df.Movie_ID==index]['Movie_Title'].values\n",
        "  if (i<11):\n",
        "    print(i, '.',title_from_index)\n",
        "    i+=1"
      ],
      "metadata": {
        "colab": {
          "base_uri": "https://localhost:8080/"
        },
        "id": "Q8CKkWUk74tr",
        "outputId": "e1ff613e-4aae-47ef-a0e3-2d5670422f6a"
      },
      "execution_count": null,
      "outputs": [
        {
          "output_type": "stream",
          "name": "stdout",
          "text": [
            "Enter your favorite movie name:Men of steal\n",
            "Top 10 Movies Suggested for you :\n",
            "\n",
            "1 . ['Man of Steel']\n",
            "2 . ['The Betrayed']\n",
            "3 . ['Evan Almighty']\n",
            "4 . ['Hard Rain']\n",
            "5 . ['Home Alone']\n",
            "6 . ['Someone Like You...']\n",
            "7 . ['About a Boy']\n",
            "8 . ['Brüno']\n",
            "9 . ['The Dead Undead']\n",
            "10 . ['The Count of Monte Cristo']\n"
          ]
        }
      ]
    }
  ]
}